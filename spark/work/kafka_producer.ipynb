{
 "cells": [
  {
   "cell_type": "code",
   "execution_count": 1,
   "id": "4c87f31f-b49f-464c-926c-fa6005f699a0",
   "metadata": {},
   "outputs": [],
   "source": [
    "from confluent_kafka import Producer"
   ]
  },
  {
   "cell_type": "code",
   "execution_count": 2,
   "id": "c4e779d4-ff47-485e-b59d-ed7b5364870e",
   "metadata": {},
   "outputs": [],
   "source": [
    "class ExampleProducer():\n",
    "    broker = \"kafka-broker:9092\"\n",
    "    #topic = \"teste2\"\n",
    "    producer = None\n",
    "\n",
    "    def __init__(self,topic):\n",
    "        self.topic = topic\n",
    "        self.producer = Producer({\n",
    "            'bootstrap.servers': self.broker,\n",
    "            'socket.timeout.ms': 100,\n",
    "            'api.version.request': 'false',\n",
    "            'broker.version.fallback': '0.9.0',\n",
    "        }\n",
    "        )\n",
    "\n",
    "    def delivery_report(self, err, msg):\n",
    "        \"\"\" Called once for each message produced to indicate delivery result.\n",
    "            Triggered by poll() or flush(). \"\"\"\n",
    "        if err is not None:\n",
    "            print('Message delivery failed: {}'.format(err))\n",
    "        else:\n",
    "            print('Message delivered to {} [{}]'.format(\n",
    "                msg.topic(), msg.partition()))\n",
    "\n",
    "    \n",
    "    def send_msg(self, msg):\n",
    "        print(\"Send message asynchronously\")\n",
    "        self.producer.produce(\n",
    "            self.topic,\n",
    "            msg,\n",
    "            callback=lambda err, original_msg=msg: self.delivery_report(err, original_msg\n",
    "                                                                        ),\n",
    "        )\n",
    "        self.producer.flush()\n",
    "\n",
    "  "
   ]
  },
  {
   "cell_type": "code",
   "execution_count": 3,
   "id": "5d2e6d64-2223-4e99-9a23-9e946610a7d7",
   "metadata": {},
   "outputs": [],
   "source": [
    "msg = ExampleProducer('aula')"
   ]
  },
  {
   "cell_type": "code",
   "execution_count": 4,
   "id": "ff3f0b09-4718-489f-a05c-b575b036d1ae",
   "metadata": {},
   "outputs": [
    {
     "data": {
      "text/plain": [
       "__main__.ExampleProducer"
      ]
     },
     "execution_count": 4,
     "metadata": {},
     "output_type": "execute_result"
    }
   ],
   "source": [
    "type(msg)"
   ]
  },
  {
   "cell_type": "code",
   "execution_count": 6,
   "id": "11a1606a-d186-43c3-b269-65bb64353d50",
   "metadata": {},
   "outputs": [
    {
     "name": "stdout",
     "output_type": "stream",
     "text": [
      "Send message asynchronously\n",
      "Message delivered to aula [0]\n"
     ]
    }
   ],
   "source": [
    "msg.send_msg('{\"id\":1,\"nome\":\"aula\"}')"
   ]
  },
  {
   "cell_type": "code",
   "execution_count": null,
   "id": "8bd5faa3-77ab-4751-8aa5-ffc4fa8b3359",
   "metadata": {},
   "outputs": [],
   "source": []
  },
  {
   "cell_type": "code",
   "execution_count": 7,
   "id": "1beeecdb-8cfe-4c4e-b06b-9243b5a1a28d",
   "metadata": {},
   "outputs": [
    {
     "name": "stdout",
     "output_type": "stream",
     "text": [
      "Send message asynchronously\n",
      "Message delivered to aula [0]\n",
      "Send message asynchronously\n",
      "Message delivered to aula [0]\n",
      "Send message asynchronously\n",
      "Message delivered to aula [0]\n",
      "Send message asynchronously\n",
      "Message delivered to aula [0]\n",
      "Send message asynchronously\n",
      "Message delivered to aula [0]\n",
      "Send message asynchronously\n",
      "Message delivered to aula [0]\n",
      "Send message asynchronously\n",
      "Message delivered to aula [0]\n",
      "Send message asynchronously\n",
      "Message delivered to aula [0]\n",
      "Send message asynchronously\n",
      "Message delivered to aula [0]\n",
      "Send message asynchronously\n",
      "Message delivered to aula [0]\n",
      "Send message asynchronously\n",
      "Message delivered to aula [0]\n",
      "Send message asynchronously\n",
      "Message delivered to aula [0]\n",
      "Send message asynchronously\n",
      "Message delivered to aula [0]\n",
      "Send message asynchronously\n",
      "Message delivered to aula [0]\n",
      "Send message asynchronously\n",
      "Message delivered to aula [0]\n",
      "Send message asynchronously\n",
      "Message delivered to aula [0]\n",
      "Send message asynchronously\n",
      "Message delivered to aula [0]\n",
      "Send message asynchronously\n",
      "Message delivered to aula [0]\n",
      "Send message asynchronously\n",
      "Message delivered to aula [0]\n",
      "Send message asynchronously\n",
      "Message delivered to aula [0]\n",
      "Send message asynchronously\n",
      "Message delivered to aula [0]\n",
      "Send message asynchronously\n",
      "Message delivered to aula [0]\n",
      "Send message asynchronously\n",
      "Message delivered to aula [0]\n",
      "Send message asynchronously\n",
      "Message delivered to aula [0]\n",
      "Send message asynchronously\n",
      "Message delivered to aula [0]\n",
      "Send message asynchronously\n",
      "Message delivered to aula [0]\n",
      "Send message asynchronously\n",
      "Message delivered to aula [0]\n",
      "Send message asynchronously\n",
      "Message delivered to aula [0]\n"
     ]
    },
    {
     "ename": "KeyboardInterrupt",
     "evalue": "",
     "output_type": "error",
     "traceback": [
      "\u001b[0;31m---------------------------------------------------------------------------\u001b[0m",
      "\u001b[0;31mKeyboardInterrupt\u001b[0m                         Traceback (most recent call last)",
      "Cell \u001b[0;32mIn[7], line 11\u001b[0m\n\u001b[1;32m      9\u001b[0m j \u001b[38;5;241m=\u001b[39m json\u001b[38;5;241m.\u001b[39mdumps(r\u001b[38;5;241m.\u001b[39mjson())\n\u001b[1;32m     10\u001b[0m example_producer\u001b[38;5;241m.\u001b[39msend_msg(j)\n\u001b[0;32m---> 11\u001b[0m \u001b[43msleep\u001b[49m\u001b[43m(\u001b[49m\u001b[38;5;241;43m10\u001b[39;49m\u001b[43m)\u001b[49m\n",
      "\u001b[0;31mKeyboardInterrupt\u001b[0m: "
     ]
    }
   ],
   "source": [
    "import requests\n",
    "import json\n",
    "from time import sleep\n",
    "\n",
    "example_producer = ExampleProducer('aula')\n",
    "\n",
    "while True:\n",
    "    r = requests.get('https://www.boredapi.com/api/activity/')\n",
    "    j = json.dumps(r.json())\n",
    "    example_producer.send_msg(j)\n",
    "    sleep(10)\n"
   ]
  },
  {
   "cell_type": "code",
   "execution_count": null,
   "id": "a10e0647-169c-4099-881c-29509a6e8336",
   "metadata": {},
   "outputs": [],
   "source": []
  }
 ],
 "metadata": {
  "kernelspec": {
   "display_name": "Python 3 (ipykernel)",
   "language": "python",
   "name": "python3"
  },
  "language_info": {
   "codemirror_mode": {
    "name": "ipython",
    "version": 3
   },
   "file_extension": ".py",
   "mimetype": "text/x-python",
   "name": "python",
   "nbconvert_exporter": "python",
   "pygments_lexer": "ipython3",
   "version": "3.10.8"
  }
 },
 "nbformat": 4,
 "nbformat_minor": 5
}
