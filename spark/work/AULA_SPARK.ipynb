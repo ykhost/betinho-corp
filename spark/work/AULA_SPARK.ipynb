{
 "cells": [
  {
   "cell_type": "markdown",
   "id": "e7d8b0bf-a6ba-46e4-9a50-cd65a48e0ad5",
   "metadata": {},
   "source": [
    "## CRIANDO CONEXÃO"
   ]
  },
  {
   "cell_type": "code",
   "execution_count": 3,
   "id": "3bfb86b5-e2c2-4fd5-96aa-1b967acdb05e",
   "metadata": {},
   "outputs": [],
   "source": [
    "from pyspark.sql import SparkSession\n",
    "spark = SparkSession.builder.appName(\"Aula\").enableHiveSupport().getOrCreate()"
   ]
  },
  {
   "cell_type": "code",
   "execution_count": 4,
   "id": "f8937992-7ce2-4466-8fe0-6d1a3280443a",
   "metadata": {},
   "outputs": [
    {
     "data": {
      "text/html": [
       "\n",
       "            <div>\n",
       "                <p><b>SparkSession - hive</b></p>\n",
       "                \n",
       "        <div>\n",
       "            <p><b>SparkContext</b></p>\n",
       "\n",
       "            <p><a href=\"http://spark-master:4040\">Spark UI</a></p>\n",
       "\n",
       "            <dl>\n",
       "              <dt>Version</dt>\n",
       "                <dd><code>v3.3.1</code></dd>\n",
       "              <dt>Master</dt>\n",
       "                <dd><code>local[*]</code></dd>\n",
       "              <dt>AppName</dt>\n",
       "                <dd><code>Aula</code></dd>\n",
       "            </dl>\n",
       "        </div>\n",
       "        \n",
       "            </div>\n",
       "        "
      ],
      "text/plain": [
       "<pyspark.sql.session.SparkSession at 0x7f6b6e85c820>"
      ]
     },
     "execution_count": 4,
     "metadata": {},
     "output_type": "execute_result"
    }
   ],
   "source": [
    "spark"
   ]
  },
  {
   "cell_type": "markdown",
   "id": "a398a164-6e4b-4bd1-bdc1-c83140e86fbc",
   "metadata": {},
   "source": [
    "## CRIANDO DATAFRAME MANUALMENTE"
   ]
  },
  {
   "cell_type": "code",
   "execution_count": 5,
   "id": "b3ef193e-8bd1-4907-9691-8f1416763de0",
   "metadata": {},
   "outputs": [],
   "source": [
    "df_aluno = spark.createDataFrame([\n",
    "    {\"id\": 1, \"name\": \"Fabio\"},\n",
    "    {\"id\": 2, \"name\": \"Joao\"},\n",
    "    {\"id\": 3, \"name\": \"Fernando\"}\n",
    "])"
   ]
  },
  {
   "cell_type": "code",
   "execution_count": 6,
   "id": "a2c60081-e999-4034-b85a-b4d872ce6641",
   "metadata": {},
   "outputs": [
    {
     "data": {
      "text/plain": [
       "pyspark.sql.dataframe.DataFrame"
      ]
     },
     "execution_count": 6,
     "metadata": {},
     "output_type": "execute_result"
    }
   ],
   "source": [
    "#tipo do objeto\n",
    "type(df_aluno)"
   ]
  },
  {
   "cell_type": "markdown",
   "id": "e87f4cd2-52ec-4fe9-81a4-793e1863ef29",
   "metadata": {},
   "source": [
    "## HELP"
   ]
  },
  {
   "cell_type": "code",
   "execution_count": null,
   "id": "46313f60-6672-4586-b09b-04f5e7242528",
   "metadata": {},
   "outputs": [],
   "source": [
    "help(df_aluno)"
   ]
  },
  {
   "cell_type": "code",
   "execution_count": 7,
   "id": "b3cc9faa-2be4-4bf6-ae71-5b2bf77a3b19",
   "metadata": {},
   "outputs": [],
   "source": [
    "df_aluno.write.json('s3a://raw/aluno')"
   ]
  },
  {
   "cell_type": "markdown",
   "id": "397a1914-9aeb-4b19-a3b5-bc11e6ce0260",
   "metadata": {},
   "source": [
    "## CRIANDO DF A PARTIR DE ARQUIVOS"
   ]
  },
  {
   "cell_type": "code",
   "execution_count": null,
   "id": "be19df8c-7110-4390-ae4a-ca8caf75da4f",
   "metadata": {},
   "outputs": [],
   "source": [
    "#CSV HADOOP"
   ]
  },
  {
   "cell_type": "code",
   "execution_count": null,
   "id": "fa0f2c67-e7e4-43b6-a9e0-04621acd76d8",
   "metadata": {},
   "outputs": [],
   "source": [
    "df_csv = spark.read.csv('/datalake/raw/pessoas',header=True)"
   ]
  },
  {
   "cell_type": "code",
   "execution_count": null,
   "id": "3b770d27-9067-42c7-aaf2-410c7e4c17d4",
   "metadata": {},
   "outputs": [],
   "source": [
    "#JSON HADOOP"
   ]
  },
  {
   "cell_type": "code",
   "execution_count": null,
   "id": "5bcd03f7-445b-4fe9-a516-beb1f31e846d",
   "metadata": {},
   "outputs": [],
   "source": [
    "df_json = spark.read.json('/datalake/raw/user')"
   ]
  },
  {
   "cell_type": "code",
   "execution_count": null,
   "id": "4a9306b8-a002-4835-af4f-359ab0cae9ec",
   "metadata": {},
   "outputs": [],
   "source": [
    "#JSON S3"
   ]
  },
  {
   "cell_type": "code",
   "execution_count": null,
   "id": "0a18ed9f-13b7-4c54-ae16-4908a1519ec4",
   "metadata": {},
   "outputs": [],
   "source": [
    "df_jsons3 = spark.read.json('s3a://camada-bronze/user/')"
   ]
  },
  {
   "cell_type": "code",
   "execution_count": null,
   "id": "918121e5-be30-491d-bf74-4c880dd97d3d",
   "metadata": {},
   "outputs": [],
   "source": [
    "df_teste = spark.read.load(\"/datalake/raw/pessoas\",format=\"csv\", sep=\",\", inferSchema=\"true\", header=\"true\")"
   ]
  },
  {
   "cell_type": "code",
   "execution_count": null,
   "id": "83f4b5e4-add9-4246-9b3f-93cbfa9124bd",
   "metadata": {},
   "outputs": [],
   "source": [
    "#CSV LOCAL\n",
    "df_local = spark.read.csv('file:///home/user/dados.txt',header=True)"
   ]
  },
  {
   "cell_type": "markdown",
   "id": "ff9802d9-e2d0-4c07-ae2d-a0f9aeb2a42c",
   "metadata": {},
   "source": [
    "## CRIANDO DF A PARTIR DE BANCO DE DADOS"
   ]
  },
  {
   "cell_type": "code",
   "execution_count": null,
   "id": "3c724c6d-01f5-430a-9a9a-efb01c87fd1c",
   "metadata": {},
   "outputs": [],
   "source": [
    "url = \"jdbc:postgresql://postgres:5432/dvdrental\"\n",
    "\n",
    "properties = {\n",
    "    \"user\": \"admin\",\n",
    "    \"password\": \"admin\",\n",
    "    \"driver\": \"org.postgresql.Driver\"\n",
    "}"
   ]
  },
  {
   "cell_type": "code",
   "execution_count": null,
   "id": "3dec4296-0658-4163-8d93-7c319298f080",
   "metadata": {},
   "outputs": [],
   "source": [
    "df_city = spark.read.jdbc(url=url,table='public.city',properties=properties)\n",
    "df_county = spark.read.jdbc(url=url,table='public.country',properties=properties)"
   ]
  },
  {
   "cell_type": "code",
   "execution_count": null,
   "id": "b37dbddc-2488-48d5-8e05-4cce2d4034bb",
   "metadata": {},
   "outputs": [],
   "source": [
    "query = '(select c.city_id ,city, country from public.city c \\\n",
    "        inner join public.country c2 \\\n",
    "        on c2.country_id  = c.country_id) as tab '"
   ]
  },
  {
   "cell_type": "code",
   "execution_count": null,
   "id": "0131911c-1e28-4bc6-94e5-c8140bfe7035",
   "metadata": {},
   "outputs": [],
   "source": [
    "df_query = spark.read.jdbc(url=url,table=query,properties=properties)"
   ]
  },
  {
   "cell_type": "markdown",
   "id": "d030d75c-d100-4fb8-b1ee-685fc9250c9b",
   "metadata": {},
   "source": [
    "## AÇÃO E TRANSFORMAÇÃO"
   ]
  },
  {
   "cell_type": "code",
   "execution_count": null,
   "id": "2574c10c-6860-455b-9a67-99a267ff9a43",
   "metadata": {},
   "outputs": [],
   "source": [
    "#AÇÃO\n",
    "df_city.show(10)\n",
    "df_city.count()"
   ]
  },
  {
   "cell_type": "code",
   "execution_count": null,
   "id": "b2c2efda-6ca7-45f9-8617-3512036bc2c4",
   "metadata": {},
   "outputs": [],
   "source": [
    "#TRANSFORMAÇÃO\n",
    "df_city2 = df_city.filter(df_city.country_id == 101).filter(df_city.city.startswith('A'))\n",
    "df_city2.explain(extended=True)"
   ]
  },
  {
   "cell_type": "markdown",
   "id": "b513e537-6074-4884-ba63-994c9a586d5a",
   "metadata": {},
   "source": [
    "## VALIDANDO DATAFRAME"
   ]
  },
  {
   "cell_type": "code",
   "execution_count": null,
   "id": "d450c5d5-663a-4c58-947e-3f6be1e1d62d",
   "metadata": {},
   "outputs": [],
   "source": [
    "#print"
   ]
  },
  {
   "cell_type": "code",
   "execution_count": null,
   "id": "fee03f42-8888-431f-8260-6f55dd94449a",
   "metadata": {},
   "outputs": [],
   "source": [
    "df_city.show(10,truncate=False)"
   ]
  },
  {
   "cell_type": "code",
   "execution_count": null,
   "id": "f8979bda-cd9d-4192-9f04-136a1a652139",
   "metadata": {},
   "outputs": [],
   "source": [
    "#describe"
   ]
  },
  {
   "cell_type": "code",
   "execution_count": null,
   "id": "ef0b70b4-81fd-4b01-aa57-253925c152d1",
   "metadata": {},
   "outputs": [],
   "source": [
    "df_city.describe().show()"
   ]
  },
  {
   "cell_type": "code",
   "execution_count": null,
   "id": "d803a412-9f79-4f28-b6fa-5c1f2c1a5d41",
   "metadata": {},
   "outputs": [],
   "source": [
    "#printSchema"
   ]
  },
  {
   "cell_type": "code",
   "execution_count": null,
   "id": "bba810ae-e862-4d43-93ad-bf180701b6b3",
   "metadata": {},
   "outputs": [],
   "source": [
    "df_city.printSchema()"
   ]
  },
  {
   "cell_type": "code",
   "execution_count": null,
   "id": "768730f1-9bb2-414d-9de7-2561e093e5be",
   "metadata": {},
   "outputs": [],
   "source": [
    "#count()"
   ]
  },
  {
   "cell_type": "code",
   "execution_count": null,
   "id": "b20f996a-0426-424b-bfa4-ad590b166222",
   "metadata": {},
   "outputs": [],
   "source": [
    "df_city.count()"
   ]
  },
  {
   "cell_type": "code",
   "execution_count": null,
   "id": "950f2129-4bd8-4038-b7b7-47af0e5cd826",
   "metadata": {},
   "outputs": [],
   "source": [
    "#sample([withReplacement, fraction, seed])  Returns a sampled subset of this DataFrame.\n",
    "df_city.sample(0.1).show()"
   ]
  },
  {
   "cell_type": "markdown",
   "id": "a5f251d6-fdce-42d3-943b-85c407b4195a",
   "metadata": {},
   "source": [
    "## MANIPULANDO DF"
   ]
  },
  {
   "cell_type": "code",
   "execution_count": null,
   "id": "906e2e57-05ef-4853-a119-bf45cc97b68f",
   "metadata": {},
   "outputs": [],
   "source": [
    "# isEmpty() Returns True if this DataFrame is empty.\n",
    "df_city.isEmpty()"
   ]
  },
  {
   "cell_type": "code",
   "execution_count": null,
   "id": "f52cdbf0-2c36-451f-aba4-42eb025966af",
   "metadata": {},
   "outputs": [],
   "source": [
    "# select(*cols) Projects a set of expressions and returns a new DataFrame.\n",
    "df_city.select('city').show()"
   ]
  },
  {
   "cell_type": "code",
   "execution_count": null,
   "id": "2d10fe49-5fcc-4b5a-8bc0-370310545a15",
   "metadata": {},
   "outputs": [],
   "source": [
    "#orderBy(*cols, **kwargs) Returns a new DataFrame sorted by the specified column(s).\n",
    "#sort(*cols, **kwargs) Returns a new DataFrame sorted by the specified column(s).\n",
    "\n",
    "df_city.orderBy('city',ascending=True).show(5)"
   ]
  },
  {
   "cell_type": "code",
   "execution_count": null,
   "id": "8087ff41-62ff-4f27-ad2e-ad2b6761ac51",
   "metadata": {},
   "outputs": [],
   "source": [
    "from pyspark.sql.functions import desc, asc\n",
    "df_city.orderBy(df_city.city.asc()).show(5)\n",
    "df_city.orderBy(df_city.city.desc()).show(5)"
   ]
  },
  {
   "cell_type": "code",
   "execution_count": null,
   "id": "90a5173f-f19e-416f-ab76-d9f97f8fd2a5",
   "metadata": {},
   "outputs": [],
   "source": [
    "# where e filter\n",
    "df_city.where(df_city.city_id == 1).show(truncate=False)"
   ]
  },
  {
   "cell_type": "code",
   "execution_count": null,
   "id": "fe58956c-2ef6-42aa-8cf3-f42820188ab1",
   "metadata": {},
   "outputs": [],
   "source": [
    "df_city.filter(df_city.city_id == 1).show(truncate=False)"
   ]
  },
  {
   "cell_type": "code",
   "execution_count": null,
   "id": "1cee7306-0c6d-4084-bd1f-8f991020427d",
   "metadata": {},
   "outputs": [],
   "source": [
    "#fillna(value[, subset]) Replace null values, alias for na.fill().\n",
    "df_city.na.fill('').show()"
   ]
  },
  {
   "cell_type": "code",
   "execution_count": null,
   "id": "e4a8de87-e1da-4b0f-95fa-66a52cad5456",
   "metadata": {},
   "outputs": [],
   "source": [
    "# distinct() Returns a new DataFrame containing the distinct rows in this DataFrame.\n",
    "df_city.select('city').distinct().show()"
   ]
  },
  {
   "cell_type": "code",
   "execution_count": null,
   "id": "bf0270b0-9983-4f69-a7da-e893f589cde7",
   "metadata": {},
   "outputs": [],
   "source": [
    "#first() Returns the first row as a Row.\n",
    "df_city.first()\n"
   ]
  },
  {
   "cell_type": "code",
   "execution_count": null,
   "id": "dee6a2e2-0660-4669-813a-dbcd04ebe9d9",
   "metadata": {},
   "outputs": [],
   "source": [
    "#head([n]) Returns the first n rows.\n",
    "df_city.head()\n"
   ]
  },
  {
   "cell_type": "code",
   "execution_count": null,
   "id": "b4965716-aa2a-4db7-95f2-279e733d6272",
   "metadata": {},
   "outputs": [],
   "source": [
    "#limit(num) Limits the result count to the number specified.\n",
    "df_city.limit(5).show()"
   ]
  },
  {
   "cell_type": "code",
   "execution_count": null,
   "id": "dd417001-b706-42b5-8808-d231421d4b98",
   "metadata": {},
   "outputs": [],
   "source": [
    "#tail(num) Returns the last num rows as a list of Row.\n",
    "df_city.tail(5)\n"
   ]
  },
  {
   "cell_type": "code",
   "execution_count": null,
   "id": "579d7c0c-f459-459c-816f-419173b3b9da",
   "metadata": {},
   "outputs": [],
   "source": [
    "#take(num) Returns the first num rows as a list of Row.\n",
    "df_city.take(5)"
   ]
  },
  {
   "cell_type": "code",
   "execution_count": null,
   "id": "66737751-c860-4915-bc10-0e4bb2b8d6f0",
   "metadata": {},
   "outputs": [],
   "source": [
    "# collect() Returns all the records as a list of Row.\n",
    "df_city.collect()"
   ]
  },
  {
   "cell_type": "code",
   "execution_count": null,
   "id": "3c2920e5-17eb-4292-9c87-0b2140e808d3",
   "metadata": {},
   "outputs": [],
   "source": [
    "#groupBy(*cols) Groups the DataFrame using the specified columns, so we can run aggregation on them.\n",
    "df_city.groupby('country_id').count().show()"
   ]
  },
  {
   "cell_type": "code",
   "execution_count": null,
   "id": "0788fb5c-3202-472a-b9e5-854cbb9f8ea6",
   "metadata": {},
   "outputs": [],
   "source": [
    "# agg(*exprs) Aggregate on the entire DataFrame without groups (shorthand for df.groupBy().agg()).\n",
    "df_city \\\n",
    "    .groupby('country_id') \\\n",
    "    .agg({\"country_id\": \"sum\"}) \\\n",
    "    .show(5)"
   ]
  },
  {
   "cell_type": "code",
   "execution_count": null,
   "id": "9f077bae-668b-4a0c-b3f5-3ba02e2eda00",
   "metadata": {},
   "outputs": [],
   "source": [
    "# join inner, cross, outer, full, fullouter, full_outer, left, leftouter, left_outer, right, rightouter, right_outer, semi, leftsemi, left_semi, anti, leftanti and left_anti.\n",
    "df_city.join(df_county,df_city.country_id == df_county.country_id,'inner').show()"
   ]
  },
  {
   "cell_type": "code",
   "execution_count": null,
   "id": "822427ef-7e99-4051-8e16-a3742c4bbb2f",
   "metadata": {},
   "outputs": [],
   "source": [
    "#union\n",
    "df_city.select('country_id').union(df_county.select('country_id')).show(5)"
   ]
  },
  {
   "cell_type": "code",
   "execution_count": null,
   "id": "d583fdfe-1029-45dc-9317-7856dd3bb055",
   "metadata": {},
   "outputs": [],
   "source": [
    "#toDF(*cols) Returns a new DataFrame that with new specified column names\n",
    "#toJSON([use_unicode])\n",
    "#toPandas()\n",
    "df_city.toJSON()\n",
    "p = df_city.toPandas()\n",
    "p\n",
    "\n",
    "\n"
   ]
  },
  {
   "cell_type": "code",
   "execution_count": null,
   "id": "fac7d318-33cf-496b-a732-1811cfeb62e4",
   "metadata": {},
   "outputs": [],
   "source": [
    "#partitions\n",
    "df_city.rdd.getNumPartitions()\n",
    "df_city = df_tab.repartition(2)\n",
    "df_city.rdd.getNumPartitions()\n",
    "#df.rdd.partitions.length()\n",
    "#df.rdd.partitions.size()"
   ]
  },
  {
   "cell_type": "code",
   "execution_count": null,
   "id": "eddd2060-ffd4-4eaa-ad5f-762142aec0f7",
   "metadata": {},
   "outputs": [],
   "source": [
    "# drop(*cols) Returns a new DataFrame without specified columns.\n",
    "df_city.drop('last_update').show()"
   ]
  },
  {
   "cell_type": "code",
   "execution_count": null,
   "id": "5038cfe7-db3c-4bcc-a5f6-723842280275",
   "metadata": {},
   "outputs": [],
   "source": [
    "# dropDuplicates([subset]) Return a new DataFrame with duplicate rows removed, optionally only considering certain columns.\n",
    "df_city.select('city').count()\n",
    "df_city.select('city').dropDuplicates().count()"
   ]
  },
  {
   "cell_type": "code",
   "execution_count": null,
   "id": "b4730759-2676-45e8-ae29-cf3d5f88f37a",
   "metadata": {},
   "outputs": [],
   "source": [
    "# dropna([how, thresh, subset]) Returns a new DataFrame omitting rows with null values.\n",
    "df_city.na.drop().show()"
   ]
  },
  {
   "cell_type": "code",
   "execution_count": null,
   "id": "6d15ea02-c2e7-4607-8167-57d1c448a41b",
   "metadata": {},
   "outputs": [],
   "source": [
    "#withColumn(colName, col) Returns a new DataFrame by adding a column or replacing the existing column that has the same name.\n",
    "from pyspark.sql.functions import monotonically_increasing_id\n",
    "df_city.withColumn('new_id',monotonically_increasing_id()).show(5)"
   ]
  },
  {
   "cell_type": "code",
   "execution_count": null,
   "id": "989435a9-5366-400b-993b-9311bce329c8",
   "metadata": {},
   "outputs": [],
   "source": [
    "#withColumnRenamed(existing, new) Returns a new DataFrame by renaming an existing column.\n",
    "df_city.withColumnRenamed('last_update','updated').show()"
   ]
  },
  {
   "cell_type": "code",
   "execution_count": null,
   "id": "68bf2699-f75b-42f9-ac4f-10ca3e063008",
   "metadata": {},
   "outputs": [],
   "source": [
    "#alterar typo de coluna\n",
    "from pyspark.sql.functions import col\n",
    "from pyspark.sql.types import IntegerType\n",
    "\n",
    "df_aluno.withColumn(\"id\",col(\"id\").cast(IntegerType()))\n",
    "df_aluno.withColumn(\"id\",col(\"id\").cast(\"int\"))\n",
    "df_aluno.withColumn(\"id\",col(\"id\").cast(\"integer\"))"
   ]
  },
  {
   "cell_type": "code",
   "execution_count": null,
   "id": "dd4ae1c1-6332-41f3-8cd4-03c6e6a7b4ca",
   "metadata": {},
   "outputs": [],
   "source": [
    "#foreach(f) Applies the f function to all Row of this DataFrame.\n",
    "#foreachPartition(f) Applies the f function to each partition of this DataFrame.\n",
    "def func(df):\n",
    "    print(df.city)\n",
    "df_city.foreach(func)"
   ]
  },
  {
   "cell_type": "markdown",
   "id": "b8e5e14d-7992-4f1f-8b08-92078c67dc16",
   "metadata": {},
   "source": [
    "## SQL"
   ]
  },
  {
   "cell_type": "code",
   "execution_count": null,
   "id": "80c7ec67-5ea8-4baa-9503-3c289b82b09b",
   "metadata": {},
   "outputs": [],
   "source": [
    "#createOrReplaceGlobalTempView(name) \n",
    "#createOrReplaceTempView(name)\n",
    "#createTempView(name)\n",
    "df_city.createOrReplaceTempView('city')"
   ]
  },
  {
   "cell_type": "code",
   "execution_count": null,
   "id": "ce136230-320c-4b6e-b710-e5f836768f15",
   "metadata": {},
   "outputs": [],
   "source": [
    "spark.sql('select * from city limit 5').show()"
   ]
  },
  {
   "cell_type": "markdown",
   "id": "e01328bf-c8eb-455a-bb8d-9b2fb4a706fb",
   "metadata": {},
   "source": [
    "## PLANO DE EXECUÇÃO"
   ]
  },
  {
   "cell_type": "code",
   "execution_count": null,
   "id": "ac0bd8e5-9a11-4483-906a-73cfb6fdc980",
   "metadata": {},
   "outputs": [],
   "source": [
    "#explain([extended, mode])Prints the (logical and physical) plans to the console for debugging purposes.\n",
    "df_city.explain() "
   ]
  },
  {
   "cell_type": "markdown",
   "id": "900aa649-d1a8-446e-8013-e447156482ca",
   "metadata": {},
   "source": [
    "## TUNNING "
   ]
  },
  {
   "cell_type": "code",
   "execution_count": null,
   "id": "0c74fc8d-b208-44f1-b95a-d98210410921",
   "metadata": {},
   "outputs": [],
   "source": [
    "#HABILITADO DESDE O SPARK 3.2\n",
    "spark.conf.set(\"spark.sql.adaptive.enabled\", \"true\")"
   ]
  },
  {
   "cell_type": "code",
   "execution_count": null,
   "id": "c236b63a-626c-4e13-9bf9-c0221a96f1a9",
   "metadata": {},
   "outputs": [],
   "source": [
    "# cache unionAll unpersist\n",
    "df_city.cache()\n",
    "df_city.persist()\n",
    "df_city.unpersist()"
   ]
  },
  {
   "cell_type": "code",
   "execution_count": null,
   "id": "778bcd7c-4d5d-4664-b8d7-5dce07dfff12",
   "metadata": {},
   "outputs": [],
   "source": [
    "# HINT\n",
    "spark.sql('SELECT /*+ REPARTITION(5) */ * FROM city;').explain()"
   ]
  },
  {
   "cell_type": "code",
   "execution_count": null,
   "id": "947c0d83-510a-44b5-a2a3-1e2017379b9b",
   "metadata": {},
   "outputs": [],
   "source": [
    "# BROADCAST VARIABLE\n",
    "states = {\"NY\":\"New York\", \"CA\":\"California\", \"FL\":\"Florida\"}\n",
    "broadcastStates = spark.sparkContext.broadcast(states)"
   ]
  },
  {
   "cell_type": "markdown",
   "id": "b11f3f22-4d61-4d0b-85fa-e3ad57e20a8a",
   "metadata": {},
   "source": [
    "## SALVANDO DADOS"
   ]
  },
  {
   "cell_type": "code",
   "execution_count": null,
   "id": "b176b1f6-4b13-4418-adbd-5443323644ea",
   "metadata": {},
   "outputs": [],
   "source": [
    "#CSV HADOOP"
   ]
  },
  {
   "cell_type": "code",
   "execution_count": null,
   "id": "a73f85da-0df2-40dd-adb5-4bed6dff6875",
   "metadata": {},
   "outputs": [],
   "source": [
    "df_city.write.csv('/datalake/process/city',header=True,sep=',',mode='overwrite')"
   ]
  },
  {
   "cell_type": "code",
   "execution_count": null,
   "id": "1eec260d-003e-424b-abf6-fba55113e2d9",
   "metadata": {},
   "outputs": [],
   "source": [
    "#CSV S3"
   ]
  },
  {
   "cell_type": "code",
   "execution_count": null,
   "id": "4dfa5b33-8796-4e6d-b5ff-494fd91aa9c9",
   "metadata": {},
   "outputs": [],
   "source": [
    "df_city.write.csv('s3a://camada-prata/city/',mode='overwrite')"
   ]
  },
  {
   "cell_type": "code",
   "execution_count": null,
   "id": "45d92272-4e02-4df8-92f8-a898bcafd497",
   "metadata": {},
   "outputs": [],
   "source": [
    "#JSON"
   ]
  },
  {
   "cell_type": "code",
   "execution_count": null,
   "id": "c7e2ad11-d00f-482d-826c-ac4c800bcc76",
   "metadata": {},
   "outputs": [],
   "source": [
    "df_city.write.json('s3a://camada-prata/city_json/',mode='overwrite')"
   ]
  },
  {
   "cell_type": "code",
   "execution_count": null,
   "id": "fd9be38e-bddd-45ec-987f-b06d6a52e766",
   "metadata": {},
   "outputs": [],
   "source": [
    "#PARQUET"
   ]
  },
  {
   "cell_type": "code",
   "execution_count": null,
   "id": "36cff875-5c89-47f1-8aea-235326ccc199",
   "metadata": {},
   "outputs": [],
   "source": [
    "df_city.write.parquet('s3a://camada-prata/city_parquet/',mode='overwrite')"
   ]
  },
  {
   "cell_type": "code",
   "execution_count": null,
   "id": "b9727a35-43c8-4624-a7b9-879f4777a4ef",
   "metadata": {},
   "outputs": [],
   "source": [
    "spark.sql(\"SELECT * FROM parquet.`s3a://camada-prata/city_parquet/`\").show()"
   ]
  },
  {
   "cell_type": "code",
   "execution_count": null,
   "id": "b6b936ae-9eb6-4a70-bc97-cf7db2d7bc42",
   "metadata": {},
   "outputs": [],
   "source": [
    "#ORC"
   ]
  },
  {
   "cell_type": "code",
   "execution_count": null,
   "id": "9268af9d-eee0-44d7-9082-dc3dbc7d15b2",
   "metadata": {},
   "outputs": [],
   "source": [
    "df_city.write.orc('s3a://camada-prata/city_orc/',mode='overwrite')"
   ]
  },
  {
   "cell_type": "code",
   "execution_count": null,
   "id": "66b19c83-c4ae-4de7-b4d1-b3d792728f18",
   "metadata": {},
   "outputs": [],
   "source": [
    "#DATABASE\n",
    "df_city.write \\\n",
    "    .jdbc(url=url, table='public.df',properties=properties,mode='overwrite')"
   ]
  },
  {
   "cell_type": "markdown",
   "id": "57e50e66-cb97-4db0-b8d8-eb1a4da1f775",
   "metadata": {},
   "source": [
    "## HIVE"
   ]
  },
  {
   "cell_type": "code",
   "execution_count": null,
   "id": "08a4426f-2198-4d55-8f67-9f62718ba302",
   "metadata": {},
   "outputs": [],
   "source": [
    "df_raw = spark.read.json('s3a://camada-bronze/user/')"
   ]
  },
  {
   "cell_type": "code",
   "execution_count": null,
   "id": "c940f275-f32e-4be3-943e-f9ad17eeaa1a",
   "metadata": {},
   "outputs": [],
   "source": [
    "df_final = \\\n",
    "df_raw.select( \\\n",
    "     'address.city' \\\n",
    "    ,'address.coordinates.lat' \\\n",
    "    ,'address.coordinates.lng' \\\n",
    "    ,'address.country' \\\n",
    "    ,'address.state' \\\n",
    "    ,'address.street_address' \\\n",
    "    ,'address.street_name' \\\n",
    "    ,'address.zip_code' \\\n",
    "    ,'avatar' \\\n",
    "    ,'credit_card.cc_number' \\\n",
    "    ,'date_of_birth' \\\n",
    "    ,'email' \\\n",
    "    ,'employment.key_skill' \\\n",
    "    ,'employment.title' \\\n",
    "    ,'first_name' \\\n",
    "    ,'gender' \\\n",
    "    ,'id' \\\n",
    "    ,'last_name' \\\n",
    "    ,'password' \\\n",
    "    ,'phone_number' \\\n",
    "    ,'social_insurance_number' \\\n",
    "    ,'subscription.payment_method' \\\n",
    "    ,'subscription.plan' \\\n",
    "    ,'subscription.status' \\\n",
    "    ,'subscription.term' \\\n",
    "    ,'uid' \\\n",
    "    ,'username' \\\n",
    "             )"
   ]
  },
  {
   "cell_type": "code",
   "execution_count": null,
   "id": "bcddc09c-fdad-41e2-9892-98c56d013c5e",
   "metadata": {},
   "outputs": [],
   "source": [
    "df_final.count()"
   ]
  },
  {
   "cell_type": "code",
   "execution_count": null,
   "id": "ee88dea8-178c-443a-b0f2-3103c20639f2",
   "metadata": {},
   "outputs": [],
   "source": [
    "df_final.write.format('hive').saveAsTable('default.teste3')"
   ]
  },
  {
   "cell_type": "code",
   "execution_count": null,
   "id": "2962e804-c249-433a-a2bb-09c57fb45943",
   "metadata": {},
   "outputs": [],
   "source": [
    "spark.sql(\"show tables from default\").show()"
   ]
  },
  {
   "cell_type": "code",
   "execution_count": null,
   "id": "2809e89c-9fdd-44cd-8383-a4549959c9be",
   "metadata": {},
   "outputs": [],
   "source": [
    "#PARTICIONADO\n",
    "df.write.partitionBy(\"country_id\").format(\"parquet\").save(\"/process/tabpart\")"
   ]
  },
  {
   "cell_type": "markdown",
   "id": "20430bee-4d99-4fac-bd61-f06e77b54911",
   "metadata": {},
   "source": [
    "## DELTA LAKE"
   ]
  },
  {
   "cell_type": "code",
   "execution_count": 1,
   "id": "8a1474e5-4696-48d4-b7d9-bc286f2273ab",
   "metadata": {},
   "outputs": [],
   "source": [
    "import requests\n",
    "import json\n",
    "import pyspark\n",
    "from delta import *\n",
    "\n",
    "builder = pyspark.sql.SparkSession.builder.appName(\"delta\").master(\"spark://spark-master:7077\") \\\n",
    "    .config(\"spark.sql.extensions\", \"io.delta.sql.DeltaSparkSessionExtension\") \\\n",
    "    .config(\"spark.sql.catalog.spark_catalog\", \"org.apache.spark.sql.delta.catalog.DeltaCatalog\") \\\n",
    "    .config(\"spark.sql.extensions\",\"io.delta.sql.DeltaSparkSessionExtension\") \\\n",
    "    .config(\"spark.sql.catalog.spark_catalog\",\"org.apache.spark.sql.delta.catalog.DeltaCatalog\") \\\n",
    "    .config(\"spark.hadoop.fs.s3a.access.key\",\"datalake\") \\\n",
    "    .config(\"spark.hadoop.fs.s3a.secret.key\",\"datalake\") \\\n",
    "    .config(\"spark.hadoop.fs.s3a.endpoint\",\"http://minio:9000\") \\\n",
    "    .config(\"spark.hadoop.fs.s3a.path.style.access\", \"true\") \\\n",
    "    .config(\"spark.hadoop.fs.s3a.impl\", \"org.apache.hadoop.fs.s3a.S3AFileSystem\")\n",
    "\n",
    "spark = configure_spark_with_delta_pip(builder).enableHiveSupport().getOrCreate()"
   ]
  },
  {
   "cell_type": "code",
   "execution_count": 2,
   "id": "998f2573-ec31-4ee0-95d8-8862349298c4",
   "metadata": {},
   "outputs": [],
   "source": [
    "def loadData (qtde):\n",
    "    list = []\n",
    "    for x in range (qtde):\n",
    "        print(x)\n",
    "        r = requests.get('https://random-data-api.com/api/v2/users')\n",
    "        list.append(r.json())\n",
    "        req = spark.read.json(spark.sparkContext.parallelize(list))\n",
    "        req = req.select( \\\n",
    "         'email' \\\n",
    "        ,'first_name' \\\n",
    "        ,'last_name' \\\n",
    "        ,'gender' \\\n",
    "        ,'id' \\\n",
    "        ,'username' \\\n",
    "                 )\n",
    "    return req"
   ]
  },
  {
   "cell_type": "code",
   "execution_count": 5,
   "id": "3ec29260-173b-4d5b-a625-573c6d4cd761",
   "metadata": {},
   "outputs": [
    {
     "name": "stdout",
     "output_type": "stream",
     "text": [
      "0\n",
      "1\n"
     ]
    }
   ],
   "source": [
    "df = loadData(2)"
   ]
  },
  {
   "cell_type": "code",
   "execution_count": 6,
   "id": "05bfa7b8-80df-4392-b429-170066ee9087",
   "metadata": {},
   "outputs": [
    {
     "name": "stdout",
     "output_type": "stream",
     "text": [
      "+-----------------------+----------+---------+----------+----+-------------+\n",
      "|email                  |first_name|last_name|gender    |id  |username     |\n",
      "+-----------------------+----------+---------+----------+----+-------------+\n",
      "|buford.cole@email.com  |Buford    |Cole     |Polygender|1860|buford.cole  |\n",
      "|hal.kertzmann@email.com|Hal       |Kertzmann|Bigender  |4111|hal.kertzmann|\n",
      "+-----------------------+----------+---------+----------+----+-------------+\n",
      "\n"
     ]
    }
   ],
   "source": [
    "df.show(truncate=False)"
   ]
  },
  {
   "cell_type": "code",
   "execution_count": 7,
   "id": "58a32201-c258-4ec5-b533-32c007a821a7",
   "metadata": {},
   "outputs": [],
   "source": [
    "path = 's3a://raw/presto/sales_data_new'"
   ]
  },
  {
   "cell_type": "code",
   "execution_count": 8,
   "id": "3cc34533-d1be-4d48-93d8-1841310f81d8",
   "metadata": {},
   "outputs": [],
   "source": [
    "df = df.select('id')"
   ]
  },
  {
   "cell_type": "code",
   "execution_count": 9,
   "id": "97927aad-ae9f-469d-847f-5cfa68419dda",
   "metadata": {},
   "outputs": [
    {
     "name": "stdout",
     "output_type": "stream",
     "text": [
      "+----+\n",
      "|  id|\n",
      "+----+\n",
      "|1860|\n",
      "|4111|\n",
      "+----+\n",
      "\n"
     ]
    }
   ],
   "source": [
    "df.show()"
   ]
  },
  {
   "cell_type": "code",
   "execution_count": 10,
   "id": "353d05bf-cfa1-4167-bea9-71daeb9df102",
   "metadata": {},
   "outputs": [],
   "source": [
    "#salvando como delta table\n",
    "df.write.format(\"delta\").mode('overwrite').save(path)"
   ]
  },
  {
   "cell_type": "code",
   "execution_count": null,
   "id": "b3554242-7b9f-4b1e-9bf8-055f51eb8fa4",
   "metadata": {},
   "outputs": [],
   "source": [
    "deltaTable = DeltaTable.forPath(spark, path)"
   ]
  },
  {
   "cell_type": "code",
   "execution_count": null,
   "id": "5711fd48-211f-48b7-b25e-0e7371eb8830",
   "metadata": {},
   "outputs": [],
   "source": [
    "type(deltaTable)"
   ]
  },
  {
   "cell_type": "code",
   "execution_count": null,
   "id": "124939f9-3cc3-4ea8-82e7-c4e8ec7ebde1",
   "metadata": {},
   "outputs": [],
   "source": [
    "d = spark.read.format(\"delta\").load(path)"
   ]
  },
  {
   "cell_type": "code",
   "execution_count": null,
   "id": "c8fc1e25-47e9-4427-a88d-6c1d68d754f8",
   "metadata": {},
   "outputs": [],
   "source": [
    "type(d)"
   ]
  },
  {
   "cell_type": "code",
   "execution_count": null,
   "id": "ff54428c-00b3-454a-93f6-2d4455027c2a",
   "metadata": {},
   "outputs": [],
   "source": [
    "deltaTable.toDF().show(truncate=False)"
   ]
  },
  {
   "cell_type": "code",
   "execution_count": null,
   "id": "2eb8e2ca-b694-4fa3-ac53-a3395bf9d45a",
   "metadata": {},
   "outputs": [],
   "source": [
    "### MERGE\n",
    "#NOVOS DADOS\n",
    "raw = loadData(10)"
   ]
  },
  {
   "cell_type": "code",
   "execution_count": null,
   "id": "69c24362-391b-4edd-8ac5-e7a98651f69b",
   "metadata": {},
   "outputs": [],
   "source": [
    "raw.show(truncate=False)"
   ]
  },
  {
   "cell_type": "code",
   "execution_count": null,
   "id": "81a07abb-27a4-4e86-8874-af6feb0bb435",
   "metadata": {},
   "outputs": [],
   "source": [
    "from delta.tables import *\n",
    "from pyspark.sql.functions import *\n",
    "\n",
    "deltaTable.alias(\"process\") \\\n",
    "  .merge(\n",
    "    raw.alias(\"raw\"),\n",
    "    \"process.id = raw.id\") \\\n",
    "  .whenNotMatchedInsert(values = {'email' : col('email') \\\n",
    "                                 ,'first_name' : col('first_name') \\\n",
    "                                 ,'last_name' : col('last_name') \\\n",
    "                                 ,'gender' : col('gender') \\\n",
    "                                 ,'id' : col('id') \\\n",
    "                                 ,'username' : col('username') \\\n",
    "                                 }) \\\n",
    "  .whenMatchedUpdate(set = {'email' : col('raw.email') \\\n",
    "                                 ,'first_name' : col('raw.first_name') \\\n",
    "                                 ,'last_name' : col('raw.last_name') \\\n",
    "                                 ,'gender' : col('raw.gender') \\\n",
    "                                 ,'username' : col('raw.username') \\\n",
    "                                 }) \\\n",
    "  .execute()"
   ]
  },
  {
   "cell_type": "code",
   "execution_count": null,
   "id": "0556d58c-2eb3-468e-8778-22ca78e1060f",
   "metadata": {},
   "outputs": [],
   "source": [
    "deltaTable.toDF().show(truncate=False)"
   ]
  },
  {
   "cell_type": "markdown",
   "id": "301e9198-46a6-482a-a0fe-e7cd8fa9b261",
   "metadata": {},
   "source": [
    "## SPARK SUBMIT"
   ]
  },
  {
   "cell_type": "code",
   "execution_count": null,
   "id": "1d91aff8-05fe-431b-b31e-a6a43c8ac5bb",
   "metadata": {},
   "outputs": [],
   "source": [
    "from pyspark.sql import SparkSession\n",
    "import requests\n",
    "spark = SparkSession.builder.appName(\"Aula\").enableHiveSupport().getOrCreate()\n",
    "def loadData (qtde):\n",
    "    list = []\n",
    "    for x in range (qtde):\n",
    "        print(x)\n",
    "        r = requests.get('https://random-data-api.com/api/v2/users')\n",
    "        list.append(r.json())\n",
    "        req = spark.read.json(spark.sparkContext.parallelize(list))\n",
    "        req = req.select( \\\n",
    "         'email' \\\n",
    "        ,'first_name' \\\n",
    "        ,'last_name' \\\n",
    "        ,'gender' \\\n",
    "        ,'id' \\\n",
    "        ,'username' \\\n",
    "                 )\n",
    "    return req\n",
    "\n",
    "df = loadData(10)\n",
    "df.repartition(1).write.parquet('/datalake/raw/api',mode='append')"
   ]
  },
  {
   "cell_type": "code",
   "execution_count": null,
   "id": "89b255cb-5f1e-4a26-a815-9064c11858ab",
   "metadata": {},
   "outputs": [],
   "source": [
    "#spark-submit --master spark://spark-master:7077 --supervise --executor-memory 1G --total-executor-cores 1 programa.py"
   ]
  },
  {
   "cell_type": "markdown",
   "id": "0a1832aa-22dc-4625-998c-65e15d621ab0",
   "metadata": {},
   "source": [
    "## STREAMING"
   ]
  },
  {
   "cell_type": "code",
   "execution_count": null,
   "id": "f03842df-78f8-4d8a-b939-bcccce752c12",
   "metadata": {},
   "outputs": [],
   "source": [
    "from pyspark.sql.types import  StructType, StructField, StringType, LongType, DoubleType, IntegerType, ArrayType\n",
    "from pyspark.sql.functions import expr, from_json, col, concat\n",
    "from pyspark.sql import Window\n",
    "from pyspark.sql import SparkSession\n",
    "import requests\n",
    "spark = SparkSession.builder.appName(\"Aula\").enableHiveSupport().getOrCreate()"
   ]
  },
  {
   "cell_type": "code",
   "execution_count": null,
   "id": "8bf276c5-611d-406c-9936-6a5a7c44d351",
   "metadata": {},
   "outputs": [],
   "source": [
    "#API\n",
    "#https://www.boredapi.com/api/activity/"
   ]
  },
  {
   "cell_type": "code",
   "execution_count": null,
   "id": "f1b7481f-2c69-4e82-b036-06e761085268",
   "metadata": {},
   "outputs": [],
   "source": [
    "schema = StructType([\n",
    "    StructField(\"activity\", StringType()),\n",
    "    StructField(\"type\", StringType()),\n",
    "    StructField(\"participants\", IntegerType()),\n",
    "    StructField(\"price\",DoubleType()),\n",
    "    StructField(\"link\", StringType()),\n",
    "    StructField(\"key\", StringType()),\n",
    "    StructField(\"accessibility\",DoubleType())])\n",
    "schema"
   ]
  },
  {
   "cell_type": "code",
   "execution_count": null,
   "id": "1911fd46-9ba1-4071-b9c1-9d76c7231347",
   "metadata": {},
   "outputs": [],
   "source": [
    "# Create stream dataframe setting kafka server, topic and offset option\n",
    "df = (spark\n",
    "  .readStream\n",
    "  .format(\"kafka\")\n",
    "  .option(\"kafka.bootstrap.servers\", \"kafka-broker:9092\") # kafka server\n",
    "  .option(\"subscribe\", \"atividade\") # topic\n",
    "  .option(\"startingOffsets\", \"earliest\") # start from beginning \n",
    "  #.option(\"checkpoint\",\"s3a://tmp/checkpoint\")    \n",
    "  .option(\"kafka.group.id\", \"spark3\")\n",
    "  .load() \n",
    "  )"
   ]
  },
  {
   "cell_type": "code",
   "execution_count": null,
   "id": "f7a0c7b2-6d61-4c7f-912f-b741776fccb7",
   "metadata": {},
   "outputs": [],
   "source": [
    "df.isStreaming"
   ]
  },
  {
   "cell_type": "code",
   "execution_count": null,
   "id": "51bfaf96-b668-447d-9b1c-f60bda3ab89b",
   "metadata": {},
   "outputs": [],
   "source": [
    "# Transform to Output DataFrame\n",
    "value_df = df.select(from_json(col(\"value\").cast(\"string\"),schema).alias(\"value\"))"
   ]
  },
  {
   "cell_type": "code",
   "execution_count": null,
   "id": "bc43b66d-17d3-4f16-9883-aca4d73bacde",
   "metadata": {},
   "outputs": [],
   "source": [
    "exploded_df = value_df.selectExpr('value.activity', 'value.type', 'value.participants', 'value.price',\n",
    "                                      'value.price','value.link', 'value.key', 'value.accessibility')"
   ]
  },
  {
   "cell_type": "code",
   "execution_count": null,
   "id": "4a64c9a5-3250-4192-af2f-512a4bb9cede",
   "metadata": {},
   "outputs": [],
   "source": [
    "exploded_df.printSchema()"
   ]
  },
  {
   "cell_type": "code",
   "execution_count": null,
   "id": "cfd0095e-5d93-4725-b06c-590d6e2e23cd",
   "metadata": {},
   "outputs": [],
   "source": [
    "#ESCREVER EM MEMÓRIA\n",
    "rawQuery = exploded_df \\\n",
    "        .writeStream \\\n",
    "        .queryName(\"qraw\")\\\n",
    "        .format(\"memory\")\\\n",
    "        .start()"
   ]
  },
  {
   "cell_type": "code",
   "execution_count": null,
   "id": "e65f2866-2725-41c7-8139-6a502ba2f371",
   "metadata": {},
   "outputs": [],
   "source": [
    "print(type(df))"
   ]
  },
  {
   "cell_type": "code",
   "execution_count": null,
   "id": "3ca17af5-7be5-48b3-8686-f3548b236239",
   "metadata": {},
   "outputs": [],
   "source": [
    "rawQuery.status"
   ]
  },
  {
   "cell_type": "code",
   "execution_count": null,
   "id": "9ec2931f-4caa-4785-9158-97817d04e441",
   "metadata": {},
   "outputs": [],
   "source": [
    "raw = spark.sql(\"select * from qraw\")\n"
   ]
  },
  {
   "cell_type": "code",
   "execution_count": null,
   "id": "5a18af4a-e2fb-4b65-962a-7d4d007bbabe",
   "metadata": {},
   "outputs": [],
   "source": [
    "raw.show(truncate=False)"
   ]
  },
  {
   "cell_type": "code",
   "execution_count": null,
   "id": "21b876fb-1c4c-41c0-80d8-b91741e2fbd6",
   "metadata": {},
   "outputs": [],
   "source": [
    "raw.count()"
   ]
  },
  {
   "cell_type": "code",
   "execution_count": null,
   "id": "02bfdf1f-4417-47dd-ad52-7b46cff69ace",
   "metadata": {},
   "outputs": [],
   "source": [
    "raw.select('*').show()"
   ]
  },
  {
   "cell_type": "code",
   "execution_count": null,
   "id": "f93cb27e-2539-4942-b7eb-683fe889a44c",
   "metadata": {},
   "outputs": [],
   "source": [
    "#ESCREVER EM DISCO\n",
    "output_query = exploded_df.writeStream\\\n",
    "        .format(\"json\")\\\n",
    "        .option(\"path\",\"/datalake/raw/streaming\")\\\n",
    "        .option(\"checkpointLocation\", \"chck-pnt-dir-kh\")\\\n",
    "        .outputMode(\"append\")\\\n",
    "        .queryName(\"SS Writter\")\\\n",
    "        .start()"
   ]
  },
  {
   "cell_type": "code",
   "execution_count": null,
   "id": "0a114515-289b-496a-b3f7-acd89f7e9e05",
   "metadata": {},
   "outputs": [],
   "source": [
    "output_query.awaitTermination()"
   ]
  },
  {
   "cell_type": "code",
   "execution_count": null,
   "id": "0f0b0c1b-6ff7-4124-b19b-ee1391a237e7",
   "metadata": {},
   "outputs": [],
   "source": []
  }
 ],
 "metadata": {
  "kernelspec": {
   "display_name": "Python 3 (ipykernel)",
   "language": "python",
   "name": "python3"
  },
  "language_info": {
   "codemirror_mode": {
    "name": "ipython",
    "version": 3
   },
   "file_extension": ".py",
   "mimetype": "text/x-python",
   "name": "python",
   "nbconvert_exporter": "python",
   "pygments_lexer": "ipython3",
   "version": "3.10.8"
  }
 },
 "nbformat": 4,
 "nbformat_minor": 5
}
