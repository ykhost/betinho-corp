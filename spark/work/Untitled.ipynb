{
 "cells": [
  {
   "cell_type": "code",
   "execution_count": 1,
   "id": "7f860057-7297-4ae6-9243-6e07e182a3b8",
   "metadata": {},
   "outputs": [],
   "source": [
    "import duckdb"
   ]
  },
  {
   "cell_type": "code",
   "execution_count": 4,
   "id": "f4d4c53c-c931-4dc2-baf4-402f63f2930b",
   "metadata": {},
   "outputs": [],
   "source": [
    "con = duckdb.connect('file.db')"
   ]
  },
  {
   "cell_type": "code",
   "execution_count": 6,
   "id": "6becc298-5fad-41b0-95b7-71bcb45d2e99",
   "metadata": {},
   "outputs": [],
   "source": [
    "dados = duckdb.from_csv_auto('Dados.csv')"
   ]
  },
  {
   "cell_type": "code",
   "execution_count": 7,
   "id": "714fc184-449b-48e8-ae19-717e99a2da4f",
   "metadata": {},
   "outputs": [
    {
     "name": "stdout",
     "output_type": "stream",
     "text": [
      "┌────────────┬─────────────────────┬─────────────┬───┬────────────┬─────────────────────┬─────────┐\n",
      "│    date    │      home_team      │  away_team  │ … │    city    │       country       │ neutral │\n",
      "│    date    │       varchar       │   varchar   │   │  varchar   │       varchar       │ boolean │\n",
      "├────────────┼─────────────────────┼─────────────┼───┼────────────┼─────────────────────┼─────────┤\n",
      "│ 1872-11-30 │ Scotland            │ England     │ … │ Glasgow    │ Scotland            │ false   │\n",
      "│ 1873-03-08 │ England             │ Scotland    │ … │ London     │ England             │ false   │\n",
      "│ 1874-03-07 │ Scotland            │ England     │ … │ Glasgow    │ Scotland            │ false   │\n",
      "│ 1875-03-06 │ England             │ Scotland    │ … │ London     │ England             │ false   │\n",
      "│ 1876-03-04 │ Scotland            │ England     │ … │ Glasgow    │ Scotland            │ false   │\n",
      "│ 1876-03-25 │ Scotland            │ Wales       │ … │ Glasgow    │ Scotland            │ false   │\n",
      "│ 1877-03-03 │ England             │ Scotland    │ … │ London     │ England             │ false   │\n",
      "│ 1877-03-05 │ Wales               │ Scotland    │ … │ Wrexham    │ Wales               │ false   │\n",
      "│ 1878-03-02 │ Scotland            │ England     │ … │ Glasgow    │ Scotland            │ false   │\n",
      "│ 1878-03-23 │ Scotland            │ Wales       │ … │ Glasgow    │ Scotland            │ false   │\n",
      "│     ·      │   ·                 │   ·         │ · │    ·       │   ·                 │   ·     │\n",
      "│     ·      │   ·                 │   ·         │ · │    ·       │   ·                 │   ·     │\n",
      "│     ·      │   ·                 │   ·         │ · │    ·       │   ·                 │   ·     │\n",
      "│ 1977-02-06 │ Kenya               │ Egypt       │ … │ Nairobi    │ Kenya               │ false   │\n",
      "│ 1977-02-06 │ Tunisia             │ Algeria     │ … │ Tunis      │ Tunisia             │ false   │\n",
      "│ 1977-02-08 │ Mexico              │ Yugoslavia  │ … │ Monterrey  │ Mexico              │ false   │\n",
      "│ 1977-02-09 │ Bolivia             │ Paraguay    │ … │ Cochabamba │ Bolivia             │ false   │\n",
      "│ 1977-02-09 │ England             │ Netherlands │ … │ London     │ England             │ false   │\n",
      "│ 1977-02-09 │ Republic of Ireland │ Spain       │ … │ Dublin     │ Republic of Ireland │ false   │\n",
      "│ 1977-02-09 │ Peru                │ Hungary     │ … │ Lima       │ Peru                │ false   │\n",
      "│ 1977-02-09 │ Thailand            │ Israel      │ … │ Bangkok    │ Thailand            │ false   │\n",
      "│ 1977-02-09 │ Venezuela           │ Uruguay     │ … │ Caracas    │ Venezuela           │ false   │\n",
      "│ 1977-02-12 │ Australia           │ Israel      │ … │ Melbourne  │ Australia           │ false   │\n",
      "├────────────┴─────────────────────┴─────────────┴───┴────────────┴─────────────────────┴─────────┤\n",
      "│ ? rows (>9999 rows, 20 shown)                                               9 columns (6 shown) │\n",
      "└─────────────────────────────────────────────────────────────────────────────────────────────────┘\n",
      "\n"
     ]
    }
   ],
   "source": [
    "print(dados)"
   ]
  },
  {
   "cell_type": "code",
   "execution_count": 8,
   "id": "31b947ac-7596-4a59-878f-fc0c2f0eab91",
   "metadata": {},
   "outputs": [
    {
     "data": {
      "text/plain": [
       "duckdb.duckdb.DuckDBPyRelation"
      ]
     },
     "execution_count": 8,
     "metadata": {},
     "output_type": "execute_result"
    }
   ],
   "source": [
    "type(dados)"
   ]
  },
  {
   "cell_type": "code",
   "execution_count": 9,
   "id": "692ff57d-7f3e-4d66-96e4-3b7fb0c76559",
   "metadata": {},
   "outputs": [],
   "source": [
    "dados.to_table('dados')"
   ]
  },
  {
   "cell_type": "code",
   "execution_count": 11,
   "id": "f512f7c6-cb78-4e6f-8d6b-5134d6a35be6",
   "metadata": {},
   "outputs": [
    {
     "ename": "BinderException",
     "evalue": "Binder Error: read_csv requires columns to be specified through the 'columns' option. Use read_csv_auto or set read_csv(..., AUTO_DETECT=TRUE) to automatically guess columns.",
     "output_type": "error",
     "traceback": [
      "\u001b[0;31m---------------------------------------------------------------------------\u001b[0m",
      "\u001b[0;31mBinderException\u001b[0m                           Traceback (most recent call last)",
      "Cell \u001b[0;32mIn[11], line 1\u001b[0m\n\u001b[0;32m----> 1\u001b[0m \u001b[43mduckdb\u001b[49m\u001b[38;5;241;43m.\u001b[39;49m\u001b[43msql\u001b[49m\u001b[43m(\u001b[49m\u001b[38;5;124;43m'\u001b[39;49m\u001b[38;5;124;43mCREATE TABLE new_tbl AS SELECT * FROM read_csv(\u001b[39;49m\u001b[38;5;124;43m\"\u001b[39;49m\u001b[38;5;124;43mDados.csv\u001b[39;49m\u001b[38;5;124;43m\"\u001b[39;49m\u001b[38;5;124;43m);\u001b[39;49m\u001b[38;5;124;43m'\u001b[39;49m\u001b[43m)\u001b[49m\n",
      "\u001b[0;31mBinderException\u001b[0m: Binder Error: read_csv requires columns to be specified through the 'columns' option. Use read_csv_auto or set read_csv(..., AUTO_DETECT=TRUE) to automatically guess columns."
     ]
    }
   ],
   "source": [
    "duckdb.sql('CREATE TABLE new_tbl AS SELECT * FROM read_csv(\"Dados.csv\");')"
   ]
  },
  {
   "cell_type": "code",
   "execution_count": null,
   "id": "82b0845a-5d68-49eb-9e0d-78cf26e5818e",
   "metadata": {},
   "outputs": [],
   "source": []
  }
 ],
 "metadata": {
  "kernelspec": {
   "display_name": "Python 3 (ipykernel)",
   "language": "python",
   "name": "python3"
  },
  "language_info": {
   "codemirror_mode": {
    "name": "ipython",
    "version": 3
   },
   "file_extension": ".py",
   "mimetype": "text/x-python",
   "name": "python",
   "nbconvert_exporter": "python",
   "pygments_lexer": "ipython3",
   "version": "3.10.8"
  }
 },
 "nbformat": 4,
 "nbformat_minor": 5
}
