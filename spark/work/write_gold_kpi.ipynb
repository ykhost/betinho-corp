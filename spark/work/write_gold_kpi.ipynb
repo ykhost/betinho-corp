{
 "cells": [
  {
   "cell_type": "code",
   "execution_count": 28,
   "id": "79c0efba-9415-4c4c-aeff-a36d3c1cb6f4",
   "metadata": {},
   "outputs": [],
   "source": [
    "from pyspark.sql import SparkSession\n",
    "jdbc_driver_path = \"/util/jar/postgresql-42.5.1.jar\""
   ]
  },
  {
   "cell_type": "code",
   "execution_count": 31,
   "id": "bf471d15-053c-4314-a379-09beca89718c",
   "metadata": {},
   "outputs": [],
   "source": [
    "spark = SparkSession.builder \\\n",
    "    .appName(\"Escrita no PostgreSQL\") \\\n",
    "    .config(\"spark.jars\", jdbc_driver_path) \\\n",
    "    .getOrCreate()\n",
    "\n",
    "url = \"jdbc:postgresql://db:5432/admin\"\n",
    "properties = {\n",
    "    \"user\": \"admin\",\n",
    "    \"password\": \"admin\",\n",
    "    \"driver\": \"org.postgresql.Driver\"\n",
    "}\n",
    "tabela = \"PR_VL_MD_TO_CGDA\"\n",
    "\n"
   ]
  },
  {
   "cell_type": "code",
   "execution_count": 17,
   "id": "5fcede7f-635a-4ef6-8fb6-2177143bf0ca",
   "metadata": {},
   "outputs": [],
   "source": [
    "from pyspark.sql import SparkSession\n",
    "from pyspark.sql.functions import explode, percentile_approx\n",
    "\n",
    "spark = (SparkSession.builder\n",
    "             .appName('lab') # Name the app\n",
    "             .config(\"hive.metastore.uris\", \"thrift://metastore:9083\") # Set external Hive Metastore\n",
    "             .config(\"hive.metastore.schema.verification\", \"false\") # Prevent some errors\n",
    "             .config(\"spark.sql.repl.eagerEval.enabled\", True)\n",
    "             .config('spark.sql.extensions','io.delta.sql.DeltaSparkSessionExtension') \\\n",
    "            .config('spark.sql.catalog.spark_catalog','org.apache.spark.sql.delta.catalog.DeltaCatalog') \\\n",
    "             .enableHiveSupport()\n",
    "             .getOrCreate())"
   ]
  },
  {
   "cell_type": "code",
   "execution_count": 2,
   "id": "408d0c2a-582a-4764-952c-6e86165218ef",
   "metadata": {},
   "outputs": [
    {
     "name": "stdout",
     "output_type": "stream",
     "text": [
      "+---------+\n",
      "|namespace|\n",
      "+---------+\n",
      "|  default|\n",
      "|    teste|\n",
      "+---------+\n",
      "\n"
     ]
    }
   ],
   "source": [
    "spark.sql(\"SHOW DATABASES\").show()"
   ]
  },
  {
   "cell_type": "code",
   "execution_count": 5,
   "id": "0f75270b-546c-41d4-ac8c-471357c008fa",
   "metadata": {},
   "outputs": [],
   "source": [
    "trusted_path_previsao_chegada = 's3a://trusted/previsao_chegada'"
   ]
  },
  {
   "cell_type": "code",
   "execution_count": 6,
   "id": "a845da4b-1bf1-48d3-b9f4-d4abac5807cc",
   "metadata": {},
   "outputs": [],
   "source": [
    "df_previsao_chegada = spark.read.format('delta').load(trusted_path_previsao_chegada)"
   ]
  },
  {
   "cell_type": "code",
   "execution_count": 7,
   "id": "49f55d7d-0eda-4ced-ae41-78481fdb7d12",
   "metadata": {},
   "outputs": [
    {
     "name": "stdout",
     "output_type": "stream",
     "text": [
      "+-------------+---------+-----------------------+---------------+------------+----------+-------------------+-------------------+------------------+--------------+\n",
      "|dat_ref_carga|id_parada|horario_previsto_cheada|PREFIXO_VEICULO|latitude_loc|longtitude|   LATITUDE_VEICULO|  LONGITUDE_VEICULO|      distancia_km|diff_in_minute|\n",
      "+-------------+---------+-----------------------+---------------+------------+----------+-------------------+-------------------+------------------+--------------+\n",
      "|        20:47|360004796|                  20:53|          31943|  -46.444853|-23.513681| -46.46042166666666| -23.51553333333333|1.7369629819857777|           6.0|\n",
      "|        20:47|360004796|                  21:03|          31936|  -46.444853|-23.513681|-46.485756666666674|-23.515643333333333| 4.550762764692933|          16.0|\n",
      "|        20:47|360004796|                  21:04|          31840|  -46.444853|-23.513681|-46.490275000000004|         -23.515145| 5.051940356784393|          17.0|\n",
      "|        20:47|360004796|                  21:08|          31932|  -46.444853|-23.513681| -46.50167166666667|-23.512968333333333| 6.318183183078207|          21.0|\n",
      "|        20:47|360004796|                  21:29|          31086|  -46.444853|-23.513681| -46.56094666666666| -23.53769666666667|13.039231985971544|          42.0|\n",
      "|        20:47|360004796|                  21:29|          31229|  -46.444853|-23.513681| -46.56203666666667|-23.537944999999997|13.161900976473966|          42.0|\n",
      "|        20:47|360004796|                  21:33|          31839|  -46.444853|-23.513681| -46.57630166666666|-23.540928333333333|14.764406694922435|          46.0|\n",
      "|        20:47|360004796|                  21:42|          31931|  -46.444853|-23.513681|          -46.60569|-23.549889999999998| 18.09753319274707|          55.0|\n",
      "|        20:47|350002418|                  21:01|          31937|  -46.391151|-23.502355| -46.41938666666667|-23.494115000000004|3.2026012181605976|          14.0|\n",
      "|        20:47|350002418|                  21:03|          31847|  -46.391151|-23.502355|-46.421238333333335| -23.49425833333333| 3.402668957701603|          16.0|\n",
      "|        20:47|350002418|                  21:10|          31817|  -46.391151|-23.502355|-46.438185000000004|-23.494744999999998| 5.262380106565737|          23.0|\n",
      "|        20:47|350002418|                  21:28|          31943|  -46.391151|-23.502355| -46.46042166666666| -23.51553333333333| 7.768491364899536|          41.0|\n",
      "|        20:47|350002418|                  21:37|          31936|  -46.391151|-23.502355|-46.485756666666674|-23.515643333333333|10.568836888124252|          50.0|\n",
      "|        20:47|350002418|                  21:39|          31840|  -46.391151|-23.502355|-46.490275000000004|         -23.515145|11.065570107630375|          52.0|\n",
      "|        20:47|350002418|                  21:43|          31932|  -46.391151|-23.502355| -46.50167166666667|-23.512968333333333| 12.31621063701169|          56.0|\n",
      "|        20:47|350002418|                  22:04|          31086|  -46.391151|-23.502355| -46.56094666666666| -23.53769666666667| 19.07338863735889|          17.0|\n",
      "|        20:47|350002418|                  22:04|          31229|  -46.391151|-23.502355| -46.56203666666667|-23.537944999999997| 19.19605921873686|          17.0|\n",
      "|        20:47|350002418|                  22:08|          31839|  -46.391151|-23.502355| -46.57630166666666|-23.540928333333333|20.798565728716856|          21.0|\n",
      "|        20:47|350002418|                  22:17|          31931|  -46.391151|-23.502355|          -46.60569|-23.549889999999998| 24.13152770635595|          30.0|\n",
      "|        20:47| 80014580|                  20:52|          31931|  -46.589425|-23.543817|          -46.60569|-23.549889999999998|1.8671580884546701|           5.0|\n",
      "+-------------+---------+-----------------------+---------------+------------+----------+-------------------+-------------------+------------------+--------------+\n",
      "only showing top 20 rows\n",
      "\n"
     ]
    }
   ],
   "source": [
    "df_previsao_chegada.show()"
   ]
  },
  {
   "cell_type": "code",
   "execution_count": 11,
   "id": "6586865c-1f30-4a2c-9f37-adcc6f47e284",
   "metadata": {},
   "outputs": [],
   "source": [
    "df_insight_velocidade = df_previsao_chegada.withColumn(\"velocidade_para_chegar\", (col(\"distancia_km\") * 60) / col(\"diff_in_minute\"))"
   ]
  },
  {
   "cell_type": "code",
   "execution_count": 21,
   "id": "da415640-914a-44e3-a3e5-7e2cd2340204",
   "metadata": {},
   "outputs": [
    {
     "data": {
      "text/html": [
       "<table border='1'>\n",
       "<tr><th>id_parada</th><th>media_velocidade</th></tr>\n",
       "<tr><td>1010076</td><td>191.9065847677062</td></tr>\n",
       "<tr><td>1410076</td><td>49.323195284355265</td></tr>\n",
       "<tr><td>1506163</td><td>121.39152707090088</td></tr>\n",
       "<tr><td>3514897</td><td>73.94280743889519</td></tr>\n",
       "<tr><td>4203724</td><td>105.86262687488104</td></tr>\n",
       "<tr><td>5614544</td><td>99.42775294780941</td></tr>\n",
       "<tr><td>5614560</td><td>130.09091261999896</td></tr>\n",
       "<tr><td>5614562</td><td>79.85953522343779</td></tr>\n",
       "<tr><td>6009703</td><td>243.49736473422357</td></tr>\n",
       "<tr><td>7014417</td><td>285.96742041965507</td></tr>\n",
       "<tr><td>7203285</td><td>332.5806932220917</td></tr>\n",
       "<tr><td>7608527</td><td>1107.753522180444</td></tr>\n",
       "<tr><td>8103045</td><td>47.80124121329188</td></tr>\n",
       "<tr><td>8210206</td><td>42.43319224700467</td></tr>\n",
       "<tr><td>60012951</td><td>46.60324237642069</td></tr>\n",
       "<tr><td>60016784</td><td>168.66916467373255</td></tr>\n",
       "<tr><td>70016561</td><td>48.26912592838366</td></tr>\n",
       "<tr><td>80014597</td><td>159.26654533625805</td></tr>\n",
       "<tr><td>100014589</td><td>195.55237691134352</td></tr>\n",
       "<tr><td>220015547</td><td>46.26396390987547</td></tr>\n",
       "</table>\n",
       "only showing top 20 rows\n"
      ],
      "text/plain": [
       "+---------+------------------+\n",
       "|id_parada|  media_velocidade|\n",
       "+---------+------------------+\n",
       "|  1010076| 191.9065847677062|\n",
       "|  1410076|49.323195284355265|\n",
       "|  1506163|121.39152707090088|\n",
       "|  3514897| 73.94280743889519|\n",
       "|  4203724|105.86262687488104|\n",
       "|  5614544| 99.42775294780941|\n",
       "|  5614560|130.09091261999896|\n",
       "|  5614562| 79.85953522343779|\n",
       "|  6009703|243.49736473422357|\n",
       "|  7014417|285.96742041965507|\n",
       "|  7203285| 332.5806932220917|\n",
       "|  7608527| 1107.753522180444|\n",
       "|  8103045| 47.80124121329188|\n",
       "|  8210206| 42.43319224700467|\n",
       "| 60012951| 46.60324237642069|\n",
       "| 60016784|168.66916467373255|\n",
       "| 70016561| 48.26912592838366|\n",
       "| 80014597|159.26654533625805|\n",
       "|100014589|195.55237691134352|\n",
       "|220015547| 46.26396390987547|\n",
       "+---------+------------------+\n",
       "only showing top 20 rows"
      ]
     },
     "execution_count": 21,
     "metadata": {},
     "output_type": "execute_result"
    }
   ],
   "source": [
    "from pyspark.sql.functions import percentile_approx\n",
    "df_insight_velocidade.filter(\"velocidade_para_chegar > 40\").groupBy(\"id_parada\").agg(percentile_approx(\"velocidade_para_chegar\", 0.5).alias(\"media_velocidade\"))"
   ]
  },
  {
   "cell_type": "code",
   "execution_count": 26,
   "id": "7d0b8fcf-0c5f-436e-8b0a-cd2ded89f968",
   "metadata": {},
   "outputs": [
    {
     "data": {
      "text/html": [
       "<table border='1'>\n",
       "<tr><th></th></tr>\n",
       "</table>\n"
      ],
      "text/plain": [
       "++\n",
       "||\n",
       "++\n",
       "++"
      ]
     },
     "execution_count": 26,
     "metadata": {},
     "output_type": "execute_result"
    }
   ],
   "source": [
    "spark.sql(\"CREATE DATABASE IF NOT EXISTS SPTRANS\")"
   ]
  },
  {
   "cell_type": "code",
   "execution_count": 27,
   "id": "959288f1-bd52-41aa-a6d5-eabe01cd58d4",
   "metadata": {},
   "outputs": [],
   "source": [
    "df_insight_velocidade.write.mode(\"overwrite\").saveAsTable(\"SPTRANS.PR_VL_MD_TO_CGDA\")"
   ]
  },
  {
   "cell_type": "code",
   "execution_count": 32,
   "id": "67670e69-edf4-470f-b78f-02dd389a8307",
   "metadata": {},
   "outputs": [],
   "source": [
    "df_insight_velocidade.write.jdbc(url=url, table=tabela, mode=\"overwrite\", properties=properties)"
   ]
  },
  {
   "cell_type": "code",
   "execution_count": null,
   "id": "ba988f50-91cd-4ddb-b49d-8b3b22a7e104",
   "metadata": {},
   "outputs": [],
   "source": []
  }
 ],
 "metadata": {
  "kernelspec": {
   "display_name": "Python 3 (ipykernel)",
   "language": "python",
   "name": "python3"
  },
  "language_info": {
   "codemirror_mode": {
    "name": "ipython",
    "version": 3
   },
   "file_extension": ".py",
   "mimetype": "text/x-python",
   "name": "python",
   "nbconvert_exporter": "python",
   "pygments_lexer": "ipython3",
   "version": "3.10.8"
  }
 },
 "nbformat": 4,
 "nbformat_minor": 5
}
