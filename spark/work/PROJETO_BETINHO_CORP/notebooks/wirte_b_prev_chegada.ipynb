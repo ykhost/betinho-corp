{
 "cells": [
  {
   "cell_type": "code",
   "execution_count": 1,
   "id": "c1829174-ef8b-4003-98a8-dcefabe49a22",
   "metadata": {},
   "outputs": [],
   "source": [
    "from pyspark.sql import SparkSession\n",
    "spark = SparkSession.builder \\\n",
    "    .appName('User Raw to Trusted') \\\n",
    "    .config('spark.sql.extensions','io.delta.sql.DeltaSparkSessionExtension') \\\n",
    "    .config('spark.sql.catalog.spark_catalog','org.apache.spark.sql.delta.catalog.DeltaCatalog') \\\n",
    "    .getOrCreate()"
   ]
  },
  {
   "cell_type": "code",
   "execution_count": 2,
   "id": "4e48ddc0-59b0-4605-b1f6-614550439867",
   "metadata": {},
   "outputs": [
    {
     "name": "stdout",
     "output_type": "stream",
     "text": [
      "Collecting boto3\n",
      "  Downloading boto3-1.35.26-py3-none-any.whl (139 kB)\n",
      "\u001b[2K     \u001b[90m━━━━━━━━━━━━━━━━━━━━━━━━━━━━━━━━━━━━━━━\u001b[0m \u001b[32m139.1/139.1 kB\u001b[0m \u001b[31m2.3 MB/s\u001b[0m eta \u001b[36m0:00:00\u001b[0ma \u001b[36m0:00:01\u001b[0m\n",
      "\u001b[?25hCollecting jmespath<2.0.0,>=0.7.1\n",
      "  Using cached jmespath-1.0.1-py3-none-any.whl (20 kB)\n",
      "Collecting s3transfer<0.11.0,>=0.10.0\n",
      "  Using cached s3transfer-0.10.2-py3-none-any.whl (82 kB)\n",
      "Collecting botocore<1.36.0,>=1.35.26\n",
      "  Downloading botocore-1.35.26-py3-none-any.whl (12.6 MB)\n",
      "\u001b[2K     \u001b[90m━━━━━━━━━━━━━━━━━━━━━━━━━━━━━━━━━━━━━━━━\u001b[0m \u001b[32m12.6/12.6 MB\u001b[0m \u001b[31m8.6 MB/s\u001b[0m eta \u001b[36m0:00:00\u001b[0m:00:01\u001b[0m00:01\u001b[0m\n",
      "\u001b[?25hRequirement already satisfied: python-dateutil<3.0.0,>=2.1 in /opt/conda/lib/python3.10/site-packages (from botocore<1.36.0,>=1.35.26->boto3) (2.8.2)\n",
      "Requirement already satisfied: urllib3!=2.2.0,<3,>=1.25.4 in /opt/conda/lib/python3.10/site-packages (from botocore<1.36.0,>=1.35.26->boto3) (1.26.13)\n",
      "Requirement already satisfied: six>=1.5 in /opt/conda/lib/python3.10/site-packages (from python-dateutil<3.0.0,>=2.1->botocore<1.36.0,>=1.35.26->boto3) (1.16.0)\n",
      "Installing collected packages: jmespath, botocore, s3transfer, boto3\n",
      "Successfully installed boto3-1.35.26 botocore-1.35.26 jmespath-1.0.1 s3transfer-0.10.2\n"
     ]
    }
   ],
   "source": [
    "!pip install boto3"
   ]
  },
  {
   "cell_type": "code",
   "execution_count": 3,
   "id": "620bde16-f50c-4a9c-8e7b-c6e978551e0b",
   "metadata": {},
   "outputs": [],
   "source": [
    "import json\n",
    "import boto3\n",
    "from botocore.client import Config\n",
    "from botocore.exceptions import NoCredentialsError\n",
    "from io import BytesIO\n",
    "import time\n",
    "\n",
    "\n",
    "def upload_json_to_minio(data, bucket, object_name, path_save):\n",
    "    # Configurar o cliente boto3 para MinIO\n",
    "    s3_client = boto3.client(\n",
    "        's3',\n",
    "        endpoint_url='http://minio:9000',  # Altere para o endpoint do seu MinIO\n",
    "        aws_access_key_id='datalake',        # Altere para sua chave de acesso do MinIO\n",
    "        aws_secret_access_key='datalake',    # Altere para sua chave secreta do MinIO\n",
    "    )\n",
    "\n",
    "    try:\n",
    "        print(\"Serializar o conteúdo JSON e convertê-lo para bytes\")\n",
    "        json_bytes = json.dumps(data).encode('utf-8')\n",
    "\n",
    "        print(\"Criar um buffer de bytes para simular um arquivo\")\n",
    "        json_buffer = BytesIO(json_bytes)\n",
    "\n",
    "        # Upload do \"arquivo\" JSON para o MinIO\n",
    "        s3_client.upload_fileobj(\n",
    "            json_buffer,\n",
    "            bucket,\n",
    "            path_save\n",
    "         )\n",
    "        print(f'Arquivo JSON foi carregado com sucesso no bucket {bucket}, objeto: {object_name}')\n",
    "        time.sleep(0.4)\n",
    "    except NoCredentialsError:\n",
    "        print(\"Credenciais não encontradas\")"
   ]
  },
  {
   "cell_type": "code",
   "execution_count": 4,
   "id": "8ea6d445-8f58-4661-8e29-c372add3c61c",
   "metadata": {},
   "outputs": [],
   "source": [
    "import requests\n",
    "from pyspark.sql.functions import udf\n",
    "from http.cookiejar import LWPCookieJar\n",
    "import datetime\n",
    "\n",
    "post_auth = \"http://api.olhovivo.sptrans.com.br/v2.1/Login/Autenticar?token=d3f026bb74699c88e75ef5a7e71cf1181e70cd26cb93b8b31038c9df15ba2f61\"\n",
    "session = requests.Session()\n",
    "session.post(post_auth)\n",
    "\n",
    "def fetch_data(id_linha):\n",
    "    url = \"http://api.olhovivo.sptrans.com.br/v2.1/Login/Autenticar?token=d3f026bb74699c88e75ef5a7e71cf1181e70cd26cb93b8b31038c9df15ba2f61\"\n",
    "    session = requests.Session()\n",
    "    response = session.post(url)\n",
    "    \n",
    "    if response.status_code == 200:\n",
    "        cookies = response.cookies\n",
    "        \n",
    "        endpoint = \"http://api.olhovivo.sptrans.com.br/v2.1/Previsao/Linha?\"\n",
    "        params = {\n",
    "            \"codigoLinha\": id_linha,\n",
    "        }\n",
    "        response = session.get(endpoint, params=params, cookies=cookies)\n",
    "\n",
    "        time = datetime.datetime.now()\n",
    "        bucket = \"raw\"\n",
    "        name_file = f\"previsao_chegada_{time}.json\"\n",
    "        caminho_de_salvar = f\"/previsao_chegada/{name_file}\"\n",
    "\n",
    "        upload_json_to_minio(\n",
    "            data=response.json(), \n",
    "            bucket=bucket, \n",
    "            object_name=name_file, \n",
    "            path_save=caminho_de_salvar\n",
    "        )\n",
    "        \n",
    "        return True  # assuming API returns a list of records\n",
    "    else:\n",
    "        print(\"NAODEUCERTO\")"
   ]
  },
  {
   "cell_type": "code",
   "execution_count": 5,
   "id": "7501f4b9-f55f-4fbc-8162-905afac9623e",
   "metadata": {},
   "outputs": [],
   "source": [
    "trusted_path_posicao_veiculo = 's3a://trusted/posicao_veiculo'"
   ]
  },
  {
   "cell_type": "code",
   "execution_count": 6,
   "id": "4d55064f-e704-473d-a894-6a903c1a6191",
   "metadata": {},
   "outputs": [],
   "source": [
    "df_posicao_to_previsao = spark.read.format('delta').load(trusted_path_posicao_veiculo)"
   ]
  },
  {
   "cell_type": "code",
   "execution_count": 7,
   "id": "ef4a3368-504c-47e8-bebf-26ca2bb340c6",
   "metadata": {},
   "outputs": [],
   "source": [
    "from pyspark.sql.functions import col, udf  \n",
    "convertUDF = udf(lambda id: fetch_data(id))\n",
    "df_previsao_responde2 = df_posicao_to_previsao.select(\"ID_LINHA\").distinct()\n",
    "df_previsao_responde = df_previsao_responde2.withColumn(\"response\", convertUDF(col(\"id_linha\")))"
   ]
  },
  {
   "cell_type": "code",
   "execution_count": null,
   "id": "8c06fe38-f28f-4325-9c4c-07372b774ecb",
   "metadata": {},
   "outputs": [],
   "source": [
    "df_previsao_responde.show()"
   ]
  },
  {
   "cell_type": "code",
   "execution_count": null,
   "id": "1584fd5d-a655-454a-8ed5-9486b6ac3618",
   "metadata": {},
   "outputs": [],
   "source": []
  }
 ],
 "metadata": {
  "kernelspec": {
   "display_name": "Python 3 (ipykernel)",
   "language": "python",
   "name": "python3"
  },
  "language_info": {
   "codemirror_mode": {
    "name": "ipython",
    "version": 3
   },
   "file_extension": ".py",
   "mimetype": "text/x-python",
   "name": "python",
   "nbconvert_exporter": "python",
   "pygments_lexer": "ipython3",
   "version": "3.10.8"
  }
 },
 "nbformat": 4,
 "nbformat_minor": 5
}
