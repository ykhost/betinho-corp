{
 "cells": [
  {
   "cell_type": "code",
   "execution_count": 69,
   "id": "79c0efba-9415-4c4c-aeff-a36d3c1cb6f4",
   "metadata": {},
   "outputs": [],
   "source": [
    "from pyspark.sql import SparkSession\n",
    "jdbc_driver_path = \"/util/jar/postgresql-42.5.1.jar\""
   ]
  },
  {
   "cell_type": "code",
   "execution_count": 66,
   "id": "bf471d15-053c-4314-a379-09beca89718c",
   "metadata": {},
   "outputs": [],
   "source": [
    "# spark = SparkSession.builder \\\n",
    "#     .appName(\"Escrita no PostgreSQL\") \\\n",
    "#     .config(\"spark.jars\", jdbc_driver_path) \\\n",
    "#     .getOrCreate()\n",
    "\n",
    "url = \"jdbc:postgresql://db:5432/SPTRANS\"\n",
    "properties = {\n",
    "    \"user\": \"admin\",\n",
    "    \"password\": \"admin\",\n",
    "    \"driver\": \"org.postgresql.Driver\"\n",
    "}"
   ]
  },
  {
   "cell_type": "code",
   "execution_count": 3,
   "id": "b1e50729-8b46-49d4-872d-02e328064537",
   "metadata": {},
   "outputs": [],
   "source": [
    "from pyspark.sql import SparkSession\n",
    "from pyspark.sql.functions import explode, col\n",
    "\n",
    "spark = SparkSession.builder \\\n",
    "    .appName('GOLD_PREV_CHEGADA') \\\n",
    "    .config('spark.sql.extensions','io.delta.sql.DeltaSparkSessionExtension') \\\n",
    "    .config('spark.sql.catalog.spark_catalog','org.apache.spark.sql.delta.catalog.DeltaCatalog') \\\n",
    "    .config(\"spark.jars\", jdbc_driver_path) \\\n",
    "    .getOrCreate()"
   ]
  },
  {
   "cell_type": "code",
   "execution_count": 4,
   "id": "0f75270b-546c-41d4-ac8c-471357c008fa",
   "metadata": {},
   "outputs": [],
   "source": [
    "trusted_path_previsao_chegada = 's3a://trusted/previsao_chegada'\n",
    "trusted_path_posicao_veiculo = 's3a://trusted/posicao_veiculo'"
   ]
  },
  {
   "cell_type": "code",
   "execution_count": 54,
   "id": "a845da4b-1bf1-48d3-b9f4-d4abac5807cc",
   "metadata": {},
   "outputs": [],
   "source": [
    "df_previsao_chegada = spark.read.format('delta').load(trusted_path_previsao_chegada)\n",
    "df_posicao_veiculo = spark.read.format('delta').load(trusted_path_posicao_veiculo).select(\"ID_LINHA\", \"LETREIRO_LINHA\", \"LETREIRO_DESTINO_LINHA\", \"LETREIRO_ORIGEM_LINHA\", \"ID_VEICULO\").distinct()"
   ]
  },
  {
   "cell_type": "code",
   "execution_count": 55,
   "id": "5af380e8-53b1-43b4-a354-5b5b5ee15ad4",
   "metadata": {},
   "outputs": [
    {
     "name": "stdout",
     "output_type": "stream",
     "text": [
      "+-------------+---------+-----------+-----------------------+---------------+------------+----------+-------------------+-------------------+------------------+\n",
      "|dat_ref_carga|id_parada|nome_parada|horario_previsto_cheada|PREFIXO_VEICULO|latitude_loc|longtitude|   LATITUDE_VEICULO|  LONGITUDE_VEICULO|      distancia_km|\n",
      "+-------------+---------+-----------+-----------------------+---------------+------------+----------+-------------------+-------------------+------------------+\n",
      "|        20:47|360004796|       null|                  20:53|          31943|  -46.444853|-23.513681| -46.46042166666666| -23.51553333333333|1.7369629819857777|\n",
      "|        20:47|360004796|       null|                  21:03|          31936|  -46.444853|-23.513681|-46.485756666666674|-23.515643333333333| 4.550762764692933|\n",
      "|        20:47|360004796|       null|                  21:04|          31840|  -46.444853|-23.513681|-46.490275000000004|         -23.515145| 5.051940356784393|\n",
      "|        20:47|360004796|       null|                  21:08|          31932|  -46.444853|-23.513681| -46.50167166666667|-23.512968333333333| 6.318183183078207|\n",
      "|        20:47|360004796|       null|                  21:29|          31086|  -46.444853|-23.513681| -46.56094666666666| -23.53769666666667|13.039231985971544|\n",
      "|        20:47|360004796|       null|                  21:29|          31229|  -46.444853|-23.513681| -46.56203666666667|-23.537944999999997|13.161900976473966|\n",
      "|        20:47|360004796|       null|                  21:33|          31839|  -46.444853|-23.513681| -46.57630166666666|-23.540928333333333|14.764406694922435|\n",
      "|        20:47|360004796|       null|                  21:42|          31931|  -46.444853|-23.513681|          -46.60569|-23.549889999999998| 18.09753319274707|\n",
      "|        20:47|350002418|       null|                  21:01|          31937|  -46.391151|-23.502355| -46.41938666666667|-23.494115000000004|3.2026012181605976|\n",
      "|        20:47|350002418|       null|                  21:03|          31847|  -46.391151|-23.502355|-46.421238333333335| -23.49425833333333| 3.402668957701603|\n",
      "|        20:47|350002418|       null|                  21:10|          31817|  -46.391151|-23.502355|-46.438185000000004|-23.494744999999998| 5.262380106565737|\n",
      "|        20:47|350002418|       null|                  21:28|          31943|  -46.391151|-23.502355| -46.46042166666666| -23.51553333333333| 7.768491364899536|\n",
      "|        20:47|350002418|       null|                  21:37|          31936|  -46.391151|-23.502355|-46.485756666666674|-23.515643333333333|10.568836888124252|\n",
      "|        20:47|350002418|       null|                  21:39|          31840|  -46.391151|-23.502355|-46.490275000000004|         -23.515145|11.065570107630375|\n",
      "|        20:47|350002418|       null|                  21:43|          31932|  -46.391151|-23.502355| -46.50167166666667|-23.512968333333333| 12.31621063701169|\n",
      "|        20:47|350002418|       null|                  22:04|          31086|  -46.391151|-23.502355| -46.56094666666666| -23.53769666666667| 19.07338863735889|\n",
      "|        20:47|350002418|       null|                  22:04|          31229|  -46.391151|-23.502355| -46.56203666666667|-23.537944999999997| 19.19605921873686|\n",
      "|        20:47|350002418|       null|                  22:08|          31839|  -46.391151|-23.502355| -46.57630166666666|-23.540928333333333|20.798565728716856|\n",
      "|        20:47|350002418|       null|                  22:17|          31931|  -46.391151|-23.502355|          -46.60569|-23.549889999999998| 24.13152770635595|\n",
      "|        20:47| 80014580|           |                  20:52|          31931|  -46.589425|-23.543817|          -46.60569|-23.549889999999998|1.8671580884546701|\n",
      "+-------------+---------+-----------+-----------------------+---------------+------------+----------+-------------------+-------------------+------------------+\n",
      "only showing top 20 rows\n",
      "\n"
     ]
    }
   ],
   "source": [
    "df_previsao_chegada.show()"
   ]
  },
  {
   "cell_type": "code",
   "execution_count": 56,
   "id": "643a74b9-3e29-43b2-ac74-063f4fbd8c9a",
   "metadata": {},
   "outputs": [],
   "source": [
    "df_previsao_chegada_join = df_previsao_chegada.join(df_posicao_veiculo, col(\"ID_VEICULO\") == col(\"PREFIXO_VEICULO\"), \"inner\")"
   ]
  },
  {
   "cell_type": "code",
   "execution_count": 57,
   "id": "445322ae-6d95-46e5-823d-4224236e53a9",
   "metadata": {},
   "outputs": [],
   "source": [
    "from pyspark.sql.functions import unix_timestamp, abs, desc\n",
    "df_previsao_chegada2 = df_previsao_chegada_join.withColumn(\"diff_in_minute\", (abs(unix_timestamp(\"dat_ref_carga\",\"HH:mm\")-unix_timestamp(\"horario_previsto_cheada\",\"HH:mm\"))/60))"
   ]
  },
  {
   "cell_type": "code",
   "execution_count": 58,
   "id": "6586865c-1f30-4a2c-9f37-adcc6f47e284",
   "metadata": {},
   "outputs": [],
   "source": [
    "df_insight_velocidade = df_previsao_chegada2.withColumn(\"velocidade_para_chegar\", (col(\"distancia_km\") * 60) / col(\"diff_in_minute\"))"
   ]
  },
  {
   "cell_type": "code",
   "execution_count": 61,
   "id": "da415640-914a-44e3-a3e5-7e2cd2340204",
   "metadata": {},
   "outputs": [],
   "source": [
    "from pyspark.sql.functions import percentile_approx\n",
    "df_velocidade_maior_40 = df_insight_velocidade.filter(\"velocidade_para_chegar > 40\")"
   ]
  },
  {
   "cell_type": "code",
   "execution_count": 62,
   "id": "2b1dd908-5e90-47bc-b76b-1aaf46149811",
   "metadata": {},
   "outputs": [],
   "source": [
    "df_velocidade_menor_10 = df_insight_velocidade.filter(\"velocidade_para_chegar < 10\")"
   ]
  },
  {
   "cell_type": "code",
   "execution_count": 64,
   "id": "ba988f50-91cd-4ddb-b49d-8b3b22a7e104",
   "metadata": {},
   "outputs": [],
   "source": [
    "from pyspark.sql.functions import percentile_approx\n",
    "df_velocidade_maior_40_parada = df_velocidade_maior_40.groupBy(\"ID_PARADA\",\"nome_parada\").agg(\n",
    "    percentile_approx(\"velocidade_para_chegar\", 0.5).alias(\"media_velocidade_chegada\"),\n",
    "    percentile_approx(\"diff_in_minute\", 0.5).alias(\"MEDIA_DIFF_PREV_CHEGADA_MINUTOS\"),\n",
    "    percentile_approx(\"distancia_km\", 0.5).alias(\"media_distancia_km\")\n",
    ").sort(desc(\"media_velocidade_chegada\")).limit(20)\n",
    "\n",
    "df_velocidade_maior_40_LINHA = df_velocidade_maior_40.groupBy(\"LETREIRO_LINHA\",\"LETREIRO_DESTINO_LINHA\",\"LETREIRO_ORIGEM_LINHA\").agg(\n",
    "    percentile_approx(\"velocidade_para_chegar\", 0.5).alias(\"media_velocidade_chegada\"),\n",
    "    percentile_approx(\"diff_in_minute\", 0.5).alias(\"MEDIA_DIFF_PREV_CHEGADA_MINUTOS\"),\n",
    "    percentile_approx(\"distancia_km\", 0.5).alias(\"media_distancia_km\")\n",
    ").sort(desc(\"media_velocidade_chegada\")).limit(20)\n",
    "\n",
    "df_velocidade_maior_40_VEICULO = df_velocidade_maior_40.groupBy(\"ID_VEICULO\").agg(\n",
    "    percentile_approx(\"velocidade_para_chegar\", 0.5).alias(\"media_velocidade_chegada\"),\n",
    "    percentile_approx(\"diff_in_minute\", 0.5).alias(\"MEDIA_DIFF_PREV_CHEGADA_MINUTOS\"),\n",
    "    percentile_approx(\"distancia_km\", 0.5).alias(\"media_distancia_km\")\n",
    ").sort(desc(\"media_velocidade_chegada\")).limit(20)\n",
    "\n",
    "\n",
    "df_velocidade_menor_10_parada = df_velocidade_menor_10.groupBy(\"ID_PARADA\",\"nome_parada\").agg(\n",
    "    percentile_approx(\"velocidade_para_chegar\", 0.5).alias(\"media_velocidade_chegada\"),\n",
    "    percentile_approx(\"diff_in_minute\", 0.5).alias(\"MEDIA_DIFF_PREV_CHEGADA_MINUTOS\"),\n",
    "    percentile_approx(\"distancia_km\", 0.5).alias(\"media_distancia_km\")\n",
    ").sort(desc(\"MEDIA_DIFF_PREV_CHEGADA_MINUTOS\"),\"media_velocidade_chegada\").limit(20)\n",
    "\n",
    "df_velocidade_menor_10_linha = df_velocidade_menor_10.groupBy(\"LETREIRO_LINHA\",\"LETREIRO_DESTINO_LINHA\",\"LETREIRO_ORIGEM_LINHA\").agg(\n",
    "    percentile_approx(\"velocidade_para_chegar\", 0.5).alias(\"media_velocidade_chegada\"),\n",
    "    percentile_approx(\"diff_in_minute\", 0.5).alias(\"MEDIA_DIFF_PREV_CHEGADA_MINUTOS\"),\n",
    "    percentile_approx(\"distancia_km\", 0.5).alias(\"media_distancia_km\")\n",
    ").sort(desc(\"MEDIA_DIFF_PREV_CHEGADA_MINUTOS\"),\"media_velocidade_chegada\").limit(20)\n",
    "\n",
    "df_velocidade_menor_10_VEICULO = df_velocidade_menor_10.groupBy(\"ID_VEICULO\").agg(\n",
    "    percentile_approx(\"velocidade_para_chegar\", 0.5).alias(\"media_velocidade_chegada\"),\n",
    "    percentile_approx(\"diff_in_minute\", 0.5).alias(\"MEDIA_DIFF_PREV_CHEGADA_MINUTOS\"),\n",
    "    percentile_approx(\"distancia_km\", 0.5).alias(\"media_distancia_km_PONTOS\")\n",
    ").sort(desc(\"MEDIA_DIFF_PREV_CHEGADA_MINUTOS\"),\"media_velocidade_chegada\").limit(20)"
   ]
  },
  {
   "cell_type": "code",
   "execution_count": 67,
   "id": "0515afe5-9ea0-4145-8b74-21e21184f80c",
   "metadata": {},
   "outputs": [],
   "source": [
    "tabela_maior_velocidade = \"PREV_ATRASADO\"\n",
    "tabela_maior_parada = f\"{tabela_maior_velocidade}_PARADA\"\n",
    "df_velocidade_maior_40_parada.write.jdbc(url=url, table=tabela_maior_parada, mode=\"overwrite\", properties=properties)\n",
    "\n",
    "tabela_maior_parada = f\"{tabela_maior_velocidade}_LINHA\"\n",
    "df_velocidade_maior_40_LINHA.write.jdbc(url=url, table=tabela_maior_parada, mode=\"overwrite\", properties=properties)\n",
    "\n",
    "tabela_maior_parada = f\"{tabela_maior_velocidade}_VEICULO\"\n",
    "df_velocidade_maior_40_VEICULO.write.jdbc(url=url, table=tabela_maior_parada, mode=\"overwrite\", properties=properties)\n",
    "\n",
    "tabela_menor_velocidade = \"PREV_ADIANTADA\"\n",
    "tabela_menor_parada = f\"{tabela_menor_velocidade}_PARADA\"\n",
    "df_velocidade_menor_10_parada.write.jdbc(url=url, table=tabela_menor_parada, mode=\"overwrite\", properties=properties)\n",
    "\n",
    "tabela_menor_LINHA = f\"{tabela_menor_velocidade}_LINHA\"\n",
    "df_velocidade_menor_10_linha.write.jdbc(url=url, table=tabela_menor_LINHA, mode=\"overwrite\", properties=properties)\n",
    "\n",
    "tabela_menor_VEICULO = f\"{tabela_menor_velocidade}_VEICULO\"\n",
    "df_velocidade_menor_10_VEICULO.write.jdbc(url=url, table=tabela_menor_VEICULO, mode=\"overwrite\", properties=properties)"
   ]
  },
  {
   "cell_type": "code",
   "execution_count": null,
   "id": "fb823fc7-fbe8-424a-9d45-e1c0a61e8b7a",
   "metadata": {},
   "outputs": [],
   "source": []
  }
 ],
 "metadata": {
  "kernelspec": {
   "display_name": "Python 3 (ipykernel)",
   "language": "python",
   "name": "python3"
  },
  "language_info": {
   "codemirror_mode": {
    "name": "ipython",
    "version": 3
   },
   "file_extension": ".py",
   "mimetype": "text/x-python",
   "name": "python",
   "nbconvert_exporter": "python",
   "pygments_lexer": "ipython3",
   "version": "3.10.8"
  }
 },
 "nbformat": 4,
 "nbformat_minor": 5
}
