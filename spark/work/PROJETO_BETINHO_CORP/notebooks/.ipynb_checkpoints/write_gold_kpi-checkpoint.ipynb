{
 "cells": [
  {
   "cell_type": "code",
   "execution_count": 16,
   "id": "79c0efba-9415-4c4c-aeff-a36d3c1cb6f4",
   "metadata": {},
   "outputs": [],
   "source": [
    "from pyspark.sql import SparkSession\n",
    "jdbc_driver_path = \"/util/jar/postgresql-42.5.1.jar\""
   ]
  },
  {
   "cell_type": "code",
   "execution_count": 17,
   "id": "bf471d15-053c-4314-a379-09beca89718c",
   "metadata": {},
   "outputs": [],
   "source": [
    "# spark = SparkSession.builder \\\n",
    "#     .appName(\"Escrita no PostgreSQL\") \\\n",
    "#     .config(\"spark.jars\", jdbc_driver_path) \\\n",
    "#     .getOrCreate()\n",
    "\n",
    "url = \"jdbc:postgresql://db:5432/SPTRANS\"\n",
    "properties = {\n",
    "    \"user\": \"admin\",\n",
    "    \"password\": \"admin\",\n",
    "    \"driver\": \"org.postgresql.Driver\"\n",
    "}"
   ]
  },
  {
   "cell_type": "code",
   "execution_count": 18,
   "id": "b1e50729-8b46-49d4-872d-02e328064537",
   "metadata": {},
   "outputs": [],
   "source": [
    "from pyspark.sql import SparkSession\n",
    "from pyspark.sql.functions import explode, col\n",
    "\n",
    "spark = SparkSession.builder \\\n",
    "    .appName('GOLD_PREV_CHEGADA') \\\n",
    "    .config('spark.sql.extensions','io.delta.sql.DeltaSparkSessionExtension') \\\n",
    "    .config('spark.sql.catalog.spark_catalog','org.apache.spark.sql.delta.catalog.DeltaCatalog') \\\n",
    "    .config(\"spark.jars\", jdbc_driver_path) \\\n",
    "    .getOrCreate()"
   ]
  },
  {
   "cell_type": "code",
   "execution_count": 19,
   "id": "0f75270b-546c-41d4-ac8c-471357c008fa",
   "metadata": {},
   "outputs": [],
   "source": [
    "trusted_path_previsao_chegada = 's3a://trusted/previsao_chegada'\n",
    "trusted_path_posicao_veiculo = 's3a://trusted/posicao_veiculo'"
   ]
  },
  {
   "cell_type": "code",
   "execution_count": 20,
   "id": "a845da4b-1bf1-48d3-b9f4-d4abac5807cc",
   "metadata": {},
   "outputs": [],
   "source": [
    "df_previsao_chegada = spark.read.format('delta').load(trusted_path_previsao_chegada)\n",
    "df_posicao_veiculo = spark.read.format('delta').load(trusted_path_posicao_veiculo).select(\"ID_LINHA\", \"LETREIRO_LINHA\", \"LETREIRO_DESTINO_LINHA\", \"LETREIRO_ORIGEM_LINHA\", \"ID_VEICULO\").distinct()"
   ]
  },
  {
   "cell_type": "code",
   "execution_count": 21,
   "id": "643a74b9-3e29-43b2-ac74-063f4fbd8c9a",
   "metadata": {},
   "outputs": [],
   "source": [
    "df_previsao_chegada_join = df_previsao_chegada.join(df_posicao_veiculo, col(\"ID_VEICULO\") == col(\"PREFIXO_VEICULO\"), \"inner\")"
   ]
  },
  {
   "cell_type": "code",
   "execution_count": 22,
   "id": "445322ae-6d95-46e5-823d-4224236e53a9",
   "metadata": {},
   "outputs": [],
   "source": [
    "from pyspark.sql.functions import unix_timestamp, abs, desc\n",
    "df_previsao_chegada2 = df_previsao_chegada_join.withColumn(\"diff_in_minute\", (abs(unix_timestamp(\"dat_ref_carga\",\"HH:mm\")-unix_timestamp(\"horario_previsto_cheada\",\"HH:mm\"))/60))"
   ]
  },
  {
   "cell_type": "code",
   "execution_count": 34,
   "id": "469dcd8a-f798-4396-8fd9-ec92f7e5e68c",
   "metadata": {},
   "outputs": [
    {
     "name": "stdout",
     "output_type": "stream",
     "text": [
      "+-------------+-----------------------+--------------+\n",
      "|dat_ref_carga|horario_previsto_cheada|diff_in_minute|\n",
      "+-------------+-----------------------+--------------+\n",
      "|        21:13|                  21:23|          10.0|\n",
      "|        21:07|                  21:37|          30.0|\n",
      "|        21:07|                  21:42|          35.0|\n",
      "|        21:07|                  21:12|           5.0|\n",
      "|        21:07|                  21:43|          36.0|\n",
      "|        21:07|                  21:40|          33.0|\n",
      "|        21:07|                  21:47|          40.0|\n",
      "|        21:07|                  21:49|          42.0|\n",
      "|        21:07|                  21:38|          31.0|\n",
      "|        21:07|                  21:45|          38.0|\n",
      "|        21:07|                  21:33|          26.0|\n",
      "|        21:07|                  21:46|          39.0|\n",
      "|        21:09|                  21:36|          27.0|\n",
      "|        21:09|                  21:35|          26.0|\n",
      "|        21:09|                  21:33|          24.0|\n",
      "|        21:09|                  21:49|          40.0|\n",
      "|        21:09|                  21:34|          25.0|\n",
      "|        21:13|                  22:01|          48.0|\n",
      "|        21:14|                  21:59|          45.0|\n",
      "|        21:14|                  21:18|           4.0|\n",
      "+-------------+-----------------------+--------------+\n",
      "only showing top 20 rows\n",
      "\n"
     ]
    }
   ],
   "source": [
    "df_previsao_chegada2.select(\"dat_ref_carga\", \"horario_previsto_cheada\", \"diff_in_minute\").show()"
   ]
  },
  {
   "cell_type": "code",
   "execution_count": 23,
   "id": "6586865c-1f30-4a2c-9f37-adcc6f47e284",
   "metadata": {},
   "outputs": [],
   "source": [
    "df_insight_velocidade = df_previsao_chegada2.withColumn(\"velocidade_para_chegar\", (col(\"distancia_km\") * 60) / col(\"diff_in_minute\"))"
   ]
  },
  {
   "cell_type": "code",
   "execution_count": 43,
   "id": "da415640-914a-44e3-a3e5-7e2cd2340204",
   "metadata": {},
   "outputs": [],
   "source": [
    "from pyspark.sql.functions import percentile_approx, lit, when\n",
    "df_insight_velocidade = df_insight_velocidade.withColumn(\n",
    "    \"SITUACAO\", \n",
    "    when(col(\"velocidade_para_chegar\") > 40, lit(\"ATRASADO\")).otherwise(\n",
    "        when(col(\"velocidade_para_chegar\") < 10, lit(\"ADIANTADA\")).otherwise(\"OK\")))"
   ]
  },
  {
   "cell_type": "code",
   "execution_count": 45,
   "id": "ba988f50-91cd-4ddb-b49d-8b3b22a7e104",
   "metadata": {},
   "outputs": [],
   "source": [
    "from pyspark.sql.functions import percentile_approx\n",
    "df_velocidade_maior_40_parada = df_insight_velocidade.groupBy(\"ID_PARADA\",\"nome_parada\", \"SITUACAO\").agg(\n",
    "    percentile_approx(\"velocidade_para_chegar\", 0.5).alias(\"media_velocidade_chegada\"),\n",
    "    percentile_approx(\"diff_in_minute\", 0.5).alias(\"MEDIA_DIFF_PREV_CHEGADA_MINUTOS\"),\n",
    "    percentile_approx(\"distancia_km\", 0.5).alias(\"media_distancia_km\")\n",
    ").sort(desc(\"media_velocidade_chegada\"))\n",
    "\n",
    "df_velocidade_maior_40_LINHA = df_insight_velocidade.groupBy(\"LETREIRO_LINHA\",\"LETREIRO_DESTINO_LINHA\",\"LETREIRO_ORIGEM_LINHA\", \"SITUACAO\").agg(\n",
    "    percentile_approx(\"velocidade_para_chegar\", 0.5).alias(\"media_velocidade_chegada\"),\n",
    "    percentile_approx(\"diff_in_minute\", 0.5).alias(\"MEDIA_DIFF_PREV_CHEGADA_MINUTOS\"),\n",
    "    percentile_approx(\"distancia_km\", 0.5).alias(\"media_distancia_km\")\n",
    ").sort(desc(\"media_velocidade_chegada\"))\n",
    "\n",
    "df_velocidade_maior_40_VEICULO = df_insight_velocidade.groupBy(\"ID_VEICULO\", \"SITUACAO\").agg(\n",
    "    percentile_approx(\"velocidade_para_chegar\", 0.5).alias(\"media_velocidade_chegada\"),\n",
    "    percentile_approx(\"diff_in_minute\", 0.5).alias(\"MEDIA_DIFF_PREV_CHEGADA_MINUTOS\"),\n",
    "    percentile_approx(\"distancia_km\", 0.5).alias(\"media_distancia_km\")\n",
    ").sort(desc(\"media_velocidade_chegada\"))\n",
    "\n",
    "\n",
    "# df_velocidade_menor_10_parada = df_velocidade_menor_10.groupBy(\"ID_PARADA\",\"nome_parada\").agg(\n",
    "#     percentile_approx(\"velocidade_para_chegar\", 0.5).alias(\"media_velocidade_chegada\"),\n",
    "#     percentile_approx(\"diff_in_minute\", 0.5).alias(\"MEDIA_DIFF_PREV_CHEGADA_MINUTOS\"),\n",
    "#     percentile_approx(\"distancia_km\", 0.5).alias(\"media_distancia_km\")\n",
    "# ).sort(desc(\"MEDIA_DIFF_PREV_CHEGADA_MINUTOS\"),\"media_velocidade_chegada\")\n",
    "\n",
    "# df_velocidade_menor_10_linha = df_velocidade_menor_10.groupBy(\"LETREIRO_LINHA\",\"LETREIRO_DESTINO_LINHA\",\"LETREIRO_ORIGEM_LINHA\").agg(\n",
    "#     percentile_approx(\"velocidade_para_chegar\", 0.5).alias(\"media_velocidade_chegada\"),\n",
    "#     percentile_approx(\"diff_in_minute\", 0.5).alias(\"MEDIA_DIFF_PREV_CHEGADA_MINUTOS\"),\n",
    "#     percentile_approx(\"distancia_km\", 0.5).alias(\"media_distancia_km\")\n",
    "# ).sort(desc(\"MEDIA_DIFF_PREV_CHEGADA_MINUTOS\"),\"media_velocidade_chegada\")\n",
    "\n",
    "# df_velocidade_menor_10_VEICULO = df_velocidade_menor_10.groupBy(\"ID_VEICULO\").agg(\n",
    "#     percentile_approx(\"velocidade_para_chegar\", 0.5).alias(\"media_velocidade_chegada\"),\n",
    "#     percentile_approx(\"diff_in_minute\", 0.5).alias(\"MEDIA_DIFF_PREV_CHEGADA_MINUTOS\"),\n",
    "#     percentile_approx(\"distancia_km\", 0.5).alias(\"media_distancia_km_PONTOS\")\n",
    "# ).sort(desc(\"MEDIA_DIFF_PREV_CHEGADA_MINUTOS\"),\"media_velocidade_chegada\")"
   ]
  },
  {
   "cell_type": "code",
   "execution_count": 48,
   "id": "0a901841-487c-4a6f-8938-61542347bdeb",
   "metadata": {},
   "outputs": [],
   "source": [
    "silver_path_posicao_veiculo = 's3a://gold/'"
   ]
  },
  {
   "cell_type": "code",
   "execution_count": 50,
   "id": "0515afe5-9ea0-4145-8b74-21e21184f80c",
   "metadata": {},
   "outputs": [],
   "source": [
    "tabela_maior_velocidade = \"PREV\"\n",
    "tabela_maior_parada = f\"{tabela_maior_velocidade}_PARADA\"\n",
    "df_velocidade_maior_40_parada.coalesce(1).write.csv(f\"{silver_path_posicao_veiculo}{tabela_maior_parada}\")\n",
    "\n",
    "tabela_maior_linha = f\"{tabela_maior_velocidade}_LINHA\"\n",
    "df_velocidade_maior_40_LINHA.coalesce(1).write.csv(f\"{silver_path_posicao_veiculo}{tabela_maior_linha}\")\n",
    "\n",
    "tabela_maior_veiculo = f\"{tabela_maior_velocidade}_VEICULO\"\n",
    "df_velocidade_maior_40_VEICULO.coalesce(1).write.csv(f\"{silver_path_posicao_veiculo}{tabela_maior_veiculo}\")\n",
    "\n",
    "# tabela_menor_velocidade = \"PREV_ADIANTADA\"\n",
    "# tabela_menor_parada = f\"{tabela_menor_velocidade}_PARADA\"\n",
    "# df_velocidade_menor_10_parada.coalesce(1).write.csv(f\"{silver_path_posicao_veiculo}{tabela_menor_parada}\")\n",
    "\n",
    "# tabela_menor_LINHA = f\"{tabela_menor_velocidade}_LINHA\"\n",
    "# df_velocidade_menor_10_linha.coalesce(1).write.csv(f\"{silver_path_posicao_veiculo}{tabela_menor_LINHA}\")\n",
    "\n",
    "# tabela_menor_VEICULO = f\"{tabela_menor_velocidade}_VEICULO\"\n",
    "# df_velocidade_menor_10_VEICULO.coalesce(1).write.csv(f\"{silver_path_posicao_veiculo}{tabela_menor_VEICULO}\")"
   ]
  },
  {
   "cell_type": "code",
   "execution_count": null,
   "id": "fb823fc7-fbe8-424a-9d45-e1c0a61e8b7a",
   "metadata": {},
   "outputs": [],
   "source": []
  }
 ],
 "metadata": {
  "kernelspec": {
   "display_name": "Python 3 (ipykernel)",
   "language": "python",
   "name": "python3"
  },
  "language_info": {
   "codemirror_mode": {
    "name": "ipython",
    "version": 3
   },
   "file_extension": ".py",
   "mimetype": "text/x-python",
   "name": "python",
   "nbconvert_exporter": "python",
   "pygments_lexer": "ipython3",
   "version": "3.10.8"
  }
 },
 "nbformat": 4,
 "nbformat_minor": 5
}
