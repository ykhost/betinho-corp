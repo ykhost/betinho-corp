{
 "cells": [
  {
   "cell_type": "code",
   "execution_count": 1,
   "id": "cc669a53-35a2-4e11-8c20-0cff9b45e950",
   "metadata": {},
   "outputs": [],
   "source": [
    "from pyspark.sql import SparkSession\n",
    "from pyspark.sql.functions import explode, col\n",
    "\n",
    "spark = SparkSession.builder \\\n",
    "    .appName('User Raw to Trusted') \\\n",
    "    .config('spark.sql.extensions','io.delta.sql.DeltaSparkSessionExtension') \\\n",
    "    .config('spark.sql.catalog.spark_catalog','org.apache.spark.sql.delta.catalog.DeltaCatalog') \\\n",
    "    .getOrCreate()"
   ]
  },
  {
   "cell_type": "code",
   "execution_count": 2,
   "id": "914ca661-0d3c-4c57-a937-39decc55ede3",
   "metadata": {},
   "outputs": [],
   "source": [
    "raw_path_previsao_chegada = 's3a://raw/previsao_chegada'"
   ]
  },
  {
   "cell_type": "code",
   "execution_count": 3,
   "id": "6f457040-a246-4ba4-95d0-f8e128d0693a",
   "metadata": {},
   "outputs": [],
   "source": [
    "df_previsao_chegada = spark.read.json(raw_path_previsao_chegada)"
   ]
  },
  {
   "cell_type": "code",
   "execution_count": 4,
   "id": "c4f322b5-b782-47b9-9bb2-5d553ed79d78",
   "metadata": {},
   "outputs": [],
   "source": [
    "df_explode = df_previsao_chegada.withColumn(\"ps_explod\", explode(\"ps\"))\\\n",
    "    .withColumn(\"vs_explod\", explode(\"ps_explod.vs\")).select(col(\"hr\").alias(\"dat_ref_carga\"),\"ps_explod\",\"vs_explod\")"
   ]
  },
  {
   "cell_type": "code",
   "execution_count": 5,
   "id": "29f86e1e-138f-454b-879b-56d27bfbee3f",
   "metadata": {},
   "outputs": [],
   "source": [
    "df_prev_chegada = df_explode.select(\n",
    "    col(\"dat_ref_carga\"),\n",
    "    col(\"ps_explod.cp\").alias(\"ID_PARADA\"), \n",
    "    col(\"ps_explod.np\").alias(\"nome_parada\"),\n",
    "    col(\"ps_explod.px\").alias(\"latitude_loc\"), \n",
    "    col(\"ps_explod.py\").alias(\"longtitude\"),\n",
    "    col(\"vs_explod.a\").alias(\"VEICULO_ACESSIVEL\"),\n",
    "    col(\"vs_explod.is\").alias(\"TIMESTAMP\"),\n",
    "    col(\"vs_explod.p\").alias(\"PREFIXO_VEICULO\"),\n",
    "    col(\"vs_explod.px\").alias(\"LATITUDE_VEICULO\"),\n",
    "    col(\"vs_explod.py\").alias(\"LONGITUDE_VEICULO\"),\n",
    "    col(\"vs_explod.t\").alias(\"HORARIO_PREVISTO_CHEADA\")    \n",
    ")"
   ]
  },
  {
   "cell_type": "code",
   "execution_count": 9,
   "id": "7c74658d-1c03-42ba-8684-df3d9311cdaf",
   "metadata": {},
   "outputs": [],
   "source": [
    "from pyspark.sql import SparkSession\n",
    "from pyspark.sql.functions import col, radians, sin, cos, atan2, sqrt\n",
    "from pyspark.sql.types import DoubleType\n",
    "R = 6371.0\n",
    "\n",
    "# Converter as colunas de latitude e longitude para radianos\n",
    "df = df_prev_chegada.withColumn(\"lat1_rad\", radians(col(\"latitude_loc\"))) \\\n",
    "       .withColumn(\"lon1_rad\", radians(col(\"longtitude\"))) \\\n",
    "       .withColumn(\"lat2_rad\", radians(col(\"LATITUDE_VEICULO\"))) \\\n",
    "       .withColumn(\"lon2_rad\", radians(col(\"LONGITUDE_VEICULO\")))\n",
    "\n",
    "# Calcular a diferença entre as coordenadas\n",
    "df = df.withColumn(\"dlat\", col(\"lat2_rad\") - col(\"lat1_rad\")) \\\n",
    "       .withColumn(\"dlon\", col(\"lon2_rad\") - col(\"lon1_rad\"))\n",
    "\n",
    "# Aplicar a fórmula de Haversine\n",
    "df = df.withColumn(\"a\", sin(col(\"dlat\") / 2)**2 + cos(col(\"lat1_rad\")) * cos(col(\"lat2_rad\")) * sin(col(\"dlon\") / 2)**2)\n",
    "\n",
    "df = df.withColumn(\"c\", 2 * atan2(sqrt(col(\"a\")), sqrt(1 - col(\"a\"))))\n",
    "\n",
    "# Calcular a distância final\n",
    "df = df.withColumn(\"distancia_km\", col(\"c\") * R)\n",
    "\n",
    "# Selecionar as colunas de interesse\n",
    "df_final = df.select(\"dat_ref_carga\",\"id_parada\",\"nome_parada\",\"horario_previsto_cheada\",\"PREFIXO_VEICULO\",\"latitude_loc\", \"longtitude\", \"LATITUDE_VEICULO\", \"LONGITUDE_VEICULO\", \"distancia_km\")"
   ]
  },
  {
   "cell_type": "code",
   "execution_count": 10,
   "id": "dff73345-833a-4b7f-95f6-bc5090d93844",
   "metadata": {},
   "outputs": [
    {
     "data": {
      "text/plain": [
       "11844"
      ]
     },
     "execution_count": 10,
     "metadata": {},
     "output_type": "execute_result"
    }
   ],
   "source": [
    "df_final.count()"
   ]
  },
  {
   "cell_type": "code",
   "execution_count": 12,
   "id": "32b4d40b-ffc6-4b68-aaca-43850104eebd",
   "metadata": {},
   "outputs": [
    {
     "name": "stdout",
     "output_type": "stream",
     "text": [
      "+--------------------+\n",
      "|         nome_parada|\n",
      "+--------------------+\n",
      "|PARADA HOSPITAL C...|\n",
      "|NIELS C. SORENSEN...|\n",
      "|PQ. DA ÁGUA BRANC...|\n",
      "|ELEVATÓRIA SABESP...|\n",
      "|PARADA 1 - ROQUE ...|\n",
      "|         HILÁRIO B/C|\n",
      "|      DOS MENDES B/C|\n",
      "|       RIO VERDE C/B|\n",
      "|        SERVIDÃO C/B|\n",
      "|EUCLYDES DA CUNHA...|\n",
      "|        MARGINAL C/B|\n",
      "|PARADA JOSÉ DE SÁ...|\n",
      "|PARADA 1 - VIEIRA...|\n",
      "| XAVIER DE MATOS B/C|\n",
      "|    BABY BARIONY C/B|\n",
      "|      VESPASIANO B/C|\n",
      "|          DUILIO C/B|\n",
      "|            PARADA 1|\n",
      "|    ROSA E SILVA C/B|\n",
      "|     ROMÃO BOETA B/C|\n",
      "+--------------------+\n",
      "only showing top 20 rows\n",
      "\n"
     ]
    }
   ],
   "source": [
    "df_final.select(\"nome_parada\").show()"
   ]
  },
  {
   "cell_type": "code",
   "execution_count": 13,
   "id": "a891629f-c7a1-457d-a740-edd5d7708a3e",
   "metadata": {},
   "outputs": [],
   "source": [
    "silver_path_posicao_veiculo = 's3a://trusted/previsao_chegada'"
   ]
  },
  {
   "cell_type": "code",
   "execution_count": 14,
   "id": "f3ab26fb-5414-43a8-99de-3d338ccddc8e",
   "metadata": {},
   "outputs": [],
   "source": [
    "df_final.write.format('delta')\\\n",
    "    .mode('overwrite').option(\"overwriteSchema\", \"true\").save(silver_path_posicao_veiculo)"
   ]
  },
  {
   "cell_type": "code",
   "execution_count": null,
   "id": "421ab7e8-3d20-4539-86ae-d14ce89ce830",
   "metadata": {},
   "outputs": [],
   "source": []
  }
 ],
 "metadata": {
  "kernelspec": {
   "display_name": "Python 3 (ipykernel)",
   "language": "python",
   "name": "python3"
  },
  "language_info": {
   "codemirror_mode": {
    "name": "ipython",
    "version": 3
   },
   "file_extension": ".py",
   "mimetype": "text/x-python",
   "name": "python",
   "nbconvert_exporter": "python",
   "pygments_lexer": "ipython3",
   "version": "3.10.8"
  }
 },
 "nbformat": 4,
 "nbformat_minor": 5
}
