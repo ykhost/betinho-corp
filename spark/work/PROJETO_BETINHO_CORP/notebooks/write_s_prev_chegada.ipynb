{
 "cells": [
  {
   "cell_type": "code",
   "execution_count": 4,
   "id": "cc669a53-35a2-4e11-8c20-0cff9b45e950",
   "metadata": {},
   "outputs": [],
   "source": [
    "from pyspark.sql import SparkSession\n",
    "from pyspark.sql.functions import explode, col\n",
    "\n",
    "spark = SparkSession.builder \\\n",
    "    .appName('User Raw to Trusted') \\\n",
    "    .config('spark.sql.extensions','io.delta.sql.DeltaSparkSessionExtension') \\\n",
    "    .config('spark.sql.catalog.spark_catalog','org.apache.spark.sql.delta.catalog.DeltaCatalog') \\\n",
    "    .getOrCreate()"
   ]
  },
  {
   "cell_type": "code",
   "execution_count": 5,
   "id": "914ca661-0d3c-4c57-a937-39decc55ede3",
   "metadata": {},
   "outputs": [],
   "source": [
    "raw_path_previsao_chegada = 's3a://raw/previsao_chegada'"
   ]
  },
  {
   "cell_type": "code",
   "execution_count": 6,
   "id": "6f457040-a246-4ba4-95d0-f8e128d0693a",
   "metadata": {},
   "outputs": [],
   "source": [
    "df_previsao_chegada = spark.read.json(raw_path_previsao_chegada)"
   ]
  },
  {
   "cell_type": "code",
   "execution_count": 7,
   "id": "c4f322b5-b782-47b9-9bb2-5d553ed79d78",
   "metadata": {},
   "outputs": [],
   "source": [
    "df_explode = df_previsao_chegada.withColumn(\"ps_explod\", explode(\"ps\"))\\\n",
    "    .withColumn(\"vs_explod\", explode(\"ps_explod.vs\")).select(col(\"hr\").alias(\"dat_ref_carga\"),\"ps_explod\",\"vs_explod\")"
   ]
  },
  {
   "cell_type": "code",
   "execution_count": 8,
   "id": "29f86e1e-138f-454b-879b-56d27bfbee3f",
   "metadata": {},
   "outputs": [],
   "source": [
    "df_prev_chegada = df_explode.select(\n",
    "    col(\"dat_ref_carga\"),\n",
    "    col(\"ps_explod.cp\").alias(\"ID_PARADA\"), \n",
    "    col(\"ps_explod.np\").alias(\"nome_parada\"),\n",
    "    col(\"ps_explod.px\").alias(\"latitude_loc\"), \n",
    "    col(\"ps_explod.py\").alias(\"longtitude\"),\n",
    "    col(\"vs_explod.a\").alias(\"VEICULO_ACESSIVEL\"),\n",
    "    col(\"vs_explod.is\").alias(\"TIMESTAMP\"),\n",
    "    col(\"vs_explod.p\").alias(\"PREFIXO_VEICULO\"),\n",
    "    col(\"vs_explod.px\").alias(\"LATITUDE_VEICULO\"),\n",
    "    col(\"vs_explod.py\").alias(\"LONGITUDE_VEICULO\"),\n",
    "    col(\"vs_explod.t\").alias(\"HORARIO_PREVISTO_CHEADA\")    \n",
    ")"
   ]
  },
  {
   "cell_type": "code",
   "execution_count": 35,
   "id": "7c74658d-1c03-42ba-8684-df3d9311cdaf",
   "metadata": {},
   "outputs": [],
   "source": [
    "from pyspark.sql import SparkSession\n",
    "from pyspark.sql.functions import col, radians, sin, cos, atan2, sqrt\n",
    "from pyspark.sql.types import DoubleType\n",
    "R = 6371.0\n",
    "\n",
    "# Converter as colunas de latitude e longitude para radianos\n",
    "df = df_prev_chegada.withColumn(\"lat1_rad\", radians(col(\"latitude_loc\"))) \\\n",
    "       .withColumn(\"lon1_rad\", radians(col(\"longtitude\"))) \\\n",
    "       .withColumn(\"lat2_rad\", radians(col(\"LATITUDE_VEICULO\"))) \\\n",
    "       .withColumn(\"lon2_rad\", radians(col(\"LONGITUDE_VEICULO\")))\n",
    "\n",
    "# Calcular a diferença entre as coordenadas\n",
    "df = df.withColumn(\"dlat\", col(\"lat2_rad\") - col(\"lat1_rad\")) \\\n",
    "       .withColumn(\"dlon\", col(\"lon2_rad\") - col(\"lon1_rad\"))\n",
    "\n",
    "# Aplicar a fórmula de Haversine\n",
    "df = df.withColumn(\"a\", sin(col(\"dlat\") / 2)**2 + cos(col(\"lat1_rad\")) * cos(col(\"lat2_rad\")) * sin(col(\"dlon\") / 2)**2)\n",
    "\n",
    "df = df.withColumn(\"c\", 2 * atan2(sqrt(col(\"a\")), sqrt(1 - col(\"a\"))))\n",
    "\n",
    "# Calcular a distância final\n",
    "df = df.withColumn(\"distancia_km\", col(\"c\") * R)\n",
    "\n",
    "# Selecionar as colunas de interesse\n",
    "df_final = df.select(\"dat_ref_carga\",\"id_parada\",\"horario_previsto_cheada\",\"PREFIXO_VEICULO\",\"latitude_loc\", \"longtitude\", \"LATITUDE_VEICULO\", \"LONGITUDE_VEICULO\", \"distancia_km\")"
   ]
  },
  {
   "cell_type": "code",
   "execution_count": 40,
   "id": "3230d40b-5f5c-415a-a38e-f82025ef982d",
   "metadata": {},
   "outputs": [],
   "source": [
    "from pyspark.sql.functions import to_timestamp, unix_timestamp, expr, lit, abs\n",
    "\n",
    "df_final = df_final.withColumn(\"diff_in_minute\", abs(((unix_timestamp(\"dat_ref_carga\",\"HH:mm\")-unix_timestamp(\"horario_previsto_cheada\",\"HH:mm\"))% lit(3600))/60))"
   ]
  },
  {
   "cell_type": "code",
   "execution_count": 41,
   "id": "32b4d40b-ffc6-4b68-aaca-43850104eebd",
   "metadata": {},
   "outputs": [
    {
     "name": "stdout",
     "output_type": "stream",
     "text": [
      "+-------------+---------+-----------------------+---------------+------------+----------+-------------------+-------------------+------------------+--------------+\n",
      "|dat_ref_carga|id_parada|horario_previsto_cheada|PREFIXO_VEICULO|latitude_loc|longtitude|   LATITUDE_VEICULO|  LONGITUDE_VEICULO|      distancia_km|diff_in_minute|\n",
      "+-------------+---------+-----------------------+---------------+------------+----------+-------------------+-------------------+------------------+--------------+\n",
      "|        20:47|360004796|                  20:53|          31943|  -46.444853|-23.513681| -46.46042166666666| -23.51553333333333|1.7369629819857777|           6.0|\n",
      "|        20:47|360004796|                  21:03|          31936|  -46.444853|-23.513681|-46.485756666666674|-23.515643333333333| 4.550762764692933|          16.0|\n",
      "|        20:47|360004796|                  21:04|          31840|  -46.444853|-23.513681|-46.490275000000004|         -23.515145| 5.051940356784393|          17.0|\n",
      "|        20:47|360004796|                  21:08|          31932|  -46.444853|-23.513681| -46.50167166666667|-23.512968333333333| 6.318183183078207|          21.0|\n",
      "|        20:47|360004796|                  21:29|          31086|  -46.444853|-23.513681| -46.56094666666666| -23.53769666666667|13.039231985971544|          42.0|\n",
      "|        20:47|360004796|                  21:29|          31229|  -46.444853|-23.513681| -46.56203666666667|-23.537944999999997|13.161900976473966|          42.0|\n",
      "|        20:47|360004796|                  21:33|          31839|  -46.444853|-23.513681| -46.57630166666666|-23.540928333333333|14.764406694922435|          46.0|\n",
      "|        20:47|360004796|                  21:42|          31931|  -46.444853|-23.513681|          -46.60569|-23.549889999999998| 18.09753319274707|          55.0|\n",
      "|        20:47|350002418|                  21:01|          31937|  -46.391151|-23.502355| -46.41938666666667|-23.494115000000004|3.2026012181605976|          14.0|\n",
      "|        20:47|350002418|                  21:03|          31847|  -46.391151|-23.502355|-46.421238333333335| -23.49425833333333| 3.402668957701603|          16.0|\n",
      "|        20:47|350002418|                  21:10|          31817|  -46.391151|-23.502355|-46.438185000000004|-23.494744999999998| 5.262380106565737|          23.0|\n",
      "|        20:47|350002418|                  21:28|          31943|  -46.391151|-23.502355| -46.46042166666666| -23.51553333333333| 7.768491364899536|          41.0|\n",
      "|        20:47|350002418|                  21:37|          31936|  -46.391151|-23.502355|-46.485756666666674|-23.515643333333333|10.568836888124252|          50.0|\n",
      "|        20:47|350002418|                  21:39|          31840|  -46.391151|-23.502355|-46.490275000000004|         -23.515145|11.065570107630375|          52.0|\n",
      "|        20:47|350002418|                  21:43|          31932|  -46.391151|-23.502355| -46.50167166666667|-23.512968333333333| 12.31621063701169|          56.0|\n",
      "|        20:47|350002418|                  22:04|          31086|  -46.391151|-23.502355| -46.56094666666666| -23.53769666666667| 19.07338863735889|          17.0|\n",
      "|        20:47|350002418|                  22:04|          31229|  -46.391151|-23.502355| -46.56203666666667|-23.537944999999997| 19.19605921873686|          17.0|\n",
      "|        20:47|350002418|                  22:08|          31839|  -46.391151|-23.502355| -46.57630166666666|-23.540928333333333|20.798565728716856|          21.0|\n",
      "|        20:47|350002418|                  22:17|          31931|  -46.391151|-23.502355|          -46.60569|-23.549889999999998| 24.13152770635595|          30.0|\n",
      "|        20:47| 80014580|                  20:52|          31931|  -46.589425|-23.543817|          -46.60569|-23.549889999999998|1.8671580884546701|           5.0|\n",
      "+-------------+---------+-----------------------+---------------+------------+----------+-------------------+-------------------+------------------+--------------+\n",
      "only showing top 20 rows\n",
      "\n"
     ]
    }
   ],
   "source": [
    "df_final.show()"
   ]
  },
  {
   "cell_type": "code",
   "execution_count": 42,
   "id": "a891629f-c7a1-457d-a740-edd5d7708a3e",
   "metadata": {},
   "outputs": [],
   "source": [
    "silver_path_posicao_veiculo = 's3a://trusted/previsao_chegada'"
   ]
  },
  {
   "cell_type": "code",
   "execution_count": 43,
   "id": "f3ab26fb-5414-43a8-99de-3d338ccddc8e",
   "metadata": {},
   "outputs": [],
   "source": [
    "df_final.write.format('delta')\\\n",
    "    .mode('overwrite').option(\"overwriteSchema\", \"true\").save(silver_path_posicao_veiculo)"
   ]
  }
 ],
 "metadata": {
  "kernelspec": {
   "display_name": "Python 3 (ipykernel)",
   "language": "python",
   "name": "python3"
  },
  "language_info": {
   "codemirror_mode": {
    "name": "ipython",
    "version": 3
   },
   "file_extension": ".py",
   "mimetype": "text/x-python",
   "name": "python",
   "nbconvert_exporter": "python",
   "pygments_lexer": "ipython3",
   "version": "3.10.8"
  }
 },
 "nbformat": 4,
 "nbformat_minor": 5
}
