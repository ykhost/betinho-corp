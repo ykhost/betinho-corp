{
 "cells": [
  {
   "cell_type": "code",
   "execution_count": 14,
   "id": "74d820b4-449a-45ce-8933-9416c70dd1fb",
   "metadata": {},
   "outputs": [],
   "source": [
    "from pyspark.sql import SparkSession\n",
    "from pyspark.sql.functions import explode, col\n",
    "\n",
    "spark = SparkSession.builder \\\n",
    "    .appName('User Raw to Trusted') \\\n",
    "    .config('spark.sql.extensions','io.delta.sql.DeltaSparkSessionExtension') \\\n",
    "    .config('spark.sql.catalog.spark_catalog','org.apache.spark.sql.delta.catalog.DeltaCatalog') \\\n",
    "    .getOrCreate()"
   ]
  },
  {
   "cell_type": "code",
   "execution_count": 15,
   "id": "10b0242d-52cb-4899-8fd4-aa35c2d579e3",
   "metadata": {},
   "outputs": [],
   "source": [
    "posicao_veiculo = 's3a://raw/posicao_veiculo'"
   ]
  },
  {
   "cell_type": "code",
   "execution_count": 16,
   "id": "30cb9441-52f1-4b24-8ef4-967278189b44",
   "metadata": {},
   "outputs": [],
   "source": [
    "# df_parada = spark.read.json(parada)\n",
    "df_posicao_veiculo = spark.read.json(posicao_veiculo)"
   ]
  },
  {
   "cell_type": "code",
   "execution_count": 17,
   "id": "dc94498b-a142-46e9-b8eb-139b7d08e547",
   "metadata": {},
   "outputs": [],
   "source": [
    "df_posicao_veiculo2 = df_posicao_veiculo.withColumn(\"dict\", explode(col('l')))\n",
    "df_posicao_veiculo3 = df_posicao_veiculo2.select(\n",
    "    col(\"dict.c\").alias(\"LETREIRO_LINHA\"), \n",
    "    col(\"dict.cl\").alias(\"ID_LINHA\"), \n",
    "    col(\"dict.lt0\").alias(\"LETREIRO_DESTINO_LINHA\"), \n",
    "    col(\"dict.lt1\").alias(\"LETREIRO_ORIGEM_LINHA\"), \n",
    "    col(\"dict.qv\").alias(\"QTD_VEICULO_LINHA\"), \n",
    "    col(\"dict.sl\").alias(\"SENTIDO_O_LINHA\"), \n",
    "    explode(\"dict.vs\").alias(\"veiculos\"),\n",
    "    col(\"veiculos.a\").alias(\"ACESSIVEL_VEICULO\"),\n",
    "    col(\"veiculos.p\").alias(\"ID_VEICULO\"),\n",
    "    col(\"veiculos.px\").alias(\"LONGITUDE_VEICULO\"),\n",
    "    col(\"veiculos.py\").alias(\"LATITUDE_VEICULO\")\n",
    ").drop(\"veiculos\")"
   ]
  },
  {
   "cell_type": "code",
   "execution_count": 18,
   "id": "ebc3c557-f77c-44d1-bf85-cf62dad91afc",
   "metadata": {},
   "outputs": [],
   "source": [
    "silver_path_posicao_veiculo = 's3a://trusted/posicao_veiculo'"
   ]
  },
  {
   "cell_type": "code",
   "execution_count": 19,
   "id": "6fc3c889-7c1b-4cc7-9810-576210ab4046",
   "metadata": {},
   "outputs": [],
   "source": [
    "df_posicao_veiculo3.write.format('delta')\\\n",
    "    .mode('overwrite').option(\"overwriteSchema\", \"true\").save(silver_path_posicao_veiculo)"
   ]
  },
  {
   "cell_type": "code",
   "execution_count": null,
   "id": "d389e80d-7311-470b-a53a-75fe2dcb87f8",
   "metadata": {},
   "outputs": [],
   "source": []
  }
 ],
 "metadata": {
  "kernelspec": {
   "display_name": "Python 3 (ipykernel)",
   "language": "python",
   "name": "python3"
  },
  "language_info": {
   "codemirror_mode": {
    "name": "ipython",
    "version": 3
   },
   "file_extension": ".py",
   "mimetype": "text/x-python",
   "name": "python",
   "nbconvert_exporter": "python",
   "pygments_lexer": "ipython3",
   "version": "3.10.8"
  }
 },
 "nbformat": 4,
 "nbformat_minor": 5
}
