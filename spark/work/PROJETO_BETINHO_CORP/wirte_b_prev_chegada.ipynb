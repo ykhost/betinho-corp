{
 "cells": [
  {
   "cell_type": "code",
   "execution_count": 1,
   "id": "c1829174-ef8b-4003-98a8-dcefabe49a22",
   "metadata": {},
   "outputs": [],
   "source": [
    "from pyspark.sql import SparkSession\n",
    "spark = SparkSession.builder \\\n",
    "    .appName('User Raw to Trusted') \\\n",
    "    .config('spark.sql.extensions','io.delta.sql.DeltaSparkSessionExtension') \\\n",
    "    .config('spark.sql.catalog.spark_catalog','org.apache.spark.sql.delta.catalog.DeltaCatalog') \\\n",
    "    .getOrCreate()"
   ]
  },
  {
   "cell_type": "code",
   "execution_count": 3,
   "id": "4e48ddc0-59b0-4605-b1f6-614550439867",
   "metadata": {},
   "outputs": [
    {
     "name": "stdout",
     "output_type": "stream",
     "text": [
      "Collecting boto3\n",
      "  Downloading boto3-1.35.24-py3-none-any.whl (139 kB)\n",
      "\u001b[2K     \u001b[90m━━━━━━━━━━━━━━━━━━━━━━━━━━━━━━━━━━━━━━━\u001b[0m \u001b[32m139.2/139.2 kB\u001b[0m \u001b[31m2.4 MB/s\u001b[0m eta \u001b[36m0:00:00\u001b[0ma \u001b[36m0:00:01\u001b[0m\n",
      "\u001b[?25hCollecting s3transfer<0.11.0,>=0.10.0\n",
      "  Downloading s3transfer-0.10.2-py3-none-any.whl (82 kB)\n",
      "\u001b[2K     \u001b[90m━━━━━━━━━━━━━━━━━━━━━━━━━━━━━━━━━━━━━━━━\u001b[0m \u001b[32m82.7/82.7 kB\u001b[0m \u001b[31m2.6 MB/s\u001b[0m eta \u001b[36m0:00:00\u001b[0m\n",
      "\u001b[?25hCollecting botocore<1.36.0,>=1.35.24\n",
      "  Downloading botocore-1.35.24-py3-none-any.whl (12.6 MB)\n",
      "\u001b[2K     \u001b[90m━━━━━━━━━━━━━━━━━━━━━━━━━━━━━━━━━━━━━━━━\u001b[0m \u001b[32m12.6/12.6 MB\u001b[0m \u001b[31m26.3 MB/s\u001b[0m eta \u001b[36m0:00:00\u001b[0m00:01\u001b[0m00:01\u001b[0m\n",
      "\u001b[?25hCollecting jmespath<2.0.0,>=0.7.1\n",
      "  Downloading jmespath-1.0.1-py3-none-any.whl (20 kB)\n",
      "Requirement already satisfied: python-dateutil<3.0.0,>=2.1 in /opt/conda/lib/python3.10/site-packages (from botocore<1.36.0,>=1.35.24->boto3) (2.8.2)\n",
      "Requirement already satisfied: urllib3!=2.2.0,<3,>=1.25.4 in /opt/conda/lib/python3.10/site-packages (from botocore<1.36.0,>=1.35.24->boto3) (1.26.13)\n",
      "Requirement already satisfied: six>=1.5 in /opt/conda/lib/python3.10/site-packages (from python-dateutil<3.0.0,>=2.1->botocore<1.36.0,>=1.35.24->boto3) (1.16.0)\n",
      "Installing collected packages: jmespath, botocore, s3transfer, boto3\n",
      "Successfully installed boto3-1.35.24 botocore-1.35.24 jmespath-1.0.1 s3transfer-0.10.2\n"
     ]
    }
   ],
   "source": [
    "!pip install boto3"
   ]
  },
  {
   "cell_type": "code",
   "execution_count": 24,
   "id": "620bde16-f50c-4a9c-8e7b-c6e978551e0b",
   "metadata": {},
   "outputs": [],
   "source": [
    "import json\n",
    "import boto3\n",
    "from botocore.client import Config\n",
    "from botocore.exceptions import NoCredentialsError\n",
    "from io import BytesIO\n",
    "import time\n",
    "\n",
    "\n",
    "def upload_json_to_minio(data, bucket, object_name, path_save):\n",
    "    # Configurar o cliente boto3 para MinIO\n",
    "    s3_client = boto3.client(\n",
    "        's3',\n",
    "        endpoint_url='http://minio:9000',  # Altere para o endpoint do seu MinIO\n",
    "        aws_access_key_id='datalake',        # Altere para sua chave de acesso do MinIO\n",
    "        aws_secret_access_key='datalake',    # Altere para sua chave secreta do MinIO\n",
    "    )\n",
    "\n",
    "    try:\n",
    "        print(\"Serializar o conteúdo JSON e convertê-lo para bytes\")\n",
    "        json_bytes = json.dumps(data).encode('utf-8')\n",
    "\n",
    "        print(\"Criar um buffer de bytes para simular um arquivo\")\n",
    "        json_buffer = BytesIO(json_bytes)\n",
    "\n",
    "        # Upload do \"arquivo\" JSON para o MinIO\n",
    "        s3_client.upload_fileobj(\n",
    "            json_buffer,\n",
    "            bucket,\n",
    "            path_save\n",
    "         )\n",
    "        print(f'Arquivo JSON foi carregado com sucesso no bucket {bucket}, objeto: {object_name}')\n",
    "        time.sleep(0.4)\n",
    "    except NoCredentialsError:\n",
    "        print(\"Credenciais não encontradas\")"
   ]
  },
  {
   "cell_type": "code",
   "execution_count": 25,
   "id": "8ea6d445-8f58-4661-8e29-c372add3c61c",
   "metadata": {},
   "outputs": [],
   "source": [
    "import requests\n",
    "from pyspark.sql.functions import udf\n",
    "from http.cookiejar import LWPCookieJar\n",
    "import datetime\n",
    "\n",
    "post_auth = \"http://api.olhovivo.sptrans.com.br/v2.1/Login/Autenticar?token=d3f026bb74699c88e75ef5a7e71cf1181e70cd26cb93b8b31038c9df15ba2f61\"\n",
    "session = requests.Session()\n",
    "session.post(post_auth)\n",
    "\n",
    "def fetch_data(id_linha):\n",
    "    url = \"http://api.olhovivo.sptrans.com.br/v2.1/Login/Autenticar?token=d3f026bb74699c88e75ef5a7e71cf1181e70cd26cb93b8b31038c9df15ba2f61\"\n",
    "    session = requests.Session()\n",
    "    response = session.post(url)\n",
    "    \n",
    "    if response.status_code == 200:\n",
    "        cookies = response.cookies\n",
    "        \n",
    "        endpoint = \"http://api.olhovivo.sptrans.com.br/v2.1/Previsao/Linha?\"\n",
    "        params = {\n",
    "            \"codigoLinha\": id_linha,\n",
    "        }\n",
    "        response = session.get(endpoint, params=params, cookies=cookies)\n",
    "\n",
    "        time = datetime.datetime.now()\n",
    "        bucket = \"raw\"\n",
    "        name_file = f\"previsao_chegada_{time}.json\"\n",
    "        caminho_de_salvar = f\"/previsao_chegada/{name_file}\"\n",
    "\n",
    "        upload_json_to_minio(\n",
    "            data=response.json(), \n",
    "            bucket=bucket, \n",
    "            object_name=name_file, \n",
    "            path_save=caminho_de_salvar\n",
    "        )\n",
    "        \n",
    "        return True  # assuming API returns a list of records\n",
    "    else:\n",
    "        print(\"NAODEUCERTO\")"
   ]
  },
  {
   "cell_type": "code",
   "execution_count": 26,
   "id": "7501f4b9-f55f-4fbc-8162-905afac9623e",
   "metadata": {},
   "outputs": [],
   "source": [
    "trusted_path_posicao_veiculo = 's3a://trusted/posicao_veiculo'"
   ]
  },
  {
   "cell_type": "code",
   "execution_count": 33,
   "id": "4d55064f-e704-473d-a894-6a903c1a6191",
   "metadata": {},
   "outputs": [],
   "source": [
    "df_posicao_to_previsao = spark.read.format('delta').load(trusted_path_posicao_veiculo)"
   ]
  },
  {
   "cell_type": "code",
   "execution_count": 34,
   "id": "ec50b601-1145-4c05-b011-022b5b47e3ba",
   "metadata": {},
   "outputs": [
    {
     "name": "stdout",
     "output_type": "stream",
     "text": [
      "+--------------+--------+----------------------+---------------------+-----------------+---------------+-----------------+----------+-------------------+-------------------+\n",
      "|LETREIRO_LINHA|ID_LINHA|LETREIRO_DESTINO_LINHA|LETREIRO_ORIGEM_LINHA|QTD_VEICULO_LINHA|SENTIDO_O_LINHA|ACESSIVEL_VEICULO|ID_VEICULO|  LONGITUDE_VEICULO|   LATITUDE_VEICULO|\n",
      "+--------------+--------+----------------------+---------------------+-----------------+---------------+-----------------+----------+-------------------+-------------------+\n",
      "|       1765-10|   34550|        METRÔ TUCURUVI|           JD. CABUÇU|                4|              2|             true|     22847|       -46.56898525|        -23.4661845|\n",
      "|       1765-10|   34550|        METRÔ TUCURUVI|           JD. CABUÇU|                4|              2|             true|     22830|         -46.602609|         -23.480383|\n",
      "|       1765-10|   34550|        METRÔ TUCURUVI|           JD. CABUÇU|                4|              2|             true|     22344|-46.568509750000004|         -23.467372|\n",
      "|       1765-10|   34550|        METRÔ TUCURUVI|           JD. CABUÇU|                4|              2|             true|     22848|        -46.5787935|        -23.4707535|\n",
      "|       1744-10|   33312|         METRÔ SANTANA|     LAUZANE PAULISTA|                5|              2|             true|     22578|-46.639036000000004|        -23.4810835|\n",
      "|       1744-10|   33312|         METRÔ SANTANA|     LAUZANE PAULISTA|                5|              2|             true|     22738|       -46.63178875|         -23.493795|\n",
      "|       1744-10|   33312|         METRÔ SANTANA|     LAUZANE PAULISTA|                5|              2|             true|     22577|      -46.642127375|       -23.47214175|\n",
      "|       1744-10|   33312|         METRÔ SANTANA|     LAUZANE PAULISTA|                5|              2|             true|     22580| -46.64149449999999|         -23.472376|\n",
      "|       1744-10|   33312|         METRÔ SANTANA|     LAUZANE PAULISTA|                5|              2|             true|     22584|         -46.642758|-23.472054999999997|\n",
      "|       2626-10|     376|  TERM. PQ. D. PEDR...|           JD. NAZARÉ|                6|              1|             true|     31072|-46.410553500000006|        -23.5237645|\n",
      "|       2626-10|     376|  TERM. PQ. D. PEDR...|           JD. NAZARÉ|                6|              1|             true|     31069|-46.589150000000004|        -23.5366255|\n",
      "|       2626-10|     376|  TERM. PQ. D. PEDR...|           JD. NAZARÉ|                6|              1|             true|     31063|-46.611777249999996|         -23.540104|\n",
      "|       2626-10|     376|  TERM. PQ. D. PEDR...|           JD. NAZARÉ|                6|              1|             true|     31075|        -46.4104035|       -23.52460575|\n",
      "|       2626-10|     376|  TERM. PQ. D. PEDR...|           JD. NAZARÉ|                6|              1|             true|     31706|         -46.419398|       -23.49402225|\n",
      "|       2626-10|     376|  TERM. PQ. D. PEDR...|           JD. NAZARÉ|                6|              1|             true|     31714|       -46.50042725|         -23.511173|\n",
      "|       407G-10|   34964|          METRÔ CARRÃO|     JD. NOVA VITÓRIA|               17|              2|             true|     48675|         -46.467807|         -23.619855|\n",
      "|       407G-10|   34964|          METRÔ CARRÃO|     JD. NOVA VITÓRIA|               17|              2|             true|     48175|        -46.4430905|        -23.6043065|\n",
      "|       407G-10|   34964|          METRÔ CARRÃO|     JD. NOVA VITÓRIA|               17|              2|             true|     48110|         -46.463763|-23.625173500000002|\n",
      "|       407G-10|   34964|          METRÔ CARRÃO|     JD. NOVA VITÓRIA|               17|              2|             true|     48055|        -46.4608595|-23.618890999999998|\n",
      "|       407G-10|   34964|          METRÔ CARRÃO|     JD. NOVA VITÓRIA|               17|              2|             true|     48164|       -46.43407825|       -23.61114025|\n",
      "+--------------+--------+----------------------+---------------------+-----------------+---------------+-----------------+----------+-------------------+-------------------+\n",
      "only showing top 20 rows\n",
      "\n"
     ]
    }
   ],
   "source": [
    "df_posicao_to_previsao.show()"
   ]
  },
  {
   "cell_type": "code",
   "execution_count": 41,
   "id": "ef4a3368-504c-47e8-bebf-26ca2bb340c6",
   "metadata": {},
   "outputs": [],
   "source": [
    "from pyspark.sql.functions import col, udf  \n",
    "convertUDF = udf(lambda id: fetch_data(id))\n",
    "df_previsao_responde2 = df_posicao_to_previsao.select(\"ID_LINHA\").distinct()\n",
    "df_previsao_responde = df_previsao_responde2.withColumn(\"response\", convertUDF(col(\"id_linha\")))"
   ]
  },
  {
   "cell_type": "code",
   "execution_count": 42,
   "id": "8c06fe38-f28f-4325-9c4c-07372b774ecb",
   "metadata": {},
   "outputs": [
    {
     "name": "stdout",
     "output_type": "stream",
     "text": [
      "+--------+--------+\n",
      "|ID_LINHA|response|\n",
      "+--------+--------+\n",
      "|   32954|    true|\n",
      "|    2453|    true|\n",
      "|   32912|    true|\n",
      "|     474|    true|\n",
      "|      26|    true|\n",
      "|    2250|    true|\n",
      "|      29|    true|\n",
      "|    2173|    true|\n",
      "|   33600|    true|\n",
      "|   33831|    true|\n",
      "|    1258|    true|\n",
      "|    1277|    true|\n",
      "|     418|    true|\n",
      "|    1224|    true|\n",
      "|   33090|    true|\n",
      "|     558|    true|\n",
      "|    1127|    true|\n",
      "|   34832|    true|\n",
      "|   33342|    true|\n",
      "|   33234|    true|\n",
      "+--------+--------+\n",
      "only showing top 20 rows\n",
      "\n"
     ]
    }
   ],
   "source": [
    "df_previsao_responde.show()"
   ]
  },
  {
   "cell_type": "code",
   "execution_count": null,
   "id": "1584fd5d-a655-454a-8ed5-9486b6ac3618",
   "metadata": {},
   "outputs": [],
   "source": []
  }
 ],
 "metadata": {
  "kernelspec": {
   "display_name": "Python 3 (ipykernel)",
   "language": "python",
   "name": "python3"
  },
  "language_info": {
   "codemirror_mode": {
    "name": "ipython",
    "version": 3
   },
   "file_extension": ".py",
   "mimetype": "text/x-python",
   "name": "python",
   "nbconvert_exporter": "python",
   "pygments_lexer": "ipython3",
   "version": "3.10.8"
  }
 },
 "nbformat": 4,
 "nbformat_minor": 5
}
