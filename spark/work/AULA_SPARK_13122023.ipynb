{
 "cells": [
  {
   "cell_type": "code",
   "execution_count": 106,
   "id": "fa9ff387-1c95-49a1-a2ce-d721a10fd7a4",
   "metadata": {},
   "outputs": [],
   "source": [
    "from pyspark.sql import SparkSession"
   ]
  },
  {
   "cell_type": "code",
   "execution_count": 107,
   "id": "6ae55b41-3b2c-497a-b4aa-7cbc5c2e9847",
   "metadata": {},
   "outputs": [],
   "source": [
    "spark = SparkSession.builder.appName(\"aula\").enableHiveSupport().getOrCreate()"
   ]
  },
  {
   "cell_type": "code",
   "execution_count": 108,
   "id": "9297141c-c5a0-4024-81ca-c48c996531d6",
   "metadata": {},
   "outputs": [
    {
     "data": {
      "text/html": [
       "\n",
       "            <div>\n",
       "                <p><b>SparkSession - hive</b></p>\n",
       "                \n",
       "        <div>\n",
       "            <p><b>SparkContext</b></p>\n",
       "\n",
       "            <p><a href=\"http://spark-master:4040\">Spark UI</a></p>\n",
       "\n",
       "            <dl>\n",
       "              <dt>Version</dt>\n",
       "                <dd><code>v3.3.1</code></dd>\n",
       "              <dt>Master</dt>\n",
       "                <dd><code>local[*]</code></dd>\n",
       "              <dt>AppName</dt>\n",
       "                <dd><code>aula</code></dd>\n",
       "            </dl>\n",
       "        </div>\n",
       "        \n",
       "            </div>\n",
       "        "
      ],
      "text/plain": [
       "<pyspark.sql.session.SparkSession at 0x7f0276c3d240>"
      ]
     },
     "execution_count": 108,
     "metadata": {},
     "output_type": "execute_result"
    }
   ],
   "source": [
    "spark"
   ]
  },
  {
   "cell_type": "code",
   "execution_count": 116,
   "id": "7e250760-aebc-4661-909e-5f3e5ec68797",
   "metadata": {},
   "outputs": [],
   "source": [
    "df = spark.read.csv('hdfs:///user/MBA/',header=True)"
   ]
  },
  {
   "cell_type": "code",
   "execution_count": 117,
   "id": "80b9da3c-17ae-4168-a499-7e1184f07338",
   "metadata": {},
   "outputs": [
    {
     "data": {
      "text/plain": [
       "40839"
      ]
     },
     "execution_count": 117,
     "metadata": {},
     "output_type": "execute_result"
    }
   ],
   "source": [
    "df.count()"
   ]
  },
  {
   "cell_type": "code",
   "execution_count": 114,
   "id": "852d8dac-09d4-4ee4-9acc-fff3b47ba296",
   "metadata": {},
   "outputs": [],
   "source": [
    "df2 = spark.read.csv('s3a://mba/dados',header=True)"
   ]
  },
  {
   "cell_type": "code",
   "execution_count": 115,
   "id": "f39fabd0-82f6-4a2f-834b-d2f6862d8def",
   "metadata": {},
   "outputs": [
    {
     "name": "stdout",
     "output_type": "stream",
     "text": [
      "+----------+-------------+-------------+--------------+--------------+--------------+--------+--------------+-----------+\n",
      "|      date|home_teamName|away_teamName|home_scoreHome|away_scoreAway|tournamentName|cityCity|countryCountry|neutralTRUE|\n",
      "+----------+-------------+-------------+--------------+--------------+--------------+--------+--------------+-----------+\n",
      "|1872-11-30|     Scotland|      England|             0|             0|      Friendly| Glasgow|      Scotland|      FALSE|\n",
      "|1873-03-08|      England|     Scotland|             4|             2|      Friendly|  London|       England|      FALSE|\n",
      "|1874-03-07|     Scotland|      England|             2|             1|      Friendly| Glasgow|      Scotland|      FALSE|\n",
      "|1875-03-06|      England|     Scotland|             2|             2|      Friendly|  London|       England|      FALSE|\n",
      "|1876-03-04|     Scotland|      England|             3|             0|      Friendly| Glasgow|      Scotland|      FALSE|\n",
      "+----------+-------------+-------------+--------------+--------------+--------------+--------+--------------+-----------+\n",
      "only showing top 5 rows\n",
      "\n"
     ]
    }
   ],
   "source": [
    "df2.show(5)"
   ]
  },
  {
   "cell_type": "code",
   "execution_count": 118,
   "id": "c41e2dc5-f655-4436-90cd-aea1c0f6e177",
   "metadata": {},
   "outputs": [],
   "source": [
    "df2.write.format('hive').saveAsTable('mba.results')"
   ]
  },
  {
   "cell_type": "code",
   "execution_count": 119,
   "id": "ac9de3d5-d776-40e1-bd6c-b945232567e8",
   "metadata": {},
   "outputs": [],
   "source": [
    "df2.createOrReplaceTempView('results')"
   ]
  },
  {
   "cell_type": "code",
   "execution_count": 126,
   "id": "63ea2251-1f0f-460d-8afa-80750a13aead",
   "metadata": {},
   "outputs": [
    {
     "name": "stdout",
     "output_type": "stream",
     "text": [
      "+----------+-------------+-------------+--------------+--------------+--------------+--------+--------------+-----------+\n",
      "|      date|home_teamName|away_teamName|home_scoreHome|away_scoreAway|tournamentName|cityCity|countryCountry|neutralTRUE|\n",
      "+----------+-------------+-------------+--------------+--------------+--------------+--------+--------------+-----------+\n",
      "|1922-12-17|     Portugal|        Spain|             1|             2|      Friendly|  Lisbon|      Portugal|      FALSE|\n",
      "|1925-06-18|     Portugal|        Italy|             1|             0|      Friendly|  Lisbon|      Portugal|      FALSE|\n",
      "|1926-12-26|     Portugal|      Hungary|             3|             3|      Friendly|   Porto|      Portugal|      FALSE|\n",
      "|1927-03-16|     Portugal|       France|             4|             0|      Friendly|  Lisbon|      Portugal|      FALSE|\n",
      "|1928-01-08|     Portugal|        Spain|             2|             2|      Friendly|  Lisbon|      Portugal|      FALSE|\n",
      "+----------+-------------+-------------+--------------+--------------+--------------+--------+--------------+-----------+\n",
      "only showing top 5 rows\n",
      "\n"
     ]
    }
   ],
   "source": [
    "df2.filter(df2.home_teamName == 'Portugal').show(5)"
   ]
  },
  {
   "cell_type": "code",
   "execution_count": 127,
   "id": "fb054545-90a9-4495-9463-580e5f94f7b5",
   "metadata": {},
   "outputs": [
    {
     "name": "stdout",
     "output_type": "stream",
     "text": [
      "+----------+-------------+-------------+--------------+--------------+--------------+--------+--------------+-----------+\n",
      "|      date|home_teamName|away_teamName|home_scoreHome|away_scoreAway|tournamentName|cityCity|countryCountry|neutralTRUE|\n",
      "+----------+-------------+-------------+--------------+--------------+--------------+--------+--------------+-----------+\n",
      "|1922-12-17|     Portugal|        Spain|             1|             2|      Friendly|  Lisbon|      Portugal|      FALSE|\n",
      "|1925-06-18|     Portugal|        Italy|             1|             0|      Friendly|  Lisbon|      Portugal|      FALSE|\n",
      "|1926-12-26|     Portugal|      Hungary|             3|             3|      Friendly|   Porto|      Portugal|      FALSE|\n",
      "|1927-03-16|     Portugal|       France|             4|             0|      Friendly|  Lisbon|      Portugal|      FALSE|\n",
      "|1928-01-08|     Portugal|        Spain|             2|             2|      Friendly|  Lisbon|      Portugal|      FALSE|\n",
      "+----------+-------------+-------------+--------------+--------------+--------------+--------+--------------+-----------+\n",
      "only showing top 5 rows\n",
      "\n"
     ]
    }
   ],
   "source": [
    "spark.sql('select * from results where home_teamname = \"Portugal\"').show(5)"
   ]
  },
  {
   "cell_type": "code",
   "execution_count": null,
   "id": "9d9b3fcd-141a-4bce-a0db-f53380c81552",
   "metadata": {},
   "outputs": [],
   "source": []
  },
  {
   "cell_type": "code",
   "execution_count": null,
   "id": "41aece3e-3c5d-46d8-acde-5cba8d577cf9",
   "metadata": {},
   "outputs": [],
   "source": []
  },
  {
   "cell_type": "code",
   "execution_count": null,
   "id": "752b5c3a-54b5-4b6c-802c-59a1493cacb7",
   "metadata": {},
   "outputs": [],
   "source": []
  },
  {
   "cell_type": "code",
   "execution_count": null,
   "id": "f3da1f5d-8ee4-466f-8009-8f4870f20d3b",
   "metadata": {},
   "outputs": [],
   "source": []
  },
  {
   "cell_type": "code",
   "execution_count": null,
   "id": "c0cdd030-69ae-48a5-b589-6c9fd11561a5",
   "metadata": {},
   "outputs": [],
   "source": []
  },
  {
   "cell_type": "code",
   "execution_count": null,
   "id": "39848608-0c54-438a-bc01-97d4ab1bc354",
   "metadata": {},
   "outputs": [],
   "source": []
  },
  {
   "cell_type": "code",
   "execution_count": 11,
   "id": "b6273415-1398-4dd6-bdd5-98a1291e7b31",
   "metadata": {},
   "outputs": [],
   "source": [
    "##CRIAR UM DATAFRAME NA MAO"
   ]
  },
  {
   "cell_type": "code",
   "execution_count": 14,
   "id": "972e74d1-52f6-49d1-89f5-d92154da071e",
   "metadata": {},
   "outputs": [],
   "source": [
    "df = spark.createDataFrame(\n",
    "    [{\"id\":1,\"nome\":\"Giovanna\"},\n",
    "    {\"id\":2,\"nome\":\"Gabriel\"},\n",
    "    {\"id\":3,\"nome\":\"Bruno\"}]\n",
    ")"
   ]
  },
  {
   "cell_type": "code",
   "execution_count": 15,
   "id": "ad88080c-e7b3-4d40-815a-b01594542f3e",
   "metadata": {},
   "outputs": [
    {
     "name": "stdout",
     "output_type": "stream",
     "text": [
      "+---+--------+\n",
      "| id|    nome|\n",
      "+---+--------+\n",
      "|  1|Giovanna|\n",
      "|  2| Gabriel|\n",
      "|  3|   Bruno|\n",
      "+---+--------+\n",
      "\n"
     ]
    }
   ],
   "source": [
    "df.show()"
   ]
  },
  {
   "cell_type": "code",
   "execution_count": 20,
   "id": "36fe8795-a8e1-4b4c-a5e1-efc51f1e3bcb",
   "metadata": {},
   "outputs": [],
   "source": [
    "##DATAFRAME A PARTIR DE ARQUIVOS\n",
    "## /raw/dados/results.csv\n",
    "\n",
    "df_results = spark.read.csv('s3a://raw/dados/results.csv',header=True)"
   ]
  },
  {
   "cell_type": "code",
   "execution_count": 21,
   "id": "0e6826cf-4355-45fc-822c-746cb9c4a904",
   "metadata": {},
   "outputs": [
    {
     "name": "stdout",
     "output_type": "stream",
     "text": [
      "+----------+----------------+-------------+--------------+--------------+--------------+---------+-------------------+-----------+\n",
      "|      date|   home_teamName|away_teamName|home_scoreHome|away_scoreAway|tournamentName| cityCity|     countryCountry|neutralTRUE|\n",
      "+----------+----------------+-------------+--------------+--------------+--------------+---------+-------------------+-----------+\n",
      "|1872-11-30|        Scotland|      England|             0|             0|      Friendly|  Glasgow|           Scotland|      FALSE|\n",
      "|1873-03-08|         England|     Scotland|             4|             2|      Friendly|   London|            England|      FALSE|\n",
      "|1874-03-07|        Scotland|      England|             2|             1|      Friendly|  Glasgow|           Scotland|      FALSE|\n",
      "|1875-03-06|         England|     Scotland|             2|             2|      Friendly|   London|            England|      FALSE|\n",
      "|1876-03-04|        Scotland|      England|             3|             0|      Friendly|  Glasgow|           Scotland|      FALSE|\n",
      "|1876-03-25|        Scotland|        Wales|             4|             0|      Friendly|  Glasgow|           Scotland|      FALSE|\n",
      "|1877-03-03|         England|     Scotland|             1|             3|      Friendly|   London|            England|      FALSE|\n",
      "|1877-03-05|           Wales|     Scotland|             0|             2|      Friendly|  Wrexham|              Wales|      FALSE|\n",
      "|1878-03-02|        Scotland|      England|             7|             2|      Friendly|  Glasgow|           Scotland|      FALSE|\n",
      "|1878-03-23|        Scotland|        Wales|             9|             0|      Friendly|  Glasgow|           Scotland|      FALSE|\n",
      "|1879-01-18|         England|        Wales|             2|             1|      Friendly|   London|            England|      FALSE|\n",
      "|1879-04-05|         England|     Scotland|             5|             4|      Friendly|   London|            England|      FALSE|\n",
      "|1879-04-07|           Wales|     Scotland|             0|             3|      Friendly|  Wrexham|              Wales|      FALSE|\n",
      "|1880-03-13|        Scotland|      England|             5|             4|      Friendly|  Glasgow|           Scotland|      FALSE|\n",
      "|1880-03-15|           Wales|      England|             2|             3|      Friendly|  Wrexham|              Wales|      FALSE|\n",
      "|1880-03-27|        Scotland|        Wales|             5|             1|      Friendly|  Glasgow|           Scotland|      FALSE|\n",
      "|1881-02-26|         England|        Wales|             0|             1|      Friendly|Blackburn|            England|      FALSE|\n",
      "|1881-03-12|         England|     Scotland|             1|             6|      Friendly|   London|            England|      FALSE|\n",
      "|1881-03-14|           Wales|     Scotland|             1|             5|      Friendly|  Wrexham|              Wales|      FALSE|\n",
      "|1882-02-18|Northern Ireland|      England|             0|            13|      Friendly|  Belfast|Republic of Ireland|      FALSE|\n",
      "+----------+----------------+-------------+--------------+--------------+--------------+---------+-------------------+-----------+\n",
      "only showing top 20 rows\n",
      "\n"
     ]
    }
   ],
   "source": [
    "df_results.show()"
   ]
  },
  {
   "cell_type": "code",
   "execution_count": 22,
   "id": "6cc1244d-445a-4645-a2fb-29dfab626196",
   "metadata": {},
   "outputs": [
    {
     "name": "stdout",
     "output_type": "stream",
     "text": [
      "root\n",
      " |-- date: string (nullable = true)\n",
      " |-- home_teamName: string (nullable = true)\n",
      " |-- away_teamName: string (nullable = true)\n",
      " |-- home_scoreHome: string (nullable = true)\n",
      " |-- away_scoreAway: string (nullable = true)\n",
      " |-- tournamentName: string (nullable = true)\n",
      " |-- cityCity: string (nullable = true)\n",
      " |-- countryCountry: string (nullable = true)\n",
      " |-- neutralTRUE: string (nullable = true)\n",
      "\n"
     ]
    }
   ],
   "source": [
    "df_results.printSchema()"
   ]
  },
  {
   "cell_type": "code",
   "execution_count": 24,
   "id": "747f3aa2-8d6f-4272-a477-3075938b3b30",
   "metadata": {},
   "outputs": [],
   "source": [
    "resultados = df_results.drop('neutralTRUE')"
   ]
  },
  {
   "cell_type": "code",
   "execution_count": 27,
   "id": "72288a00-fadb-4e99-b1c3-c52a33658c78",
   "metadata": {},
   "outputs": [
    {
     "name": "stdout",
     "output_type": "stream",
     "text": [
      "+----------+----------------+-------------+--------------+--------------+--------------+---------+-------------------+\n",
      "|      date|   home_teamName|away_teamName|home_scoreHome|away_scoreAway|tournamentName| cityCity|     countryCountry|\n",
      "+----------+----------------+-------------+--------------+--------------+--------------+---------+-------------------+\n",
      "|1872-11-30|        Scotland|      England|             0|             0|      Friendly|  Glasgow|           Scotland|\n",
      "|1873-03-08|         England|     Scotland|             4|             2|      Friendly|   London|            England|\n",
      "|1874-03-07|        Scotland|      England|             2|             1|      Friendly|  Glasgow|           Scotland|\n",
      "|1875-03-06|         England|     Scotland|             2|             2|      Friendly|   London|            England|\n",
      "|1876-03-04|        Scotland|      England|             3|             0|      Friendly|  Glasgow|           Scotland|\n",
      "|1876-03-25|        Scotland|        Wales|             4|             0|      Friendly|  Glasgow|           Scotland|\n",
      "|1877-03-03|         England|     Scotland|             1|             3|      Friendly|   London|            England|\n",
      "|1877-03-05|           Wales|     Scotland|             0|             2|      Friendly|  Wrexham|              Wales|\n",
      "|1878-03-02|        Scotland|      England|             7|             2|      Friendly|  Glasgow|           Scotland|\n",
      "|1878-03-23|        Scotland|        Wales|             9|             0|      Friendly|  Glasgow|           Scotland|\n",
      "|1879-01-18|         England|        Wales|             2|             1|      Friendly|   London|            England|\n",
      "|1879-04-05|         England|     Scotland|             5|             4|      Friendly|   London|            England|\n",
      "|1879-04-07|           Wales|     Scotland|             0|             3|      Friendly|  Wrexham|              Wales|\n",
      "|1880-03-13|        Scotland|      England|             5|             4|      Friendly|  Glasgow|           Scotland|\n",
      "|1880-03-15|           Wales|      England|             2|             3|      Friendly|  Wrexham|              Wales|\n",
      "|1880-03-27|        Scotland|        Wales|             5|             1|      Friendly|  Glasgow|           Scotland|\n",
      "|1881-02-26|         England|        Wales|             0|             1|      Friendly|Blackburn|            England|\n",
      "|1881-03-12|         England|     Scotland|             1|             6|      Friendly|   London|            England|\n",
      "|1881-03-14|           Wales|     Scotland|             1|             5|      Friendly|  Wrexham|              Wales|\n",
      "|1882-02-18|Northern Ireland|      England|             0|            13|      Friendly|  Belfast|Republic of Ireland|\n",
      "+----------+----------------+-------------+--------------+--------------+--------------+---------+-------------------+\n",
      "only showing top 20 rows\n",
      "\n"
     ]
    }
   ],
   "source": [
    "resultados.show()"
   ]
  },
  {
   "cell_type": "code",
   "execution_count": 28,
   "id": "c0d95e91-c001-4d2e-8596-b0dc01094e3c",
   "metadata": {},
   "outputs": [],
   "source": [
    "partidas = resultados \\\n",
    "    .withColumnRenamed('date','dt') \\\n",
    "    .withColumnRenamed('home_teamName','mandante') \\\n",
    "    .withColumnRenamed('away_teamName','visitante') \\\n",
    "    .withColumnRenamed('home_scoreHome','gol_mandante') \\\n",
    "    .withColumnRenamed('away_scoreAway','gol_visitante') \\\n",
    "    .withColumnRenamed('tournamentName','torneio') \\\n",
    "    .withColumnRenamed('cityCity','cidade') \\\n",
    "    .withColumnRenamed('countryCountry','pais')\n"
   ]
  },
  {
   "cell_type": "code",
   "execution_count": 29,
   "id": "519d4823-1af8-44be-bd59-b6b258c366a3",
   "metadata": {},
   "outputs": [
    {
     "name": "stdout",
     "output_type": "stream",
     "text": [
      "+----------+----------------+---------+------------+-------------+--------+---------+-------------------+\n",
      "|        dt|        mandante|visitante|gol_mandante|gol_visitante| torneio|   cidade|               pais|\n",
      "+----------+----------------+---------+------------+-------------+--------+---------+-------------------+\n",
      "|1872-11-30|        Scotland|  England|           0|            0|Friendly|  Glasgow|           Scotland|\n",
      "|1873-03-08|         England| Scotland|           4|            2|Friendly|   London|            England|\n",
      "|1874-03-07|        Scotland|  England|           2|            1|Friendly|  Glasgow|           Scotland|\n",
      "|1875-03-06|         England| Scotland|           2|            2|Friendly|   London|            England|\n",
      "|1876-03-04|        Scotland|  England|           3|            0|Friendly|  Glasgow|           Scotland|\n",
      "|1876-03-25|        Scotland|    Wales|           4|            0|Friendly|  Glasgow|           Scotland|\n",
      "|1877-03-03|         England| Scotland|           1|            3|Friendly|   London|            England|\n",
      "|1877-03-05|           Wales| Scotland|           0|            2|Friendly|  Wrexham|              Wales|\n",
      "|1878-03-02|        Scotland|  England|           7|            2|Friendly|  Glasgow|           Scotland|\n",
      "|1878-03-23|        Scotland|    Wales|           9|            0|Friendly|  Glasgow|           Scotland|\n",
      "|1879-01-18|         England|    Wales|           2|            1|Friendly|   London|            England|\n",
      "|1879-04-05|         England| Scotland|           5|            4|Friendly|   London|            England|\n",
      "|1879-04-07|           Wales| Scotland|           0|            3|Friendly|  Wrexham|              Wales|\n",
      "|1880-03-13|        Scotland|  England|           5|            4|Friendly|  Glasgow|           Scotland|\n",
      "|1880-03-15|           Wales|  England|           2|            3|Friendly|  Wrexham|              Wales|\n",
      "|1880-03-27|        Scotland|    Wales|           5|            1|Friendly|  Glasgow|           Scotland|\n",
      "|1881-02-26|         England|    Wales|           0|            1|Friendly|Blackburn|            England|\n",
      "|1881-03-12|         England| Scotland|           1|            6|Friendly|   London|            England|\n",
      "|1881-03-14|           Wales| Scotland|           1|            5|Friendly|  Wrexham|              Wales|\n",
      "|1882-02-18|Northern Ireland|  England|           0|           13|Friendly|  Belfast|Republic of Ireland|\n",
      "+----------+----------------+---------+------------+-------------+--------+---------+-------------------+\n",
      "only showing top 20 rows\n",
      "\n"
     ]
    }
   ],
   "source": [
    "partidas.show()"
   ]
  },
  {
   "cell_type": "code",
   "execution_count": 30,
   "id": "827f5ba6-d788-4a1e-be65-1a63a4011182",
   "metadata": {},
   "outputs": [
    {
     "name": "stdout",
     "output_type": "stream",
     "text": [
      "root\n",
      " |-- dt: string (nullable = true)\n",
      " |-- mandante: string (nullable = true)\n",
      " |-- visitante: string (nullable = true)\n",
      " |-- gol_mandante: string (nullable = true)\n",
      " |-- gol_visitante: string (nullable = true)\n",
      " |-- torneio: string (nullable = true)\n",
      " |-- cidade: string (nullable = true)\n",
      " |-- pais: string (nullable = true)\n",
      "\n"
     ]
    }
   ],
   "source": [
    "partidas.printSchema()"
   ]
  },
  {
   "cell_type": "code",
   "execution_count": 52,
   "id": "eed01ca7-3117-4330-b0c2-37a0d979fc55",
   "metadata": {},
   "outputs": [],
   "source": [
    "from pyspark.sql.functions import col\n",
    "df_final = partidas \\\n",
    "    .withColumn('dt',col('dt').cast(\"date\")) \\\n",
    "    .withColumn('gol_mandante',col('gol_mandante').cast(\"int\")) \\\n",
    "    .withColumn('gol_visitante',col('gol_visitante').cast(\"int\")) "
   ]
  },
  {
   "cell_type": "code",
   "execution_count": 53,
   "id": "349e5e71-07eb-49e6-8ec1-456472bb989c",
   "metadata": {},
   "outputs": [
    {
     "name": "stdout",
     "output_type": "stream",
     "text": [
      "root\n",
      " |-- dt: date (nullable = true)\n",
      " |-- mandante: string (nullable = true)\n",
      " |-- visitante: string (nullable = true)\n",
      " |-- gol_mandante: integer (nullable = true)\n",
      " |-- gol_visitante: integer (nullable = true)\n",
      " |-- torneio: string (nullable = true)\n",
      " |-- cidade: string (nullable = true)\n",
      " |-- pais: string (nullable = true)\n",
      "\n"
     ]
    }
   ],
   "source": [
    "df_final.printSchema()"
   ]
  },
  {
   "cell_type": "code",
   "execution_count": 54,
   "id": "1efe3560-a8fe-470c-a3e2-a310e6a39bd0",
   "metadata": {},
   "outputs": [
    {
     "name": "stdout",
     "output_type": "stream",
     "text": [
      "+----------+----------------+---------+------------+-------------+--------+---------+-------------------+\n",
      "|        dt|        mandante|visitante|gol_mandante|gol_visitante| torneio|   cidade|               pais|\n",
      "+----------+----------------+---------+------------+-------------+--------+---------+-------------------+\n",
      "|1872-11-30|        Scotland|  England|           0|            0|Friendly|  Glasgow|           Scotland|\n",
      "|1873-03-08|         England| Scotland|           4|            2|Friendly|   London|            England|\n",
      "|1874-03-07|        Scotland|  England|           2|            1|Friendly|  Glasgow|           Scotland|\n",
      "|1875-03-06|         England| Scotland|           2|            2|Friendly|   London|            England|\n",
      "|1876-03-04|        Scotland|  England|           3|            0|Friendly|  Glasgow|           Scotland|\n",
      "|1876-03-25|        Scotland|    Wales|           4|            0|Friendly|  Glasgow|           Scotland|\n",
      "|1877-03-03|         England| Scotland|           1|            3|Friendly|   London|            England|\n",
      "|1877-03-05|           Wales| Scotland|           0|            2|Friendly|  Wrexham|              Wales|\n",
      "|1878-03-02|        Scotland|  England|           7|            2|Friendly|  Glasgow|           Scotland|\n",
      "|1878-03-23|        Scotland|    Wales|           9|            0|Friendly|  Glasgow|           Scotland|\n",
      "|1879-01-18|         England|    Wales|           2|            1|Friendly|   London|            England|\n",
      "|1879-04-05|         England| Scotland|           5|            4|Friendly|   London|            England|\n",
      "|1879-04-07|           Wales| Scotland|           0|            3|Friendly|  Wrexham|              Wales|\n",
      "|1880-03-13|        Scotland|  England|           5|            4|Friendly|  Glasgow|           Scotland|\n",
      "|1880-03-15|           Wales|  England|           2|            3|Friendly|  Wrexham|              Wales|\n",
      "|1880-03-27|        Scotland|    Wales|           5|            1|Friendly|  Glasgow|           Scotland|\n",
      "|1881-02-26|         England|    Wales|           0|            1|Friendly|Blackburn|            England|\n",
      "|1881-03-12|         England| Scotland|           1|            6|Friendly|   London|            England|\n",
      "|1881-03-14|           Wales| Scotland|           1|            5|Friendly|  Wrexham|              Wales|\n",
      "|1882-02-18|Northern Ireland|  England|           0|           13|Friendly|  Belfast|Republic of Ireland|\n",
      "+----------+----------------+---------+------------+-------------+--------+---------+-------------------+\n",
      "only showing top 20 rows\n",
      "\n"
     ]
    }
   ],
   "source": [
    "df_final.show()"
   ]
  },
  {
   "cell_type": "code",
   "execution_count": 49,
   "id": "45d34d1a-c7bf-4fe4-8a27-134b7e857512",
   "metadata": {},
   "outputs": [],
   "source": [
    "p = df_final.toPandas()"
   ]
  },
  {
   "cell_type": "code",
   "execution_count": 51,
   "id": "57c5c855-e11e-4a6e-8dcc-30d52dc4fb49",
   "metadata": {},
   "outputs": [],
   "source": [
    "import pandas as pd"
   ]
  },
  {
   "cell_type": "code",
   "execution_count": 55,
   "id": "f272b458-de51-4a80-9e9c-b93e0b53dee9",
   "metadata": {},
   "outputs": [],
   "source": [
    "##VALIDACAO"
   ]
  },
  {
   "cell_type": "code",
   "execution_count": 56,
   "id": "5f84f574-4de0-49c8-abd0-c8c13f70a612",
   "metadata": {},
   "outputs": [
    {
     "name": "stdout",
     "output_type": "stream",
     "text": [
      "+-------+-------------+-------------+------------------+------------------+---------------+-------------------+-----------+\n",
      "|summary|     mandante|    visitante|      gol_mandante|     gol_visitante|        torneio|             cidade|       pais|\n",
      "+-------+-------------+-------------+------------------+------------------+---------------+-------------------+-----------+\n",
      "|  count|        40839|        40839|             40839|             40839|          40839|              40839|      40839|\n",
      "|   mean|         null|         null|1.7457087587844953| 1.188104507945836|           null|               null|       null|\n",
      "| stddev|         null|         null| 1.749144918253105|1.4051198000976632|           null|               null|       null|\n",
      "|    min|     Abkhazia|     Abkhazia|                 0|                 0|ABCS Tournament|6th of October City|Afghanistan|\n",
      "|    max|Åland Islands|Åland Islands|                31|                21|World Unity Cup|             ‘Atele|       Éire|\n",
      "+-------+-------------+-------------+------------------+------------------+---------------+-------------------+-----------+\n",
      "\n"
     ]
    }
   ],
   "source": [
    "df_final.describe().show()"
   ]
  },
  {
   "cell_type": "code",
   "execution_count": 60,
   "id": "cd8aed20-93b4-4a05-a68b-36eda4e02494",
   "metadata": {},
   "outputs": [
    {
     "name": "stdout",
     "output_type": "stream",
     "text": [
      "+----------+----------------+----------------+------------+-------------+--------------------+------------+-------------------+\n",
      "|        dt|        mandante|       visitante|gol_mandante|gol_visitante|             torneio|      cidade|               pais|\n",
      "+----------+----------------+----------------+------------+-------------+--------------------+------------+-------------------+\n",
      "|1879-04-07|           Wales|        Scotland|           0|            3|            Friendly|     Wrexham|              Wales|\n",
      "|1885-02-28|         England|Northern Ireland|           4|            0|British Championship|  Manchester|            England|\n",
      "|1886-03-13|Northern Ireland|         England|           1|            6|British Championship|     Belfast|Republic of Ireland|\n",
      "|1888-02-04|         England|           Wales|           5|            1|British Championship|       Crewe|            England|\n",
      "|1891-03-07|         England|           Wales|           4|            1|British Championship|  Sunderland|            England|\n",
      "|1891-03-21|           Wales|        Scotland|           3|            4|British Championship|     Wrexham|              Wales|\n",
      "|1891-03-28|        Scotland|Northern Ireland|           2|            1|British Championship|     Glasgow|           Scotland|\n",
      "|1895-03-09|         England|Northern Ireland|           9|            0|British Championship|       Derby|            England|\n",
      "|1896-02-29|           Wales|Northern Ireland|           6|            1|British Championship|     Wrexham|              Wales|\n",
      "|1903-03-28|Northern Ireland|           Wales|           2|            0|British Championship|     Belfast|Republic of Ireland|\n",
      "|1903-09-13|       Argentina|         Uruguay|           2|            3|            Friendly|Buenos Aires|          Argentina|\n",
      "|1906-04-07|        Scotland|         England|           2|            1|British Championship|     Glasgow|           Scotland|\n",
      "|1906-08-15|         Uruguay|       Argentina|           0|            2|         Copa Lipton|  Montevideo|            Uruguay|\n",
      "|1907-04-14|         Belgium|     Netherlands|           1|            3|            Friendly|     Antwerp|            Belgium|\n",
      "|1908-11-01|         Hungary|         Austria|           5|            3|            Friendly|    Budapest|            Hungary|\n",
      "|1909-05-30|         Hungary|         Austria|           1|            1|            Friendly|    Budapest|            Hungary|\n",
      "|1910-03-13|         Belgium|     Netherlands|           3|            2|            Friendly|     Antwerp|            Belgium|\n",
      "|1910-03-14|           Wales|         England|           0|            1|British Championship|     Cardiff|              Wales|\n",
      "|1910-03-19|Northern Ireland|        Scotland|           1|            0|British Championship|     Belfast|Republic of Ireland|\n",
      "|1910-04-03|          France|         Belgium|           0|            4|            Friendly|    Gentilly|             France|\n",
      "+----------+----------------+----------------+------------+-------------+--------------------+------------+-------------------+\n",
      "only showing top 20 rows\n",
      "\n"
     ]
    }
   ],
   "source": [
    "df_final.sample(0.1).show()"
   ]
  },
  {
   "cell_type": "code",
   "execution_count": 64,
   "id": "ccfd8b50-f527-4405-b111-85bf07224370",
   "metadata": {},
   "outputs": [
    {
     "name": "stdout",
     "output_type": "stream",
     "text": [
      "+----------+----------------+---------------+------------+-------------+--------------------+---------+-----+\n",
      "|        dt|        mandante|      visitante|gol_mandante|gol_visitante|             torneio|   cidade| pais|\n",
      "+----------+----------------+---------------+------------+-------------+--------------------+---------+-----+\n",
      "|2019-07-20|Papua New Guinea|           Fiji|           1|            1|       Pacific Games|     Apia|Samoa|\n",
      "|2019-07-19|      Tajikistan|    North Korea|           0|            1|Intercontinental Cup|Ahmedabad|India|\n",
      "|2019-07-19|         Senegal|        Algeria|           0|            1|African Cup of Na...|    Cairo|Egypt|\n",
      "|2019-07-18|Papua New Guinea|          Tonga|           8|            0|       Pacific Games|     Apia|Samoa|\n",
      "|2019-07-18|   New Caledonia|         Tuvalu|          11|            0|       Pacific Games|     Apia|Samoa|\n",
      "|2019-07-18|  American Samoa|         Tahiti|           8|            1|       Pacific Games|     Apia|Samoa|\n",
      "|2019-07-18|           Samoa|        Vanuatu|           0|           11|       Pacific Games|     Apia|Samoa|\n",
      "|2019-07-18|            Fiji|Solomon Islands|           4|            4|       Pacific Games|     Apia|Samoa|\n",
      "|2019-07-17|         Tunisia|        Nigeria|           0|            1|African Cup of Na...|    Cairo|Egypt|\n",
      "|2019-07-16|           India|          Syria|           1|            1|Intercontinental Cup|Ahmedabad|India|\n",
      "|2019-07-15|            Fiji|         Tuvalu|          10|            1|       Pacific Games|     Apia|Samoa|\n",
      "|2019-07-15| Solomon Islands| American Samoa|          13|            0|       Pacific Games|     Apia|Samoa|\n",
      "|2019-07-15|          Tahiti|  New Caledonia|           0|            3|       Pacific Games|     Apia|Samoa|\n",
      "|2019-07-15|     North Korea|     Tajikistan|           1|            0|Intercontinental Cup|Ahmedabad|India|\n",
      "|2019-07-15|           Tonga|        Vanuatu|           0|           14|       Pacific Games|     Apia|Samoa|\n",
      "|2019-07-14|         Algeria|        Nigeria|           2|            1|African Cup of Na...|    Cairo|Egypt|\n",
      "|2019-07-14|         Senegal|        Tunisia|           1|            0|African Cup of Na...|    Cairo|Egypt|\n",
      "|2019-07-13|           India|    North Korea|           2|            5|Intercontinental Cup|Ahmedabad|India|\n",
      "|2019-07-12| Solomon Islands|         Tahiti|           0|            3|       Pacific Games|     Apia|Samoa|\n",
      "|2019-07-12|           Samoa|          Tonga|           2|            0|       Pacific Games|     Apia|Samoa|\n",
      "+----------+----------------+---------------+------------+-------------+--------------------+---------+-----+\n",
      "only showing top 20 rows\n",
      "\n"
     ]
    }
   ],
   "source": [
    "df_final.orderBy('dt',ascending=False).show()"
   ]
  },
  {
   "cell_type": "code",
   "execution_count": 66,
   "id": "db0d109c-ebf4-4cd8-9c2d-7b21985875e5",
   "metadata": {},
   "outputs": [
    {
     "name": "stdout",
     "output_type": "stream",
     "text": [
      "+----------+---------+--------------+------------+-------------+----------------------------+-------------+---------+\n",
      "|dt        |mandante |visitante     |gol_mandante|gol_visitante|torneio                     |cidade       |pais     |\n",
      "+----------+---------+--------------+------------+-------------+----------------------------+-------------+---------+\n",
      "|2001-04-11|Australia|American Samoa|31          |0            |FIFA World Cup qualification|Coffs Harbour|Australia|\n",
      "+----------+---------+--------------+------------+-------------+----------------------------+-------------+---------+\n",
      "\n"
     ]
    }
   ],
   "source": [
    "df_final.filter(df_final.gol_mandante == 31).show(truncate=False)"
   ]
  },
  {
   "cell_type": "code",
   "execution_count": 68,
   "id": "57db7f61-74ee-48c7-a723-3a6b1bf858e9",
   "metadata": {},
   "outputs": [
    {
     "name": "stdout",
     "output_type": "stream",
     "text": [
      "+------------------------------------+\n",
      "|torneio                             |\n",
      "+------------------------------------+\n",
      "|ABCS Tournament                     |\n",
      "|AFC Asian Cup                       |\n",
      "|AFC Asian Cup qualification         |\n",
      "|AFC Challenge Cup                   |\n",
      "|AFC Challenge Cup qualification     |\n",
      "|AFF Championship                    |\n",
      "|AFF Championship qualification      |\n",
      "|African Cup of Nations              |\n",
      "|African Cup of Nations qualification|\n",
      "|African Nations Championship        |\n",
      "|Amílcar Cabral Cup                  |\n",
      "|Atlantic Cup                        |\n",
      "|Atlantic Heritage Cup               |\n",
      "|Balkan Cup                          |\n",
      "|Baltic Cup                          |\n",
      "|Brazil Independence Cup             |\n",
      "|British Championship                |\n",
      "|CCCF Championship                   |\n",
      "|CECAFA Cup                          |\n",
      "|CFU Caribbean Cup                   |\n",
      "+------------------------------------+\n",
      "only showing top 20 rows\n",
      "\n"
     ]
    }
   ],
   "source": [
    "df_final.select(df_final.torneio).distinct().orderBy('torneio').show(truncate=False)"
   ]
  },
  {
   "cell_type": "code",
   "execution_count": 75,
   "id": "8d4e61c2-a2b9-4a59-9144-0f1f97a7c792",
   "metadata": {},
   "outputs": [
    {
     "data": {
      "text/plain": [
       "109"
      ]
     },
     "execution_count": 75,
     "metadata": {},
     "output_type": "execute_result"
    }
   ],
   "source": [
    "df_final \\\n",
    "    .select(df_final.torneio) \\\n",
    "    .distinct() \\\n",
    "    .orderBy('torneio') \\\n",
    "    .count()"
   ]
  },
  {
   "cell_type": "code",
   "execution_count": 76,
   "id": "3011d2c7-ee55-45e4-939e-ee0bdd1e0549",
   "metadata": {},
   "outputs": [
    {
     "name": "stdout",
     "output_type": "stream",
     "text": [
      "+------------------------------------+-----+\n",
      "|torneio                             |count|\n",
      "+------------------------------------+-----+\n",
      "|Friendly                            |16911|\n",
      "|FIFA World Cup qualification        |7100 |\n",
      "|UEFA Euro qualification             |2432 |\n",
      "|African Cup of Nations qualification|1616 |\n",
      "|FIFA World Cup                      |900  |\n",
      "+------------------------------------+-----+\n",
      "only showing top 5 rows\n",
      "\n"
     ]
    }
   ],
   "source": [
    "df_final \\\n",
    "    .groupby('torneio') \\\n",
    "    .count() \\\n",
    "    .orderBy('count',ascending=False) \\\n",
    "    .show(5,truncate=False)"
   ]
  },
  {
   "cell_type": "code",
   "execution_count": 77,
   "id": "341a591c-32ee-4bd8-839a-a8c5bc4e0d86",
   "metadata": {},
   "outputs": [],
   "source": [
    "df_final.createOrReplaceTempView('partidas')"
   ]
  },
  {
   "cell_type": "code",
   "execution_count": 80,
   "id": "45e90553-a39f-4852-81c8-aa6b219bc94f",
   "metadata": {},
   "outputs": [
    {
     "name": "stdout",
     "output_type": "stream",
     "text": [
      "+------------------------------------+-----+\n",
      "|torneio                             |count|\n",
      "+------------------------------------+-----+\n",
      "|Friendly                            |16911|\n",
      "|FIFA World Cup qualification        |7100 |\n",
      "|UEFA Euro qualification             |2432 |\n",
      "|African Cup of Nations qualification|1616 |\n",
      "|FIFA World Cup                      |900  |\n",
      "+------------------------------------+-----+\n",
      "\n"
     ]
    }
   ],
   "source": [
    "spark.sql('select torneio,count(*) as count from partidas group by torneio order by 2 desc limit 5').show(truncate=False)"
   ]
  },
  {
   "cell_type": "code",
   "execution_count": 85,
   "id": "2ad5d0c9-773e-46fd-b176-35232d6d576a",
   "metadata": {},
   "outputs": [],
   "source": [
    "df_sql = spark.sql('select torneio,count(*) as count from partidas group by torneio order by 2 desc')"
   ]
  },
  {
   "cell_type": "code",
   "execution_count": 86,
   "id": "cd8e2c76-2f94-4d74-aa5a-825ae8138a58",
   "metadata": {},
   "outputs": [
    {
     "data": {
      "text/plain": [
       "pyspark.sql.dataframe.DataFrame"
      ]
     },
     "execution_count": 86,
     "metadata": {},
     "output_type": "execute_result"
    }
   ],
   "source": [
    "type(df_sql)"
   ]
  },
  {
   "cell_type": "code",
   "execution_count": 93,
   "id": "1013f572-c84b-40eb-a199-d5d18669e0cd",
   "metadata": {},
   "outputs": [],
   "source": [
    "## PARTIDAS DO BRASIL EM AMISTOSOS\n",
    "df_brasil = df_final \\\n",
    "    .filter(df_final.torneio == 'Friendly') \\\n",
    "    .filter((df_final.mandante == 'Brazil') | (df_final.visitante == 'Brazil')) "
   ]
  },
  {
   "cell_type": "code",
   "execution_count": 92,
   "id": "df0a8a15-8fbc-45ef-acfe-19dd4b0af8c6",
   "metadata": {},
   "outputs": [],
   "source": [
    "## TOTAL DE PARTIDAS 428"
   ]
  },
  {
   "cell_type": "code",
   "execution_count": 97,
   "id": "c06b1e93-0b44-4c93-b47b-855d1574fc64",
   "metadata": {},
   "outputs": [
    {
     "name": "stdout",
     "output_type": "stream",
     "text": [
      "+----------+-------------------+-----------+------------+-------------+--------+---------------+-------------------+\n",
      "|        dt|           mandante|  visitante|gol_mandante|gol_visitante| torneio|         cidade|               pais|\n",
      "+----------+-------------------+-----------+------------+-------------+--------+---------------+-------------------+\n",
      "|2019-03-23|             Brazil|     Panama|           1|            1|Friendly|          Porto|           Portugal|\n",
      "|2017-11-14|            England|     Brazil|           0|            0|Friendly|         London|            England|\n",
      "|2013-06-02|             Brazil|    England|           2|            2|Friendly| Rio de Janeiro|             Brazil|\n",
      "|2013-04-24|             Brazil|      Chile|           2|            2|Friendly| Belo Horizonte|             Brazil|\n",
      "|2013-03-25|             Russia|     Brazil|           1|            1|Friendly|         London|            England|\n",
      "|2013-03-21|              Italy|     Brazil|           2|            2|Friendly|         Geneva|        Switzerland|\n",
      "|2012-11-14|             Brazil|   Colombia|           1|            1|Friendly|East Rutherford|      United States|\n",
      "|2011-09-14|          Argentina|     Brazil|           0|            0|Friendly|        Córdoba|          Argentina|\n",
      "|2011-06-04|             Brazil|Netherlands|           0|            0|Friendly|        Goiânia|             Brazil|\n",
      "|2007-06-05|             Turkey|     Brazil|           0|            0|Friendly|       Dortmund|            Germany|\n",
      "|2007-06-01|            England|     Brazil|           1|            1|Friendly|         London|            England|\n",
      "|2006-08-16|             Norway|     Brazil|           1|            1|Friendly|           Oslo|             Norway|\n",
      "|2005-08-17|            Croatia|     Brazil|           1|            1|Friendly|          Split|            Croatia|\n",
      "|2004-09-08|            Germany|     Brazil|           1|            1|Friendly|         Berlin|            Germany|\n",
      "|2004-05-20|             France|     Brazil|           0|            0|Friendly|    Saint-Denis|             France|\n",
      "|2004-02-18|Republic of Ireland|     Brazil|           0|            0|Friendly|         Dublin|Republic of Ireland|\n",
      "|2003-04-30|             Mexico|     Brazil|           0|            0|Friendly|    Guadalajara|             Mexico|\n",
      "|2003-02-12|           China PR|     Brazil|           0|            0|Friendly|      Guangzhou|           China PR|\n",
      "|2002-04-17|           Portugal|     Brazil|           1|            1|Friendly|         Lisbon|           Portugal|\n",
      "|2001-03-07|             Mexico|     Brazil|           3|            3|Friendly|    Guadalajara|             Mexico|\n",
      "+----------+-------------------+-----------+------------+-------------+--------+---------------+-------------------+\n",
      "only showing top 20 rows\n",
      "\n"
     ]
    }
   ],
   "source": [
    "## EMPATES\n",
    "## 80\n",
    "df_brasil.filter(df_brasil.gol_mandante == df_brasil.gol_visitante).orderBy('dt',ascending=False).show()"
   ]
  },
  {
   "cell_type": "code",
   "execution_count": 102,
   "id": "0d50905d-95bd-49a9-97de-6627e18d52e3",
   "metadata": {},
   "outputs": [
    {
     "data": {
      "text/plain": [
       "294"
      ]
     },
     "execution_count": 102,
     "metadata": {},
     "output_type": "execute_result"
    }
   ],
   "source": [
    "## PARTIDAS QUE O BRASIL GANHOU\n",
    "## 294\n",
    "df_brasil \\\n",
    "    .filter( \\\n",
    "                ((df_brasil.mandante == 'Brazil') & (df_brasil.gol_mandante > df_brasil.gol_visitante)) \\\n",
    "                | \\\n",
    "                ((df_brasil.visitante == 'Brazil') & (df_brasil.gol_mandante < df_brasil.gol_visitante)) \\\n",
    "           ) \\\n",
    "    .orderBy('dt',ascending=False).count()"
   ]
  },
  {
   "cell_type": "code",
   "execution_count": 104,
   "id": "a436dc68-89da-4034-8a76-45601efc02f3",
   "metadata": {},
   "outputs": [
    {
     "name": "stdout",
     "output_type": "stream",
     "text": [
      "+----------+-----------+---------+------------+-------------+--------+---------------+-------------+\n",
      "|        dt|   mandante|visitante|gol_mandante|gol_visitante| torneio|         cidade|         pais|\n",
      "+----------+-----------+---------+------------+-------------+--------+---------------+-------------+\n",
      "|2017-06-09|  Argentina|   Brazil|           1|            0|Friendly|      Melbourne|    Australia|\n",
      "|2013-08-14|Switzerland|   Brazil|           1|            0|Friendly|          Basel|  Switzerland|\n",
      "|2013-02-06|    England|   Brazil|           2|            1|Friendly|         London|      England|\n",
      "|2012-11-21|  Argentina|   Brazil|           2|            1|Friendly|   Buenos Aires|    Argentina|\n",
      "|2012-06-09|     Brazil|Argentina|           3|            4|Friendly|East Rutherford|United States|\n",
      "|2012-06-03|     Mexico|   Brazil|           2|            0|Friendly|      Arlington|United States|\n",
      "|2011-08-10|    Germany|   Brazil|           3|            2|Friendly|      Stuttgart|      Germany|\n",
      "|2011-02-09|     France|   Brazil|           1|            0|Friendly|    Saint-Denis|       France|\n",
      "|2010-11-17|  Argentina|   Brazil|           1|            0|Friendly|           Doha|        Qatar|\n",
      "|2008-06-06|     Brazil|Venezuela|           0|            2|Friendly|     Foxborough|United States|\n",
      "|2007-02-06|   Portugal|   Brazil|           2|            0|Friendly|         London|      England|\n",
      "|2003-03-29|   Portugal|   Brazil|           2|            1|Friendly|          Porto|     Portugal|\n",
      "|2002-08-21|     Brazil| Paraguay|           0|            1|Friendly|      Fortaleza|       Brazil|\n",
      "|1999-09-04|  Argentina|   Brazil|           2|            0|Friendly|   Buenos Aires|    Argentina|\n",
      "|1999-03-28|South Korea|   Brazil|           1|            0|Friendly|          Seoul|  South Korea|\n",
      "|1998-04-29|     Brazil|Argentina|           0|            1|Friendly| Rio de Janeiro|       Brazil|\n",
      "|1997-05-30|     Norway|   Brazil|           4|            2|Friendly|           Oslo|       Norway|\n",
      "|1993-11-17|    Germany|   Brazil|           2|            1|Friendly|        Cologne|      Germany|\n",
      "|1992-11-25|     Brazil|  Uruguay|           1|            2|Friendly| Campina Grande|       Brazil|\n",
      "|1992-04-30|    Uruguay|   Brazil|           1|            0|Friendly|     Montevideo|      Uruguay|\n",
      "+----------+-----------+---------+------------+-------------+--------+---------------+-------------+\n",
      "only showing top 20 rows\n",
      "\n"
     ]
    }
   ],
   "source": [
    "## PARTIDAS QUE O BRASIL PERDEU\n",
    "## 54\n",
    "df_brasil \\\n",
    "    .filter( \\\n",
    "                ((df_brasil.mandante == 'Brazil') & (df_brasil.gol_mandante < df_brasil.gol_visitante)) \\\n",
    "                | \\\n",
    "                ((df_brasil.visitante == 'Brazil') & (df_brasil.gol_mandante > df_brasil.gol_visitante)) \\\n",
    "           ) \\\n",
    "    .orderBy('dt',ascending=False).show()"
   ]
  },
  {
   "cell_type": "code",
   "execution_count": 128,
   "id": "fa095e43-f365-49f9-accd-075dae7c60c4",
   "metadata": {},
   "outputs": [],
   "source": [
    "url = \"jdbc:postgresql://postgres:5432/dvdrental\"\n",
    "\n",
    "properties = {\n",
    "    \"user\": \"admin\",\n",
    "    \"password\": \"admin\",\n",
    "    \"driver\": \"org.postgresql.Driver\"\n",
    "}"
   ]
  },
  {
   "cell_type": "code",
   "execution_count": 129,
   "id": "78fd8b33-00e2-4150-99d7-d6fc4140309e",
   "metadata": {},
   "outputs": [],
   "source": [
    "df_city = spark.read.jdbc(url=url,table='public.city',properties=properties)"
   ]
  },
  {
   "cell_type": "code",
   "execution_count": 130,
   "id": "220c6121-e46a-43a3-a13b-1ab8708a4541",
   "metadata": {},
   "outputs": [
    {
     "name": "stdout",
     "output_type": "stream",
     "text": [
      "+-------+-----------+----------+-------------------+\n",
      "|city_id|       city|country_id|        last_update|\n",
      "+-------+-----------+----------+-------------------+\n",
      "|      2|       Abha|        82|2006-02-15 09:45:25|\n",
      "|      3|  Abu Dhabi|       101|2006-02-15 09:45:25|\n",
      "|      4|       Acua|        60|2006-02-15 09:45:25|\n",
      "|      5|      Adana|        97|2006-02-15 09:45:25|\n",
      "|      6|Addis Abeba|        31|2006-02-15 09:45:25|\n",
      "+-------+-----------+----------+-------------------+\n",
      "only showing top 5 rows\n",
      "\n"
     ]
    }
   ],
   "source": [
    "df_city.show(5)"
   ]
  },
  {
   "cell_type": "code",
   "execution_count": 131,
   "id": "7f1e9fd6-2882-4260-bfcd-1f7e3929bbe7",
   "metadata": {},
   "outputs": [],
   "source": [
    "df_city.write.format('hive').saveAsTable('mba.city')"
   ]
  },
  {
   "cell_type": "code",
   "execution_count": 132,
   "id": "882959e7-b42c-4704-a183-02ab6ea5006b",
   "metadata": {},
   "outputs": [],
   "source": [
    "df_hive = spark.read.table('mba.city')"
   ]
  },
  {
   "cell_type": "code",
   "execution_count": 133,
   "id": "362baecd-676c-436a-b4b4-9457fa98f7d1",
   "metadata": {},
   "outputs": [
    {
     "name": "stdout",
     "output_type": "stream",
     "text": [
      "+-------+---------+----------+-------------------+\n",
      "|city_id|     city|country_id|        last_update|\n",
      "+-------+---------+----------+-------------------+\n",
      "|      2|     Abha|        82|2006-02-15 09:45:25|\n",
      "|      3|Abu Dhabi|       101|2006-02-15 09:45:25|\n",
      "+-------+---------+----------+-------------------+\n",
      "only showing top 2 rows\n",
      "\n"
     ]
    }
   ],
   "source": [
    "df_hive.show(2)"
   ]
  },
  {
   "cell_type": "code",
   "execution_count": 134,
   "id": "e4959362-d069-4032-8501-dfa4bdc48d5d",
   "metadata": {},
   "outputs": [
    {
     "name": "stdout",
     "output_type": "stream",
     "text": [
      "+-------+--------------------+----------+-------------------+-------+--------------------+----------+-------------------+\n",
      "|city_id|                city|country_id|        last_update|city_id|                city|country_id|        last_update|\n",
      "+-------+--------------------+----------+-------------------+-------+--------------------+----------+-------------------+\n",
      "|      2|                Abha|        82|2006-02-15 09:45:25|      2|                Abha|        82|2006-02-15 09:45:25|\n",
      "|      3|           Abu Dhabi|       101|2006-02-15 09:45:25|      3|           Abu Dhabi|       101|2006-02-15 09:45:25|\n",
      "|      4|                Acua|        60|2006-02-15 09:45:25|      4|                Acua|        60|2006-02-15 09:45:25|\n",
      "|      5|               Adana|        97|2006-02-15 09:45:25|      5|               Adana|        97|2006-02-15 09:45:25|\n",
      "|      6|         Addis Abeba|        31|2006-02-15 09:45:25|      6|         Addis Abeba|        31|2006-02-15 09:45:25|\n",
      "|      7|                Aden|       107|2006-02-15 09:45:25|      7|                Aden|       107|2006-02-15 09:45:25|\n",
      "|      8|               Adoni|        44|2006-02-15 09:45:25|      8|               Adoni|        44|2006-02-15 09:45:25|\n",
      "|      9|          Ahmadnagar|        44|2006-02-15 09:45:25|      9|          Ahmadnagar|        44|2006-02-15 09:45:25|\n",
      "|     10|            Akishima|        50|2006-02-15 09:45:25|     10|            Akishima|        50|2006-02-15 09:45:25|\n",
      "|     11|               Akron|       103|2006-02-15 09:45:25|     11|               Akron|       103|2006-02-15 09:45:25|\n",
      "|     12|              al-Ayn|       101|2006-02-15 09:45:25|     12|              al-Ayn|       101|2006-02-15 09:45:25|\n",
      "|     13|           al-Hawiya|        82|2006-02-15 09:45:25|     13|           al-Hawiya|        82|2006-02-15 09:45:25|\n",
      "|     14|           al-Manama|        11|2006-02-15 09:45:25|     14|           al-Manama|        11|2006-02-15 09:45:25|\n",
      "|     15|          al-Qadarif|        89|2006-02-15 09:45:25|     15|          al-Qadarif|        89|2006-02-15 09:45:25|\n",
      "|     16|            al-Qatif|        82|2006-02-15 09:45:25|     16|            al-Qatif|        82|2006-02-15 09:45:25|\n",
      "|     17|         Alessandria|        49|2006-02-15 09:45:25|     17|         Alessandria|        49|2006-02-15 09:45:25|\n",
      "|     18|Allappuzha (Allep...|        44|2006-02-15 09:45:25|     18|Allappuzha (Allep...|        44|2006-02-15 09:45:25|\n",
      "|     19|             Allende|        60|2006-02-15 09:45:25|     19|             Allende|        60|2006-02-15 09:45:25|\n",
      "|     20|     Almirante Brown|         6|2006-02-15 09:45:25|     20|     Almirante Brown|         6|2006-02-15 09:45:25|\n",
      "|     21|            Alvorada|        15|2006-02-15 09:45:25|     21|            Alvorada|        15|2006-02-15 09:45:25|\n",
      "+-------+--------------------+----------+-------------------+-------+--------------------+----------+-------------------+\n",
      "only showing top 20 rows\n",
      "\n"
     ]
    }
   ],
   "source": [
    "df_hive.join(df_city,df_city.city_id == df_hive.city_id).show()"
   ]
  },
  {
   "cell_type": "code",
   "execution_count": null,
   "id": "5baeafc6-10ee-4678-9bbd-701a36809771",
   "metadata": {},
   "outputs": [],
   "source": []
  }
 ],
 "metadata": {
  "kernelspec": {
   "display_name": "Python 3 (ipykernel)",
   "language": "python",
   "name": "python3"
  },
  "language_info": {
   "codemirror_mode": {
    "name": "ipython",
    "version": 3
   },
   "file_extension": ".py",
   "mimetype": "text/x-python",
   "name": "python",
   "nbconvert_exporter": "python",
   "pygments_lexer": "ipython3",
   "version": "3.10.8"
  }
 },
 "nbformat": 4,
 "nbformat_minor": 5
}
