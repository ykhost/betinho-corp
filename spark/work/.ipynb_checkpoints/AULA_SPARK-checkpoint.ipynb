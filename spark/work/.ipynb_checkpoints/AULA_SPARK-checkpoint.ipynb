{
 "cells": [
  {
   "cell_type": "markdown",
   "id": "e7d8b0bf-a6ba-46e4-9a50-cd65a48e0ad5",
   "metadata": {},
   "source": [
    "## CRIANDO CONEXÃO"
   ]
  },
  {
   "cell_type": "code",
   "execution_count": 10,
   "id": "3bfb86b5-e2c2-4fd5-96aa-1b967acdb05e",
   "metadata": {},
   "outputs": [],
   "source": [
    "from pyspark.sql import SparkSession\n",
    "spark = SparkSession.builder.appName(\"Aula\").enableHiveSupport().getOrCreate()"
   ]
  },
  {
   "cell_type": "code",
   "execution_count": 11,
   "id": "f8937992-7ce2-4466-8fe0-6d1a3280443a",
   "metadata": {},
   "outputs": [
    {
     "data": {
      "text/html": [
       "\n",
       "            <div>\n",
       "                <p><b>SparkSession - hive</b></p>\n",
       "                \n",
       "        <div>\n",
       "            <p><b>SparkContext</b></p>\n",
       "\n",
       "            <p><a href=\"http://spark-master:4040\">Spark UI</a></p>\n",
       "\n",
       "            <dl>\n",
       "              <dt>Version</dt>\n",
       "                <dd><code>v3.3.1</code></dd>\n",
       "              <dt>Master</dt>\n",
       "                <dd><code>local[*]</code></dd>\n",
       "              <dt>AppName</dt>\n",
       "                <dd><code>Aula</code></dd>\n",
       "            </dl>\n",
       "        </div>\n",
       "        \n",
       "            </div>\n",
       "        "
      ],
      "text/plain": [
       "<pyspark.sql.session.SparkSession at 0x7f32f8dfc940>"
      ]
     },
     "execution_count": 11,
     "metadata": {},
     "output_type": "execute_result"
    }
   ],
   "source": [
    "spark"
   ]
  },
  {
   "cell_type": "markdown",
   "id": "a398a164-6e4b-4bd1-bdc1-c83140e86fbc",
   "metadata": {},
   "source": [
    "## CRIANDO DATAFRAME MANUALMENTE"
   ]
  },
  {
   "cell_type": "code",
   "execution_count": 12,
   "id": "b3ef193e-8bd1-4907-9691-8f1416763de0",
   "metadata": {},
   "outputs": [],
   "source": [
    "df_aluno = spark.createDataFrame([\n",
    "    {\"id\": 1, \"name\": \"Fabio\"},\n",
    "    {\"id\": 2, \"name\": \"Joao\"},\n",
    "    {\"id\": 3, \"name\": \"Fernando\"}\n",
    "])"
   ]
  },
  {
   "cell_type": "code",
   "execution_count": 13,
   "id": "a2c60081-e999-4034-b85a-b4d872ce6641",
   "metadata": {},
   "outputs": [
    {
     "data": {
      "text/plain": [
       "pyspark.sql.dataframe.DataFrame"
      ]
     },
     "execution_count": 13,
     "metadata": {},
     "output_type": "execute_result"
    }
   ],
   "source": [
    "#tipo do objeto\n",
    "type(df_aluno)"
   ]
  },
  {
   "cell_type": "markdown",
   "id": "397a1914-9aeb-4b19-a3b5-bc11e6ce0260",
   "metadata": {},
   "source": [
    "## CRIANDO DF A PARTIR DE ARQUIVOS"
   ]
  },
  {
   "cell_type": "code",
   "execution_count": 14,
   "id": "be19df8c-7110-4390-ae4a-ca8caf75da4f",
   "metadata": {},
   "outputs": [],
   "source": [
    "#CSV HADOOP"
   ]
  },
  {
   "cell_type": "code",
   "execution_count": 15,
   "id": "fa0f2c67-e7e4-43b6-a9e0-04621acd76d8",
   "metadata": {},
   "outputs": [],
   "source": [
    "df_csv = spark.read.csv('/datalake/raw/pessoas',header=True)"
   ]
  },
  {
   "cell_type": "code",
   "execution_count": 16,
   "id": "3b770d27-9067-42c7-aaf2-410c7e4c17d4",
   "metadata": {},
   "outputs": [],
   "source": [
    "#JSON HADOOP"
   ]
  },
  {
   "cell_type": "code",
   "execution_count": 17,
   "id": "5bcd03f7-445b-4fe9-a516-beb1f31e846d",
   "metadata": {},
   "outputs": [],
   "source": [
    "df_json = spark.read.json('/datalake/raw/user')"
   ]
  },
  {
   "cell_type": "code",
   "execution_count": 18,
   "id": "4a9306b8-a002-4835-af4f-359ab0cae9ec",
   "metadata": {},
   "outputs": [],
   "source": [
    "#JSON S3"
   ]
  },
  {
   "cell_type": "code",
   "execution_count": 19,
   "id": "0a18ed9f-13b7-4c54-ae16-4908a1519ec4",
   "metadata": {},
   "outputs": [],
   "source": [
    "df_jsons3 = spark.read.json('s3a://camada-bronze/user/')"
   ]
  },
  {
   "cell_type": "code",
   "execution_count": 20,
   "id": "918121e5-be30-491d-bf74-4c880dd97d3d",
   "metadata": {},
   "outputs": [],
   "source": [
    "df_teste = spark.read.load(\"/datalake/raw/pessoas\",format=\"csv\", sep=\",\", inferSchema=\"true\", header=\"true\")"
   ]
  },
  {
   "cell_type": "code",
   "execution_count": null,
   "id": "83f4b5e4-add9-4246-9b3f-93cbfa9124bd",
   "metadata": {},
   "outputs": [],
   "source": []
  },
  {
   "cell_type": "markdown",
   "id": "ff9802d9-e2d0-4c07-ae2d-a0f9aeb2a42c",
   "metadata": {},
   "source": [
    "## CRIANDO DF A PARTIR DE BANCO DE DADOS"
   ]
  },
  {
   "cell_type": "code",
   "execution_count": 21,
   "id": "3c724c6d-01f5-430a-9a9a-efb01c87fd1c",
   "metadata": {},
   "outputs": [],
   "source": [
    "url = \"jdbc:postgresql://postgres:5432/dvdrental\"\n",
    "\n",
    "properties = {\n",
    "    \"user\": \"admin\",\n",
    "    \"password\": \"admin\",\n",
    "    \"driver\": \"org.postgresql.Driver\"\n",
    "}"
   ]
  },
  {
   "cell_type": "code",
   "execution_count": 22,
   "id": "3dec4296-0658-4163-8d93-7c319298f080",
   "metadata": {},
   "outputs": [],
   "source": [
    "df_city = spark.read.jdbc(url=url,table='public.city',properties=properties)\n",
    "df_county = spark.read.jdbc(url=url,table='public.country',properties=properties)"
   ]
  },
  {
   "cell_type": "code",
   "execution_count": 23,
   "id": "b37dbddc-2488-48d5-8e05-4cce2d4034bb",
   "metadata": {},
   "outputs": [],
   "source": [
    "query = '(select c.city_id ,city, country from public.city c \\\n",
    "        inner join public.country c2 \\\n",
    "        on c2.country_id  = c.country_id) as tab '"
   ]
  },
  {
   "cell_type": "code",
   "execution_count": 38,
   "id": "0131911c-1e28-4bc6-94e5-c8140bfe7035",
   "metadata": {},
   "outputs": [],
   "source": [
    "df_query = spark.read.jdbc(url=url,table=query,properties=properties)"
   ]
  },
  {
   "cell_type": "markdown",
   "id": "d030d75c-d100-4fb8-b1ee-685fc9250c9b",
   "metadata": {},
   "source": [
    "## AÇÃO E TRANSFORMAÇÃO"
   ]
  },
  {
   "cell_type": "code",
   "execution_count": 42,
   "id": "2574c10c-6860-455b-9a67-99a267ff9a43",
   "metadata": {},
   "outputs": [
    {
     "name": "stdout",
     "output_type": "stream",
     "text": [
      "+-------+-----------+----------+-------------------+\n",
      "|city_id|       city|country_id|        last_update|\n",
      "+-------+-----------+----------+-------------------+\n",
      "|      2|       Abha|        82|2006-02-15 09:45:25|\n",
      "|      3|  Abu Dhabi|       101|2006-02-15 09:45:25|\n",
      "|      4|       Acua|        60|2006-02-15 09:45:25|\n",
      "|      5|      Adana|        97|2006-02-15 09:45:25|\n",
      "|      6|Addis Abeba|        31|2006-02-15 09:45:25|\n",
      "|      7|       Aden|       107|2006-02-15 09:45:25|\n",
      "|      8|      Adoni|        44|2006-02-15 09:45:25|\n",
      "|      9| Ahmadnagar|        44|2006-02-15 09:45:25|\n",
      "|     10|   Akishima|        50|2006-02-15 09:45:25|\n",
      "|     11|      Akron|       103|2006-02-15 09:45:25|\n",
      "+-------+-----------+----------+-------------------+\n",
      "only showing top 10 rows\n",
      "\n"
     ]
    },
    {
     "data": {
      "text/plain": [
       "652"
      ]
     },
     "execution_count": 42,
     "metadata": {},
     "output_type": "execute_result"
    }
   ],
   "source": [
    "#AÇÃO\n",
    "df_city.show(10)\n",
    "df_city.count()"
   ]
  },
  {
   "cell_type": "code",
   "execution_count": 50,
   "id": "b2c2efda-6ca7-45f9-8617-3512036bc2c4",
   "metadata": {},
   "outputs": [
    {
     "name": "stdout",
     "output_type": "stream",
     "text": [
      "== Parsed Logical Plan ==\n",
      "Filter StartsWith(city#4666, A)\n",
      "+- Filter (cast(country_id#4667 as int) = 101)\n",
      "   +- Relation [city_id#4665,city#4666,country_id#4667,last_update#4668] JDBCRelation(public.city) [numPartitions=1]\n",
      "\n",
      "== Analyzed Logical Plan ==\n",
      "city_id: int, city: string, country_id: smallint, last_update: timestamp\n",
      "Filter StartsWith(city#4666, A)\n",
      "+- Filter (cast(country_id#4667 as int) = 101)\n",
      "   +- Relation [city_id#4665,city#4666,country_id#4667,last_update#4668] JDBCRelation(public.city) [numPartitions=1]\n",
      "\n",
      "== Optimized Logical Plan ==\n",
      "Filter ((isnotnull(country_id#4667) AND isnotnull(city#4666)) AND ((country_id#4667 = 101) AND StartsWith(city#4666, A)))\n",
      "+- Relation [city_id#4665,city#4666,country_id#4667,last_update#4668] JDBCRelation(public.city) [numPartitions=1]\n",
      "\n",
      "== Physical Plan ==\n",
      "*(1) Scan JDBCRelation(public.city) [numPartitions=1] [city_id#4665,city#4666,country_id#4667,last_update#4668] PushedFilters: [*IsNotNull(country_id), *IsNotNull(city), *EqualTo(country_id,101), *StringStartsWith(city,A)], ReadSchema: struct<city_id:int,city:string,country_id:smallint,last_update:timestamp>\n",
      "\n"
     ]
    }
   ],
   "source": [
    "#TRANSFORMAÇÃO\n",
    "df_city2 = df_city.filter(df_city.country_id == 101).filter(df_city.city.startswith('A'))\n",
    "df_city2.explain(extended=True)"
   ]
  },
  {
   "cell_type": "markdown",
   "id": "b513e537-6074-4884-ba63-994c9a586d5a",
   "metadata": {},
   "source": [
    "## VALIDANDO DATAFRAME"
   ]
  },
  {
   "cell_type": "code",
   "execution_count": null,
   "id": "d450c5d5-663a-4c58-947e-3f6be1e1d62d",
   "metadata": {},
   "outputs": [],
   "source": [
    "#print"
   ]
  },
  {
   "cell_type": "code",
   "execution_count": 147,
   "id": "fee03f42-8888-431f-8260-6f55dd94449a",
   "metadata": {},
   "outputs": [
    {
     "name": "stdout",
     "output_type": "stream",
     "text": [
      "+-------+-----------+----------+-------------------+\n",
      "|city_id|city       |country_id|last_update        |\n",
      "+-------+-----------+----------+-------------------+\n",
      "|2      |Abha       |82        |2006-02-15 09:45:25|\n",
      "|3      |Abu Dhabi  |101       |2006-02-15 09:45:25|\n",
      "|4      |Acua       |60        |2006-02-15 09:45:25|\n",
      "|5      |Adana      |97        |2006-02-15 09:45:25|\n",
      "|6      |Addis Abeba|31        |2006-02-15 09:45:25|\n",
      "|7      |Aden       |107       |2006-02-15 09:45:25|\n",
      "|8      |Adoni      |44        |2006-02-15 09:45:25|\n",
      "|9      |Ahmadnagar |44        |2006-02-15 09:45:25|\n",
      "|10     |Akishima   |50        |2006-02-15 09:45:25|\n",
      "|11     |Akron      |103       |2006-02-15 09:45:25|\n",
      "+-------+-----------+----------+-------------------+\n",
      "only showing top 10 rows\n",
      "\n"
     ]
    }
   ],
   "source": [
    "df_city.show(10,truncate=False)"
   ]
  },
  {
   "cell_type": "code",
   "execution_count": 13,
   "id": "f8979bda-cd9d-4192-9f04-136a1a652139",
   "metadata": {},
   "outputs": [],
   "source": [
    "#describe"
   ]
  },
  {
   "cell_type": "code",
   "execution_count": 148,
   "id": "ef0b70b4-81fd-4b01-aa57-253925c152d1",
   "metadata": {},
   "outputs": [
    {
     "name": "stdout",
     "output_type": "stream",
     "text": [
      "+-------+------------------+--------------------+------------------+\n",
      "|summary|           city_id|                city|        country_id|\n",
      "+-------+------------------+--------------------+------------------+\n",
      "|  count|               652|                 652|               652|\n",
      "|   mean|326.66257668711654|                null|55.219325153374236|\n",
      "| stddev|188.62656549041938|                null|31.681053482709448|\n",
      "|    min|                 1|A Corua (La Corua...|                 1|\n",
      "|    max|               656|               teste|               111|\n",
      "+-------+------------------+--------------------+------------------+\n",
      "\n"
     ]
    }
   ],
   "source": [
    "df_city.describe().show()"
   ]
  },
  {
   "cell_type": "code",
   "execution_count": null,
   "id": "d803a412-9f79-4f28-b6fa-5c1f2c1a5d41",
   "metadata": {},
   "outputs": [],
   "source": [
    "#printSchema"
   ]
  },
  {
   "cell_type": "code",
   "execution_count": 149,
   "id": "bba810ae-e862-4d43-93ad-bf180701b6b3",
   "metadata": {},
   "outputs": [
    {
     "name": "stdout",
     "output_type": "stream",
     "text": [
      "root\n",
      " |-- city_id: integer (nullable = true)\n",
      " |-- city: string (nullable = true)\n",
      " |-- country_id: short (nullable = true)\n",
      " |-- last_update: timestamp (nullable = true)\n",
      "\n"
     ]
    }
   ],
   "source": [
    "df_city.printSchema()"
   ]
  },
  {
   "cell_type": "code",
   "execution_count": 16,
   "id": "768730f1-9bb2-414d-9de7-2561e093e5be",
   "metadata": {},
   "outputs": [],
   "source": [
    "#count()"
   ]
  },
  {
   "cell_type": "code",
   "execution_count": 150,
   "id": "b20f996a-0426-424b-bfa4-ad590b166222",
   "metadata": {},
   "outputs": [
    {
     "data": {
      "text/plain": [
       "652"
      ]
     },
     "execution_count": 150,
     "metadata": {},
     "output_type": "execute_result"
    }
   ],
   "source": [
    "df_city.count()"
   ]
  },
  {
   "cell_type": "code",
   "execution_count": 195,
   "id": "950f2129-4bd8-4038-b7b7-47af0e5cd826",
   "metadata": {},
   "outputs": [
    {
     "name": "stdout",
     "output_type": "stream",
     "text": [
      "+-------+--------------------+----------+--------------------+\n",
      "|city_id|                city|country_id|         last_update|\n",
      "+-------+--------------------+----------+--------------------+\n",
      "|    413|      Poos de Caldas|        15| 2006-02-15 09:45:25|\n",
      "|    236|     Jastrzebie-Zdrj|        76| 2006-02-15 09:45:25|\n",
      "|    631|                  SP|        15|2023-02-18 11:56:...|\n",
      "|    224|             Isesaki|        50| 2006-02-15 09:45:25|\n",
      "|    641|               teste|        15|2023-02-20 11:09:...|\n",
      "|    189|              Guaruj|        15| 2006-02-15 09:45:25|\n",
      "|     46|            Baicheng|        23| 2006-02-15 09:45:25|\n",
      "|     18|Allappuzha (Allep...|        44| 2006-02-15 09:45:25|\n",
      "|     28| Aparecida de Goinia|        15| 2006-02-15 09:45:25|\n",
      "|    129|           Cuauhtmoc|        60| 2006-02-15 09:45:25|\n",
      "|    172|            Fukuyama|        50| 2006-02-15 09:45:25|\n",
      "|    103|              Carmen|        60| 2006-02-15 09:45:25|\n",
      "|    612|              TESTE5|       111|2023-02-07 11:47:...|\n",
      "|    104|              Cavite|        75| 2006-02-15 09:45:25|\n",
      "|    615|              TESTE5|       111|2023-02-07 11:52:...|\n",
      "|     44|                 Bag|        15| 2006-02-15 09:45:25|\n",
      "|    351|         Naala-Porto|        63| 2006-02-15 09:45:25|\n",
      "|    582|        Yamuna Nagar|        44| 2006-02-15 09:45:25|\n",
      "|     34|              Ashdod|        48| 2006-02-15 09:45:25|\n",
      "|    594|             Zaoyang|        23| 2006-02-15 09:45:25|\n",
      "+-------+--------------------+----------+--------------------+\n",
      "only showing top 20 rows\n",
      "\n"
     ]
    }
   ],
   "source": [
    "#sample([withReplacement, fraction, seed])  Returns a sampled subset of this DataFrame.\n",
    "df_city.sample(0.1).show()"
   ]
  },
  {
   "cell_type": "markdown",
   "id": "a5f251d6-fdce-42d3-943b-85c407b4195a",
   "metadata": {},
   "source": [
    "## MANIPULANDO DF"
   ]
  },
  {
   "cell_type": "code",
   "execution_count": 151,
   "id": "906e2e57-05ef-4853-a119-bf45cc97b68f",
   "metadata": {},
   "outputs": [
    {
     "data": {
      "text/plain": [
       "False"
      ]
     },
     "execution_count": 151,
     "metadata": {},
     "output_type": "execute_result"
    }
   ],
   "source": [
    "# isEmpty() Returns True if this DataFrame is empty.\n",
    "df_city.isEmpty()"
   ]
  },
  {
   "cell_type": "code",
   "execution_count": 152,
   "id": "f52cdbf0-2c36-451f-aba4-42eb025966af",
   "metadata": {},
   "outputs": [
    {
     "name": "stdout",
     "output_type": "stream",
     "text": [
      "+--------------------+\n",
      "|                city|\n",
      "+--------------------+\n",
      "|                Abha|\n",
      "|           Abu Dhabi|\n",
      "|                Acua|\n",
      "|               Adana|\n",
      "|         Addis Abeba|\n",
      "|                Aden|\n",
      "|               Adoni|\n",
      "|          Ahmadnagar|\n",
      "|            Akishima|\n",
      "|               Akron|\n",
      "|              al-Ayn|\n",
      "|           al-Hawiya|\n",
      "|           al-Manama|\n",
      "|          al-Qadarif|\n",
      "|            al-Qatif|\n",
      "|         Alessandria|\n",
      "|Allappuzha (Allep...|\n",
      "|             Allende|\n",
      "|     Almirante Brown|\n",
      "|            Alvorada|\n",
      "+--------------------+\n",
      "only showing top 20 rows\n",
      "\n"
     ]
    }
   ],
   "source": [
    "# select(*cols) Projects a set of expressions and returns a new DataFrame.\n",
    "df_city.select('city').show()"
   ]
  },
  {
   "cell_type": "code",
   "execution_count": 153,
   "id": "2d10fe49-5fcc-4b5a-8bc0-370310545a15",
   "metadata": {},
   "outputs": [
    {
     "name": "stdout",
     "output_type": "stream",
     "text": [
      "+-------+--------------------+----------+--------------------+\n",
      "|city_id|                city|country_id|         last_update|\n",
      "+-------+--------------------+----------+--------------------+\n",
      "|      1|A Corua (La Corua...|        87|2023-03-08 13:55:...|\n",
      "|    656|             ARACAJU|        11|2023-06-07 21:15:...|\n",
      "|      2|                Abha|        82| 2006-02-15 09:45:25|\n",
      "|      3|           Abu Dhabi|       101| 2006-02-15 09:45:25|\n",
      "|      4|                Acua|        60| 2006-02-15 09:45:25|\n",
      "+-------+--------------------+----------+--------------------+\n",
      "only showing top 5 rows\n",
      "\n"
     ]
    }
   ],
   "source": [
    "#orderBy(*cols, **kwargs) Returns a new DataFrame sorted by the specified column(s).\n",
    "#sort(*cols, **kwargs) Returns a new DataFrame sorted by the specified column(s).\n",
    "\n",
    "df_city.orderBy('city',ascending=True).show(5)"
   ]
  },
  {
   "cell_type": "code",
   "execution_count": 155,
   "id": "8087ff41-62ff-4f27-ad2e-ad2b6761ac51",
   "metadata": {},
   "outputs": [
    {
     "name": "stdout",
     "output_type": "stream",
     "text": [
      "+-------+--------------------+----------+--------------------+\n",
      "|city_id|                city|country_id|         last_update|\n",
      "+-------+--------------------+----------+--------------------+\n",
      "|      1|A Corua (La Corua...|        87|2023-03-08 13:55:...|\n",
      "|    656|             ARACAJU|        11|2023-06-07 21:15:...|\n",
      "|      2|                Abha|        82| 2006-02-15 09:45:25|\n",
      "|      3|           Abu Dhabi|       101| 2006-02-15 09:45:25|\n",
      "|      4|                Acua|        60| 2006-02-15 09:45:25|\n",
      "+-------+--------------------+----------+--------------------+\n",
      "only showing top 5 rows\n",
      "\n",
      "+-------+---------------+----------+--------------------+\n",
      "|city_id|           city|country_id|         last_update|\n",
      "+-------+---------------+----------+--------------------+\n",
      "|    640|          teste|        15|2023-02-20 10:42:...|\n",
      "|    639|          teste|        15|2023-02-18 12:21:...|\n",
      "|    641|          teste|        15|2023-02-20 11:09:...|\n",
      "|    438|s-Hertogenbosch|        67| 2006-02-15 09:45:25|\n",
      "|    385|          ostka|       100| 2006-02-15 09:45:25|\n",
      "+-------+---------------+----------+--------------------+\n",
      "only showing top 5 rows\n",
      "\n"
     ]
    }
   ],
   "source": [
    "from pyspark.sql.functions import desc, asc\n",
    "df_city.orderBy(df_city.city.asc()).show(5)\n",
    "df_city.orderBy(df_city.city.desc()).show(5)"
   ]
  },
  {
   "cell_type": "code",
   "execution_count": 156,
   "id": "90a5173f-f19e-416f-ab76-d9f97f8fd2a5",
   "metadata": {},
   "outputs": [
    {
     "name": "stdout",
     "output_type": "stream",
     "text": [
      "+-------+------------------------+----------+--------------------------+\n",
      "|city_id|city                    |country_id|last_update               |\n",
      "+-------+------------------------+----------+--------------------------+\n",
      "|1      |A Corua (La Corua) TESTE|87        |2023-03-08 13:55:56.748697|\n",
      "+-------+------------------------+----------+--------------------------+\n",
      "\n"
     ]
    }
   ],
   "source": [
    "# where e filter\n",
    "df_city.where(df_city.city_id == 1).show(truncate=False)"
   ]
  },
  {
   "cell_type": "code",
   "execution_count": 157,
   "id": "fe58956c-2ef6-42aa-8cf3-f42820188ab1",
   "metadata": {},
   "outputs": [
    {
     "name": "stdout",
     "output_type": "stream",
     "text": [
      "+-------+------------------------+----------+--------------------------+\n",
      "|city_id|city                    |country_id|last_update               |\n",
      "+-------+------------------------+----------+--------------------------+\n",
      "|1      |A Corua (La Corua) TESTE|87        |2023-03-08 13:55:56.748697|\n",
      "+-------+------------------------+----------+--------------------------+\n",
      "\n"
     ]
    }
   ],
   "source": [
    "df_city.filter(df_city.city_id == 1).show(truncate=False)"
   ]
  },
  {
   "cell_type": "code",
   "execution_count": 158,
   "id": "1cee7306-0c6d-4084-bd1f-8f991020427d",
   "metadata": {},
   "outputs": [
    {
     "name": "stdout",
     "output_type": "stream",
     "text": [
      "+-------+--------------------+----------+-------------------+\n",
      "|city_id|                city|country_id|        last_update|\n",
      "+-------+--------------------+----------+-------------------+\n",
      "|      2|                Abha|        82|2006-02-15 09:45:25|\n",
      "|      3|           Abu Dhabi|       101|2006-02-15 09:45:25|\n",
      "|      4|                Acua|        60|2006-02-15 09:45:25|\n",
      "|      5|               Adana|        97|2006-02-15 09:45:25|\n",
      "|      6|         Addis Abeba|        31|2006-02-15 09:45:25|\n",
      "|      7|                Aden|       107|2006-02-15 09:45:25|\n",
      "|      8|               Adoni|        44|2006-02-15 09:45:25|\n",
      "|      9|          Ahmadnagar|        44|2006-02-15 09:45:25|\n",
      "|     10|            Akishima|        50|2006-02-15 09:45:25|\n",
      "|     11|               Akron|       103|2006-02-15 09:45:25|\n",
      "|     12|              al-Ayn|       101|2006-02-15 09:45:25|\n",
      "|     13|           al-Hawiya|        82|2006-02-15 09:45:25|\n",
      "|     14|           al-Manama|        11|2006-02-15 09:45:25|\n",
      "|     15|          al-Qadarif|        89|2006-02-15 09:45:25|\n",
      "|     16|            al-Qatif|        82|2006-02-15 09:45:25|\n",
      "|     17|         Alessandria|        49|2006-02-15 09:45:25|\n",
      "|     18|Allappuzha (Allep...|        44|2006-02-15 09:45:25|\n",
      "|     19|             Allende|        60|2006-02-15 09:45:25|\n",
      "|     20|     Almirante Brown|         6|2006-02-15 09:45:25|\n",
      "|     21|            Alvorada|        15|2006-02-15 09:45:25|\n",
      "+-------+--------------------+----------+-------------------+\n",
      "only showing top 20 rows\n",
      "\n"
     ]
    }
   ],
   "source": [
    "#fillna(value[, subset]) Replace null values, alias for na.fill().\n",
    "df_city.na.fill('').show()"
   ]
  },
  {
   "cell_type": "code",
   "execution_count": 159,
   "id": "e4a8de87-e1da-4b0f-95fa-66a52cad5456",
   "metadata": {},
   "outputs": [
    {
     "name": "stdout",
     "output_type": "stream",
     "text": [
      "+--------------+\n",
      "|          city|\n",
      "+--------------+\n",
      "|      Fengshan|\n",
      "|      Chisinau|\n",
      "|       El Alto|\n",
      "|          Linz|\n",
      "|      Myingyan|\n",
      "|       Udaipur|\n",
      "|  Juiz de Fora|\n",
      "|           Oyo|\n",
      "|       Esfahan|\n",
      "|        Monywa|\n",
      "|   Sultanbeyli|\n",
      "|      Cravihos|\n",
      "|Dhule (Dhulia)|\n",
      "|        Jining|\n",
      "|     Mit Ghamr|\n",
      "|RIO DE JANEIRO|\n",
      "|      Salzburg|\n",
      "|      Sogamoso|\n",
      "|       Tanauan|\n",
      "|       Balaiha|\n",
      "+--------------+\n",
      "only showing top 20 rows\n",
      "\n"
     ]
    }
   ],
   "source": [
    "# distinct() Returns a new DataFrame containing the distinct rows in this DataFrame.\n",
    "df_city.select('city').distinct().show()"
   ]
  },
  {
   "cell_type": "code",
   "execution_count": 160,
   "id": "bf0270b0-9983-4f69-a7da-e893f589cde7",
   "metadata": {},
   "outputs": [
    {
     "data": {
      "text/plain": [
       "Row(city_id=2, city='Abha', country_id=82, last_update=datetime.datetime(2006, 2, 15, 9, 45, 25))"
      ]
     },
     "execution_count": 160,
     "metadata": {},
     "output_type": "execute_result"
    }
   ],
   "source": [
    "#first() Returns the first row as a Row.\n",
    "df_city.first()\n"
   ]
  },
  {
   "cell_type": "code",
   "execution_count": 162,
   "id": "dee6a2e2-0660-4669-813a-dbcd04ebe9d9",
   "metadata": {},
   "outputs": [
    {
     "data": {
      "text/plain": [
       "Row(city_id=2, city='Abha', country_id=82, last_update=datetime.datetime(2006, 2, 15, 9, 45, 25))"
      ]
     },
     "execution_count": 162,
     "metadata": {},
     "output_type": "execute_result"
    }
   ],
   "source": [
    "#head([n]) Returns the first n rows.\n",
    "df_city.head()\n"
   ]
  },
  {
   "cell_type": "code",
   "execution_count": 163,
   "id": "b4965716-aa2a-4db7-95f2-279e733d6272",
   "metadata": {},
   "outputs": [
    {
     "name": "stdout",
     "output_type": "stream",
     "text": [
      "+-------+-----------+----------+-------------------+\n",
      "|city_id|       city|country_id|        last_update|\n",
      "+-------+-----------+----------+-------------------+\n",
      "|      2|       Abha|        82|2006-02-15 09:45:25|\n",
      "|      3|  Abu Dhabi|       101|2006-02-15 09:45:25|\n",
      "|      4|       Acua|        60|2006-02-15 09:45:25|\n",
      "|      5|      Adana|        97|2006-02-15 09:45:25|\n",
      "|      6|Addis Abeba|        31|2006-02-15 09:45:25|\n",
      "+-------+-----------+----------+-------------------+\n",
      "\n"
     ]
    }
   ],
   "source": [
    "#limit(num) Limits the result count to the number specified.\n",
    "df_city.limit(5).show()"
   ]
  },
  {
   "cell_type": "code",
   "execution_count": 164,
   "id": "dd417001-b706-42b5-8808-d231421d4b98",
   "metadata": {},
   "outputs": [
    {
     "data": {
      "text/plain": [
       "[Row(city_id=651, city='Araraquara', country_id=11, last_update=datetime.datetime(2023, 3, 8, 20, 22, 42, 794627)),\n",
       " Row(city_id=652, city='Divinolandia', country_id=11, last_update=datetime.datetime(2023, 3, 8, 20, 28, 30, 59665)),\n",
       " Row(city_id=653, city='New York', country_id=11, last_update=datetime.datetime(2023, 3, 8, 20, 28, 33, 380279)),\n",
       " Row(city_id=655, city='CAMPINAS', country_id=11, last_update=datetime.datetime(2023, 5, 16, 21, 45, 31, 996979)),\n",
       " Row(city_id=656, city='ARACAJU', country_id=11, last_update=datetime.datetime(2023, 6, 7, 21, 15, 45, 6767))]"
      ]
     },
     "execution_count": 164,
     "metadata": {},
     "output_type": "execute_result"
    }
   ],
   "source": [
    "#tail(num) Returns the last num rows as a list of Row.\n",
    "df_city.tail(5)\n"
   ]
  },
  {
   "cell_type": "code",
   "execution_count": 165,
   "id": "579d7c0c-f459-459c-816f-419173b3b9da",
   "metadata": {},
   "outputs": [
    {
     "data": {
      "text/plain": [
       "[Row(city_id=2, city='Abha', country_id=82, last_update=datetime.datetime(2006, 2, 15, 9, 45, 25)),\n",
       " Row(city_id=3, city='Abu Dhabi', country_id=101, last_update=datetime.datetime(2006, 2, 15, 9, 45, 25)),\n",
       " Row(city_id=4, city='Acua', country_id=60, last_update=datetime.datetime(2006, 2, 15, 9, 45, 25)),\n",
       " Row(city_id=5, city='Adana', country_id=97, last_update=datetime.datetime(2006, 2, 15, 9, 45, 25)),\n",
       " Row(city_id=6, city='Addis Abeba', country_id=31, last_update=datetime.datetime(2006, 2, 15, 9, 45, 25))]"
      ]
     },
     "execution_count": 165,
     "metadata": {},
     "output_type": "execute_result"
    }
   ],
   "source": [
    "#take(num) Returns the first num rows as a list of Row.\n",
    "df_city.take(5)"
   ]
  },
  {
   "cell_type": "code",
   "execution_count": null,
   "id": "66737751-c860-4915-bc10-0e4bb2b8d6f0",
   "metadata": {},
   "outputs": [],
   "source": [
    "# collect() Returns all the records as a list of Row.\n",
    "df_city.collect()"
   ]
  },
  {
   "cell_type": "code",
   "execution_count": 167,
   "id": "3c2920e5-17eb-4292-9c87-0b2140e808d3",
   "metadata": {},
   "outputs": [
    {
     "name": "stdout",
     "output_type": "stream",
     "text": [
      "+----------+-----+\n",
      "|country_id|count|\n",
      "+----------+-----+\n",
      "|        31|    1|\n",
      "|        85|   11|\n",
      "|        65|    1|\n",
      "|        53|    1|\n",
      "|        78|    2|\n",
      "|       108|    2|\n",
      "|        34|    4|\n",
      "|       101|    3|\n",
      "|        81|    1|\n",
      "|        28|    3|\n",
      "|        76|    8|\n",
      "|        27|    3|\n",
      "|        26|    1|\n",
      "|        44|   60|\n",
      "|       103|   35|\n",
      "|        12|    3|\n",
      "|        91|    3|\n",
      "|        22|    3|\n",
      "|        93|    3|\n",
      "|       111|   14|\n",
      "+----------+-----+\n",
      "only showing top 20 rows\n",
      "\n"
     ]
    }
   ],
   "source": [
    "#groupBy(*cols) Groups the DataFrame using the specified columns, so we can run aggregation on them.\n",
    "df_city.groupby('country_id').count().show()"
   ]
  },
  {
   "cell_type": "code",
   "execution_count": 168,
   "id": "0788fb5c-3202-472a-b9e5-854cbb9f8ea6",
   "metadata": {},
   "outputs": [
    {
     "name": "stdout",
     "output_type": "stream",
     "text": [
      "+----------+---------------+\n",
      "|country_id|sum(country_id)|\n",
      "+----------+---------------+\n",
      "|        31|             31|\n",
      "|        85|            935|\n",
      "|        65|             65|\n",
      "|        53|             53|\n",
      "|        78|            156|\n",
      "+----------+---------------+\n",
      "only showing top 5 rows\n",
      "\n"
     ]
    }
   ],
   "source": [
    "# agg(*exprs) Aggregate on the entire DataFrame without groups (shorthand for df.groupBy().agg()).\n",
    "df_city \\\n",
    "    .groupby('country_id') \\\n",
    "    .agg({\"country_id\": \"sum\"}) \\\n",
    "    .show(5)"
   ]
  },
  {
   "cell_type": "code",
   "execution_count": 170,
   "id": "9f077bae-668b-4a0c-b3f5-3ba02e2eda00",
   "metadata": {},
   "outputs": [
    {
     "name": "stdout",
     "output_type": "stream",
     "text": [
      "+-------+----------------+----------+-------------------+----------+------------+-------------------+\n",
      "|city_id|            city|country_id|        last_update|country_id|     country|        last_update|\n",
      "+-------+----------------+----------+-------------------+----------+------------+-------------------+\n",
      "|      6|     Addis Abeba|        31|2006-02-15 09:45:25|        31|    Ethiopia|2006-02-15 09:44:00|\n",
      "|    497|         Springs|        85|2006-02-15 09:45:25|        85|South Africa|2006-02-15 09:44:00|\n",
      "|    491|      Soshanguve|        85|2006-02-15 09:45:25|        85|South Africa|2006-02-15 09:44:00|\n",
      "|    437|      Rustenburg|        85|2006-02-15 09:45:25|        85|South Africa|2006-02-15 09:44:00|\n",
      "|    392|           Paarl|        85|2006-02-15 09:45:25|        85|South Africa|2006-02-15 09:44:00|\n",
      "|    364|       Newcastle|        85|2006-02-15 09:45:25|        85|South Africa|2006-02-15 09:44:00|\n",
      "|    273|      Klerksdorp|        85|2006-02-15 09:45:25|        85|South Africa|2006-02-15 09:44:00|\n",
      "|    267|       Kimberley|        85|2006-02-15 09:45:25|        85|South Africa|2006-02-15 09:44:00|\n",
      "|    244|    Johannesburg|        85|2006-02-15 09:45:25|        85|South Africa|2006-02-15 09:44:00|\n",
      "|    112|      Chatsworth|        85|2006-02-15 09:45:25|        85|South Africa|2006-02-15 09:44:00|\n",
      "|     87|      Botshabelo|        85|2006-02-15 09:45:25|        85|South Africa|2006-02-15 09:44:00|\n",
      "|     85|        Boksburg|        85|2006-02-15 09:45:25|        85|South Africa|2006-02-15 09:44:00|\n",
      "|    583|          Yangor|        65|2006-02-15 09:45:25|        65|       Nauru|2006-02-15 09:44:00|\n",
      "|    233|Jalib al-Shuyukh|        53|2006-02-15 09:45:25|        53|      Kuwait|2006-02-15 09:44:00|\n",
      "|     95|       Bucuresti|        78|2006-02-15 09:45:25|        78|     Romania|2006-02-15 09:44:00|\n",
      "|     86|        Botosani|        78|2006-02-15 09:45:25|        78|     Romania|2006-02-15 09:44:00|\n",
      "|    368|        Novi Sad|       108|2006-02-15 09:45:25|       108|  Yugoslavia|2006-02-15 09:44:00|\n",
      "|    280|      Kragujevac|       108|2006-02-15 09:45:25|       108|  Yugoslavia|2006-02-15 09:44:00|\n",
      "|    544|        Toulouse|        34|2006-02-15 09:45:25|        34|      France|2006-02-15 09:44:00|\n",
      "|    543|          Toulon|        34|2006-02-15 09:45:25|        34|      France|2006-02-15 09:44:00|\n",
      "+-------+----------------+----------+-------------------+----------+------------+-------------------+\n",
      "only showing top 20 rows\n",
      "\n"
     ]
    }
   ],
   "source": [
    "# join inner, cross, outer, full, fullouter, full_outer, left, leftouter, left_outer, right, rightouter, right_outer, semi, leftsemi, left_semi, anti, leftanti and left_anti.\n",
    "df_city.join(df_county,df_city.country_id == df_county.country_id,'inner').show()"
   ]
  },
  {
   "cell_type": "code",
   "execution_count": 171,
   "id": "822427ef-7e99-4051-8e16-a3742c4bbb2f",
   "metadata": {},
   "outputs": [
    {
     "name": "stdout",
     "output_type": "stream",
     "text": [
      "+----------+\n",
      "|country_id|\n",
      "+----------+\n",
      "|        82|\n",
      "|       101|\n",
      "|        60|\n",
      "|        97|\n",
      "|        31|\n",
      "+----------+\n",
      "only showing top 5 rows\n",
      "\n"
     ]
    }
   ],
   "source": [
    "#union\n",
    "df_city.select('country_id').union(df_county.select('country_id')).show(5)"
   ]
  },
  {
   "cell_type": "code",
   "execution_count": 172,
   "id": "d583fdfe-1029-45dc-9317-7856dd3bb055",
   "metadata": {},
   "outputs": [
    {
     "name": "stderr",
     "output_type": "stream",
     "text": [
      "/usr/local/spark/python/pyspark/sql/pandas/conversion.py:248: FutureWarning: Passing unit-less datetime64 dtype to .astype is deprecated and will raise in a future version. Pass 'datetime64[ns]' instead\n",
      "  series = series.astype(t, copy=False)\n"
     ]
    },
    {
     "data": {
      "text/html": [
       "<div>\n",
       "<style scoped>\n",
       "    .dataframe tbody tr th:only-of-type {\n",
       "        vertical-align: middle;\n",
       "    }\n",
       "\n",
       "    .dataframe tbody tr th {\n",
       "        vertical-align: top;\n",
       "    }\n",
       "\n",
       "    .dataframe thead th {\n",
       "        text-align: right;\n",
       "    }\n",
       "</style>\n",
       "<table border=\"1\" class=\"dataframe\">\n",
       "  <thead>\n",
       "    <tr style=\"text-align: right;\">\n",
       "      <th></th>\n",
       "      <th>city_id</th>\n",
       "      <th>city</th>\n",
       "      <th>country_id</th>\n",
       "      <th>last_update</th>\n",
       "    </tr>\n",
       "  </thead>\n",
       "  <tbody>\n",
       "    <tr>\n",
       "      <th>0</th>\n",
       "      <td>2</td>\n",
       "      <td>Abha</td>\n",
       "      <td>82</td>\n",
       "      <td>2006-02-15 09:45:25.000000</td>\n",
       "    </tr>\n",
       "    <tr>\n",
       "      <th>1</th>\n",
       "      <td>3</td>\n",
       "      <td>Abu Dhabi</td>\n",
       "      <td>101</td>\n",
       "      <td>2006-02-15 09:45:25.000000</td>\n",
       "    </tr>\n",
       "    <tr>\n",
       "      <th>2</th>\n",
       "      <td>4</td>\n",
       "      <td>Acua</td>\n",
       "      <td>60</td>\n",
       "      <td>2006-02-15 09:45:25.000000</td>\n",
       "    </tr>\n",
       "    <tr>\n",
       "      <th>3</th>\n",
       "      <td>5</td>\n",
       "      <td>Adana</td>\n",
       "      <td>97</td>\n",
       "      <td>2006-02-15 09:45:25.000000</td>\n",
       "    </tr>\n",
       "    <tr>\n",
       "      <th>4</th>\n",
       "      <td>6</td>\n",
       "      <td>Addis Abeba</td>\n",
       "      <td>31</td>\n",
       "      <td>2006-02-15 09:45:25.000000</td>\n",
       "    </tr>\n",
       "    <tr>\n",
       "      <th>...</th>\n",
       "      <td>...</td>\n",
       "      <td>...</td>\n",
       "      <td>...</td>\n",
       "      <td>...</td>\n",
       "    </tr>\n",
       "    <tr>\n",
       "      <th>647</th>\n",
       "      <td>651</td>\n",
       "      <td>Araraquara</td>\n",
       "      <td>11</td>\n",
       "      <td>2023-03-08 20:22:42.794627</td>\n",
       "    </tr>\n",
       "    <tr>\n",
       "      <th>648</th>\n",
       "      <td>652</td>\n",
       "      <td>Divinolandia</td>\n",
       "      <td>11</td>\n",
       "      <td>2023-03-08 20:28:30.059665</td>\n",
       "    </tr>\n",
       "    <tr>\n",
       "      <th>649</th>\n",
       "      <td>653</td>\n",
       "      <td>New York</td>\n",
       "      <td>11</td>\n",
       "      <td>2023-03-08 20:28:33.380279</td>\n",
       "    </tr>\n",
       "    <tr>\n",
       "      <th>650</th>\n",
       "      <td>655</td>\n",
       "      <td>CAMPINAS</td>\n",
       "      <td>11</td>\n",
       "      <td>2023-05-16 21:45:31.996979</td>\n",
       "    </tr>\n",
       "    <tr>\n",
       "      <th>651</th>\n",
       "      <td>656</td>\n",
       "      <td>ARACAJU</td>\n",
       "      <td>11</td>\n",
       "      <td>2023-06-07 21:15:45.006767</td>\n",
       "    </tr>\n",
       "  </tbody>\n",
       "</table>\n",
       "<p>652 rows × 4 columns</p>\n",
       "</div>"
      ],
      "text/plain": [
       "     city_id          city  country_id                last_update\n",
       "0          2          Abha          82 2006-02-15 09:45:25.000000\n",
       "1          3     Abu Dhabi         101 2006-02-15 09:45:25.000000\n",
       "2          4          Acua          60 2006-02-15 09:45:25.000000\n",
       "3          5         Adana          97 2006-02-15 09:45:25.000000\n",
       "4          6   Addis Abeba          31 2006-02-15 09:45:25.000000\n",
       "..       ...           ...         ...                        ...\n",
       "647      651    Araraquara          11 2023-03-08 20:22:42.794627\n",
       "648      652  Divinolandia          11 2023-03-08 20:28:30.059665\n",
       "649      653      New York          11 2023-03-08 20:28:33.380279\n",
       "650      655      CAMPINAS          11 2023-05-16 21:45:31.996979\n",
       "651      656       ARACAJU          11 2023-06-07 21:15:45.006767\n",
       "\n",
       "[652 rows x 4 columns]"
      ]
     },
     "execution_count": 172,
     "metadata": {},
     "output_type": "execute_result"
    }
   ],
   "source": [
    "#toDF(*cols) Returns a new DataFrame that with new specified column names\n",
    "#toJSON([use_unicode])\n",
    "#toPandas()\n",
    "df_city.toJSON()\n",
    "p = df_city.toPandas()\n",
    "p\n",
    "\n",
    "\n"
   ]
  },
  {
   "cell_type": "code",
   "execution_count": 173,
   "id": "fac7d318-33cf-496b-a732-1811cfeb62e4",
   "metadata": {},
   "outputs": [
    {
     "data": {
      "text/plain": [
       "2"
      ]
     },
     "execution_count": 173,
     "metadata": {},
     "output_type": "execute_result"
    }
   ],
   "source": [
    "#partitions\n",
    "df_city.rdd.getNumPartitions()\n",
    "df_city = df_tab.repartition(2)\n",
    "df_city.rdd.getNumPartitions()\n",
    "#df.rdd.partitions.length()\n",
    "#df.rdd.partitions.size()"
   ]
  },
  {
   "cell_type": "code",
   "execution_count": 174,
   "id": "eddd2060-ffd4-4eaa-ad5f-762142aec0f7",
   "metadata": {},
   "outputs": [
    {
     "name": "stdout",
     "output_type": "stream",
     "text": [
      "+-------+-------------------+----------+\n",
      "|city_id|               city|country_id|\n",
      "+-------+-------------------+----------+\n",
      "|    220|             Ilorin|        69|\n",
      "|    621|             TESTE5|       111|\n",
      "|    107|         Chandrapur|        44|\n",
      "|    598|        Zhezqazghan|        51|\n",
      "|    260|           Kanazawa|        50|\n",
      "|    321|               Malm|        90|\n",
      "|    623|           VALINHOS|       111|\n",
      "|    514|             Tabriz|        46|\n",
      "|    147|      Dos Quebradas|        24|\n",
      "|    532|              Tegal|        45|\n",
      "|    413|     Poos de Caldas|        15|\n",
      "|    176|        Gandhinagar|        44|\n",
      "|    487|           Sogamoso|        24|\n",
      "|    218|             Ikerre|        69|\n",
      "|    516|             Tafuna|         3|\n",
      "|    456|Santa Brbara dOeste|        15|\n",
      "|    564|           Valparai|        44|\n",
      "|    415|        Probolinggo|        45|\n",
      "|    398|           Parbhani|        44|\n",
      "|    265|         Kermanshah|        46|\n",
      "+-------+-------------------+----------+\n",
      "only showing top 20 rows\n",
      "\n"
     ]
    }
   ],
   "source": [
    "# drop(*cols) Returns a new DataFrame without specified columns.\n",
    "df_city.drop('last_update').show()"
   ]
  },
  {
   "cell_type": "code",
   "execution_count": 175,
   "id": "5038cfe7-db3c-4bcc-a5f6-723842280275",
   "metadata": {},
   "outputs": [
    {
     "data": {
      "text/plain": [
       "630"
      ]
     },
     "execution_count": 175,
     "metadata": {},
     "output_type": "execute_result"
    }
   ],
   "source": [
    "# dropDuplicates([subset]) Return a new DataFrame with duplicate rows removed, optionally only considering certain columns.\n",
    "df_city.select('city').count()\n",
    "df_city.select('city').dropDuplicates().count()"
   ]
  },
  {
   "cell_type": "code",
   "execution_count": 176,
   "id": "b4730759-2676-45e8-ae29-cf3d5f88f37a",
   "metadata": {},
   "outputs": [
    {
     "name": "stdout",
     "output_type": "stream",
     "text": [
      "+-------+---------------+----------+--------------------+\n",
      "|city_id|           city|country_id|         last_update|\n",
      "+-------+---------------+----------+--------------------+\n",
      "|    308|        Lipetsk|        80| 2006-02-15 09:45:25|\n",
      "|    208|     Hoshiarpur|        44| 2006-02-15 09:45:25|\n",
      "|    651|     Araraquara|        11|2023-03-08 20:22:...|\n",
      "|    161|        Escobar|         6| 2006-02-15 09:45:25|\n",
      "|    586|        Yerevan|         7| 2006-02-15 09:45:25|\n",
      "|    300|     Lethbridge|        20| 2006-02-15 09:45:25|\n",
      "|    366|      Nha Trang|       105| 2006-02-15 09:45:25|\n",
      "|    536|          Tiefa|        23| 2006-02-15 09:45:25|\n",
      "|    413| Poos de Caldas|        15| 2006-02-15 09:45:25|\n",
      "|    377|        Okinawa|        50| 2006-02-15 09:45:25|\n",
      "|    390|            Oyo|        69| 2006-02-15 09:45:25|\n",
      "|    618|         TESTE5|       111|2023-02-07 12:04:...|\n",
      "|    467|   Shahr-e Kord|        46| 2006-02-15 09:45:25|\n",
      "|    363|        NDjamna|        21| 2006-02-15 09:45:25|\n",
      "|    393|Pachuca de Soto|        60| 2006-02-15 09:45:25|\n",
      "|    497|        Springs|        85| 2006-02-15 09:45:25|\n",
      "|    498|   Stara Zagora|        17| 2006-02-15 09:45:25|\n",
      "|    324|Mandi Bahauddin|        72| 2006-02-15 09:45:25|\n",
      "|    320|         Maikop|        80| 2006-02-15 09:45:25|\n",
      "|    191|       Gulbarga|        44| 2006-02-15 09:45:25|\n",
      "+-------+---------------+----------+--------------------+\n",
      "only showing top 20 rows\n",
      "\n"
     ]
    }
   ],
   "source": [
    "# dropna([how, thresh, subset]) Returns a new DataFrame omitting rows with null values.\n",
    "df_city.na.drop().show()"
   ]
  },
  {
   "cell_type": "code",
   "execution_count": 177,
   "id": "6d15ea02-c2e7-4607-8167-57d1c448a41b",
   "metadata": {},
   "outputs": [
    {
     "name": "stdout",
     "output_type": "stream",
     "text": [
      "+-------+----------+----------+--------------------+------+\n",
      "|city_id|      city|country_id|         last_update|new_id|\n",
      "+-------+----------+----------+--------------------+------+\n",
      "|    308|   Lipetsk|        80| 2006-02-15 09:45:25|     0|\n",
      "|    208|Hoshiarpur|        44| 2006-02-15 09:45:25|     1|\n",
      "|    651|Araraquara|        11|2023-03-08 20:22:...|     2|\n",
      "|    161|   Escobar|         6| 2006-02-15 09:45:25|     3|\n",
      "|    586|   Yerevan|         7| 2006-02-15 09:45:25|     4|\n",
      "+-------+----------+----------+--------------------+------+\n",
      "only showing top 5 rows\n",
      "\n"
     ]
    }
   ],
   "source": [
    "#withColumn(colName, col) Returns a new DataFrame by adding a column or replacing the existing column that has the same name.\n",
    "from pyspark.sql.functions import monotonically_increasing_id\n",
    "df_city.withColumn('new_id',monotonically_increasing_id()).show(5)"
   ]
  },
  {
   "cell_type": "code",
   "execution_count": 178,
   "id": "989435a9-5366-400b-993b-9311bce329c8",
   "metadata": {},
   "outputs": [
    {
     "name": "stdout",
     "output_type": "stream",
     "text": [
      "+-------+---------------+----------+--------------------+\n",
      "|city_id|           city|country_id|             updated|\n",
      "+-------+---------------+----------+--------------------+\n",
      "|    308|        Lipetsk|        80| 2006-02-15 09:45:25|\n",
      "|    208|     Hoshiarpur|        44| 2006-02-15 09:45:25|\n",
      "|    651|     Araraquara|        11|2023-03-08 20:22:...|\n",
      "|    161|        Escobar|         6| 2006-02-15 09:45:25|\n",
      "|    586|        Yerevan|         7| 2006-02-15 09:45:25|\n",
      "|    300|     Lethbridge|        20| 2006-02-15 09:45:25|\n",
      "|    366|      Nha Trang|       105| 2006-02-15 09:45:25|\n",
      "|    536|          Tiefa|        23| 2006-02-15 09:45:25|\n",
      "|    413| Poos de Caldas|        15| 2006-02-15 09:45:25|\n",
      "|    377|        Okinawa|        50| 2006-02-15 09:45:25|\n",
      "|    390|            Oyo|        69| 2006-02-15 09:45:25|\n",
      "|    618|         TESTE5|       111|2023-02-07 12:04:...|\n",
      "|    467|   Shahr-e Kord|        46| 2006-02-15 09:45:25|\n",
      "|    363|        NDjamna|        21| 2006-02-15 09:45:25|\n",
      "|    393|Pachuca de Soto|        60| 2006-02-15 09:45:25|\n",
      "|    497|        Springs|        85| 2006-02-15 09:45:25|\n",
      "|    498|   Stara Zagora|        17| 2006-02-15 09:45:25|\n",
      "|    324|Mandi Bahauddin|        72| 2006-02-15 09:45:25|\n",
      "|    320|         Maikop|        80| 2006-02-15 09:45:25|\n",
      "|    191|       Gulbarga|        44| 2006-02-15 09:45:25|\n",
      "+-------+---------------+----------+--------------------+\n",
      "only showing top 20 rows\n",
      "\n"
     ]
    }
   ],
   "source": [
    "#withColumnRenamed(existing, new) Returns a new DataFrame by renaming an existing column.\n",
    "df_city.withColumnRenamed('last_update','updated').show()"
   ]
  },
  {
   "cell_type": "code",
   "execution_count": 179,
   "id": "dd4ae1c1-6332-41f3-8cd4-03c6e6a7b4ca",
   "metadata": {},
   "outputs": [],
   "source": [
    "#foreach(f) Applies the f function to all Row of this DataFrame.\n",
    "#foreachPartition(f) Applies the f function to each partition of this DataFrame.\n",
    "def func(df):\n",
    "    print(df.city)\n",
    "df_city.foreach(func)"
   ]
  },
  {
   "cell_type": "markdown",
   "id": "b8e5e14d-7992-4f1f-8b08-92078c67dc16",
   "metadata": {},
   "source": [
    "## SQL"
   ]
  },
  {
   "cell_type": "code",
   "execution_count": 24,
   "id": "80c7ec67-5ea8-4baa-9503-3c289b82b09b",
   "metadata": {},
   "outputs": [],
   "source": [
    "#createOrReplaceGlobalTempView(name) \n",
    "#createOrReplaceTempView(name)\n",
    "#createTempView(name)\n",
    "df_city.createOrReplaceTempView('city')"
   ]
  },
  {
   "cell_type": "code",
   "execution_count": 181,
   "id": "ce136230-320c-4b6e-b710-e5f836768f15",
   "metadata": {},
   "outputs": [
    {
     "name": "stdout",
     "output_type": "stream",
     "text": [
      "+-------+----------+----------+--------------------+\n",
      "|city_id|      city|country_id|         last_update|\n",
      "+-------+----------+----------+--------------------+\n",
      "|    308|   Lipetsk|        80| 2006-02-15 09:45:25|\n",
      "|    208|Hoshiarpur|        44| 2006-02-15 09:45:25|\n",
      "|    651|Araraquara|        11|2023-03-08 20:22:...|\n",
      "|    161|   Escobar|         6| 2006-02-15 09:45:25|\n",
      "|    586|   Yerevan|         7| 2006-02-15 09:45:25|\n",
      "+-------+----------+----------+--------------------+\n",
      "\n"
     ]
    }
   ],
   "source": [
    "spark.sql('select * from city limit 5').show()"
   ]
  },
  {
   "cell_type": "markdown",
   "id": "e01328bf-c8eb-455a-bb8d-9b2fb4a706fb",
   "metadata": {},
   "source": [
    "## PLANO DE EXECUÇÃO"
   ]
  },
  {
   "cell_type": "code",
   "execution_count": 182,
   "id": "ac0bd8e5-9a11-4483-906a-73cfb6fdc980",
   "metadata": {},
   "outputs": [
    {
     "name": "stdout",
     "output_type": "stream",
     "text": [
      "== Physical Plan ==\n",
      "AdaptiveSparkPlan isFinalPlan=true\n",
      "+- == Final Plan ==\n",
      "   ShuffleQueryStage 0\n",
      "   +- Exchange RoundRobinPartitioning(2), REPARTITION_BY_NUM, [plan_id=2025]\n",
      "      +- *(1) Scan JDBCRelation(public.city) [numPartitions=1] [city_id#707,city#708,country_id#709,last_update#710] PushedFilters: [], ReadSchema: struct<city_id:int,city:string,country_id:smallint,last_update:timestamp>\n",
      "+- == Initial Plan ==\n",
      "   Exchange RoundRobinPartitioning(2), REPARTITION_BY_NUM, [plan_id=2020]\n",
      "   +- Scan JDBCRelation(public.city) [numPartitions=1] [city_id#707,city#708,country_id#709,last_update#710] PushedFilters: [], ReadSchema: struct<city_id:int,city:string,country_id:smallint,last_update:timestamp>\n",
      "\n",
      "\n"
     ]
    }
   ],
   "source": [
    "#explain([extended, mode])Prints the (logical and physical) plans to the console for debugging purposes.\n",
    "df_city.explain() "
   ]
  },
  {
   "cell_type": "markdown",
   "id": "900aa649-d1a8-446e-8013-e447156482ca",
   "metadata": {},
   "source": [
    "## TUNNING "
   ]
  },
  {
   "cell_type": "code",
   "execution_count": null,
   "id": "0c74fc8d-b208-44f1-b95a-d98210410921",
   "metadata": {},
   "outputs": [],
   "source": [
    "#HABILITADO DESDE O SPARK 3.2\n",
    "spark.conf.set(\"spark.sql.adaptive.enabled\", \"true\")"
   ]
  },
  {
   "cell_type": "code",
   "execution_count": null,
   "id": "c236b63a-626c-4e13-9bf9-c0221a96f1a9",
   "metadata": {},
   "outputs": [],
   "source": [
    "# cache unionAll unpersist\n",
    "df_city.cache()\n",
    "df_city.persist()\n",
    "df_city.unpersist()"
   ]
  },
  {
   "cell_type": "code",
   "execution_count": 27,
   "id": "778bcd7c-4d5d-4664-b8d7-5dce07dfff12",
   "metadata": {},
   "outputs": [
    {
     "name": "stdout",
     "output_type": "stream",
     "text": [
      "== Physical Plan ==\n",
      "AdaptiveSparkPlan isFinalPlan=false\n",
      "+- Exchange RoundRobinPartitioning(5), REPARTITION_BY_NUM, [plan_id=69]\n",
      "   +- Scan JDBCRelation(public.city) [numPartitions=1] [city_id#133,city#134,country_id#135,last_update#136] PushedFilters: [], ReadSchema: struct<city_id:int,city:string,country_id:smallint,last_update:timestamp>\n",
      "\n",
      "\n"
     ]
    }
   ],
   "source": [
    "# HINT\n",
    "spark.sql('SELECT /*+ REPARTITION(5) */ * FROM city;').explain()"
   ]
  },
  {
   "cell_type": "code",
   "execution_count": 28,
   "id": "947c0d83-510a-44b5-a2a3-1e2017379b9b",
   "metadata": {},
   "outputs": [],
   "source": [
    "# BROADCAST VARIABLE\n",
    "states = {\"NY\":\"New York\", \"CA\":\"California\", \"FL\":\"Florida\"}\n",
    "broadcastStates = spark.sparkContext.broadcast(states)"
   ]
  },
  {
   "cell_type": "markdown",
   "id": "b11f3f22-4d61-4d0b-85fa-e3ad57e20a8a",
   "metadata": {},
   "source": [
    "## SALVANDO DADOS"
   ]
  },
  {
   "cell_type": "code",
   "execution_count": null,
   "id": "b176b1f6-4b13-4418-adbd-5443323644ea",
   "metadata": {},
   "outputs": [],
   "source": [
    "#CSV HADOOP"
   ]
  },
  {
   "cell_type": "code",
   "execution_count": 183,
   "id": "a73f85da-0df2-40dd-adb5-4bed6dff6875",
   "metadata": {},
   "outputs": [],
   "source": [
    "df_city.write.csv('/datalake/process/city',header=True,sep=',',mode='overwrite')"
   ]
  },
  {
   "cell_type": "code",
   "execution_count": null,
   "id": "1eec260d-003e-424b-abf6-fba55113e2d9",
   "metadata": {},
   "outputs": [],
   "source": [
    "#CSV S3"
   ]
  },
  {
   "cell_type": "code",
   "execution_count": 184,
   "id": "4dfa5b33-8796-4e6d-b5ff-494fd91aa9c9",
   "metadata": {},
   "outputs": [],
   "source": [
    "df_city.write.csv('s3a://camada-prata/city/',mode='overwrite')"
   ]
  },
  {
   "cell_type": "code",
   "execution_count": null,
   "id": "45d92272-4e02-4df8-92f8-a898bcafd497",
   "metadata": {},
   "outputs": [],
   "source": [
    "#JSON"
   ]
  },
  {
   "cell_type": "code",
   "execution_count": 185,
   "id": "c7e2ad11-d00f-482d-826c-ac4c800bcc76",
   "metadata": {},
   "outputs": [],
   "source": [
    "df_city.write.json('s3a://camada-prata/city_json/',mode='overwrite')"
   ]
  },
  {
   "cell_type": "code",
   "execution_count": null,
   "id": "fd9be38e-bddd-45ec-987f-b06d6a52e766",
   "metadata": {},
   "outputs": [],
   "source": [
    "#PARQUET"
   ]
  },
  {
   "cell_type": "code",
   "execution_count": 186,
   "id": "36cff875-5c89-47f1-8aea-235326ccc199",
   "metadata": {},
   "outputs": [],
   "source": [
    "df_city.write.parquet('s3a://camada-prata/city_parquet/',mode='overwrite')"
   ]
  },
  {
   "cell_type": "code",
   "execution_count": 187,
   "id": "b9727a35-43c8-4624-a7b9-879f4777a4ef",
   "metadata": {},
   "outputs": [
    {
     "name": "stdout",
     "output_type": "stream",
     "text": [
      "+-------+--------------------+----------+--------------------+\n",
      "|city_id|                city|country_id|         last_update|\n",
      "+-------+--------------------+----------+--------------------+\n",
      "|    373|     Ocumare del Tuy|       104| 2006-02-15 09:45:25|\n",
      "|    484|            Smolensk|        80| 2006-02-15 09:45:25|\n",
      "|    418|     Purnea (Purnia)|        44| 2006-02-15 09:45:25|\n",
      "|    234|            Jamalpur|        12| 2006-02-15 09:45:25|\n",
      "|    223|                Ipoh|        59| 2006-02-15 09:45:25|\n",
      "|    217|                 Ife|        69| 2006-02-15 09:45:25|\n",
      "|     74|            Bhilwara|        44| 2006-02-15 09:45:25|\n",
      "|    347|              Mwanza|        93| 2006-02-15 09:45:25|\n",
      "|    294|           Lapu-Lapu|        75| 2006-02-15 09:45:25|\n",
      "|    329|              Masqat|        71| 2006-02-15 09:45:25|\n",
      "|    643|      BELO HORIZONTE|        11|2023-03-07 20:50:...|\n",
      "|    261|         Kanchrapara|        44| 2006-02-15 09:45:25|\n",
      "|    478|Siliguri (Shiliguri)|        44| 2006-02-15 09:45:25|\n",
      "|     94|            Brockton|       103| 2006-02-15 09:45:25|\n",
      "|    370|           Nukualofa|        95| 2006-02-15 09:45:25|\n",
      "|     81|             Birgunj|        66| 2006-02-15 09:45:25|\n",
      "|    273|          Klerksdorp|        85| 2006-02-15 09:45:25|\n",
      "|    177|        Garden Grove|       103| 2006-02-15 09:45:25|\n",
      "|      4|                Acua|        60| 2006-02-15 09:45:25|\n",
      "|    286|               Kursk|        80| 2006-02-15 09:45:25|\n",
      "+-------+--------------------+----------+--------------------+\n",
      "only showing top 20 rows\n",
      "\n"
     ]
    }
   ],
   "source": [
    "spark.sql(\"SELECT * FROM parquet.`s3a://camada-prata/city_parquet/`\").show()"
   ]
  },
  {
   "cell_type": "code",
   "execution_count": null,
   "id": "b6b936ae-9eb6-4a70-bc97-cf7db2d7bc42",
   "metadata": {},
   "outputs": [],
   "source": [
    "#ORC"
   ]
  },
  {
   "cell_type": "code",
   "execution_count": 188,
   "id": "9268af9d-eee0-44d7-9082-dc3dbc7d15b2",
   "metadata": {},
   "outputs": [],
   "source": [
    "df_city.write.orc('s3a://camada-prata/city_orc/',mode='overwrite')"
   ]
  },
  {
   "cell_type": "code",
   "execution_count": 189,
   "id": "66b19c83-c4ae-4de7-b4d1-b3d792728f18",
   "metadata": {},
   "outputs": [],
   "source": [
    "#DATABASE\n",
    "df_city.write \\\n",
    "    .jdbc(url=url, table='public.df',properties=properties,mode='overwrite')"
   ]
  },
  {
   "cell_type": "markdown",
   "id": "57e50e66-cb97-4db0-b8d8-eb1a4da1f775",
   "metadata": {},
   "source": [
    "## HIVE"
   ]
  },
  {
   "cell_type": "code",
   "execution_count": 128,
   "id": "08a4426f-2198-4d55-8f67-9f62718ba302",
   "metadata": {},
   "outputs": [],
   "source": [
    "df_raw = spark.read.json('s3a://camada-bronze/user/')"
   ]
  },
  {
   "cell_type": "code",
   "execution_count": 129,
   "id": "c940f275-f32e-4be3-943e-f9ad17eeaa1a",
   "metadata": {},
   "outputs": [],
   "source": [
    "df_final = \\\n",
    "df_raw.select( \\\n",
    "     'address.city' \\\n",
    "    ,'address.coordinates.lat' \\\n",
    "    ,'address.coordinates.lng' \\\n",
    "    ,'address.country' \\\n",
    "    ,'address.state' \\\n",
    "    ,'address.street_address' \\\n",
    "    ,'address.street_name' \\\n",
    "    ,'address.zip_code' \\\n",
    "    ,'avatar' \\\n",
    "    ,'credit_card.cc_number' \\\n",
    "    ,'date_of_birth' \\\n",
    "    ,'email' \\\n",
    "    ,'employment.key_skill' \\\n",
    "    ,'employment.title' \\\n",
    "    ,'first_name' \\\n",
    "    ,'gender' \\\n",
    "    ,'id' \\\n",
    "    ,'last_name' \\\n",
    "    ,'password' \\\n",
    "    ,'phone_number' \\\n",
    "    ,'social_insurance_number' \\\n",
    "    ,'subscription.payment_method' \\\n",
    "    ,'subscription.plan' \\\n",
    "    ,'subscription.status' \\\n",
    "    ,'subscription.term' \\\n",
    "    ,'uid' \\\n",
    "    ,'username' \\\n",
    "             )"
   ]
  },
  {
   "cell_type": "code",
   "execution_count": 130,
   "id": "bcddc09c-fdad-41e2-9892-98c56d013c5e",
   "metadata": {},
   "outputs": [
    {
     "data": {
      "text/plain": [
       "82"
      ]
     },
     "execution_count": 130,
     "metadata": {},
     "output_type": "execute_result"
    }
   ],
   "source": [
    "df_final.count()"
   ]
  },
  {
   "cell_type": "code",
   "execution_count": 10,
   "id": "ee88dea8-178c-443a-b0f2-3103c20639f2",
   "metadata": {},
   "outputs": [],
   "source": [
    "df_final.write.format('hive').saveAsTable('default.teste3')"
   ]
  },
  {
   "cell_type": "code",
   "execution_count": 9,
   "id": "2962e804-c249-433a-a2bb-09c57fb45943",
   "metadata": {},
   "outputs": [
    {
     "name": "stdout",
     "output_type": "stream",
     "text": [
      "+---------+---------+-----------+\n",
      "|namespace|tableName|isTemporary|\n",
      "+---------+---------+-----------+\n",
      "|  default|    teste|      false|\n",
      "|  default|   teste2|      false|\n",
      "|  default|     city|      false|\n",
      "+---------+---------+-----------+\n",
      "\n"
     ]
    }
   ],
   "source": [
    "spark.sql(\"show tables from default\").show()"
   ]
  },
  {
   "cell_type": "code",
   "execution_count": 139,
   "id": "2809e89c-9fdd-44cd-8383-a4549959c9be",
   "metadata": {},
   "outputs": [],
   "source": [
    "#PARTICIONADO\n",
    "df.write.partitionBy(\"country_id\").format(\"parquet\").save(\"/process/tabpart\")"
   ]
  },
  {
   "cell_type": "markdown",
   "id": "20430bee-4d99-4fac-bd61-f06e77b54911",
   "metadata": {},
   "source": [
    "## DELTA LAKE"
   ]
  },
  {
   "cell_type": "code",
   "execution_count": 1,
   "id": "8a1474e5-4696-48d4-b7d9-bc286f2273ab",
   "metadata": {},
   "outputs": [],
   "source": [
    "import requests\n",
    "import json\n",
    "import pyspark\n",
    "from delta import *\n",
    "\n",
    "builder = pyspark.sql.SparkSession.builder.appName(\"delta\").master(\"spark://spark-master:7077\") \\\n",
    "    .config(\"spark.sql.extensions\", \"io.delta.sql.DeltaSparkSessionExtension\") \\\n",
    "    .config(\"spark.sql.catalog.spark_catalog\", \"org.apache.spark.sql.delta.catalog.DeltaCatalog\") \\\n",
    "    .config(\"spark.sql.extensions\",\"io.delta.sql.DeltaSparkSessionExtension\") \\\n",
    "    .config(\"spark.sql.catalog.spark_catalog\",\"org.apache.spark.sql.delta.catalog.DeltaCatalog\") \\\n",
    "    .config(\"spark.hadoop.fs.s3a.access.key\",\"datalake\") \\\n",
    "    .config(\"spark.hadoop.fs.s3a.secret.key\",\"datalake\") \\\n",
    "    .config(\"spark.hadoop.fs.s3a.endpoint\",\"http://minio:9000\") \\\n",
    "    .config(\"spark.hadoop.fs.s3a.path.style.access\", \"true\") \\\n",
    "    .config(\"spark.hadoop.fs.s3a.impl\", \"org.apache.hadoop.fs.s3a.S3AFileSystem\")\n",
    "\n",
    "spark = configure_spark_with_delta_pip(builder).enableHiveSupport().getOrCreate()"
   ]
  },
  {
   "cell_type": "code",
   "execution_count": 17,
   "id": "998f2573-ec31-4ee0-95d8-8862349298c4",
   "metadata": {},
   "outputs": [],
   "source": [
    "def loadData (qtde):\n",
    "    list = []\n",
    "    for x in range (qtde):\n",
    "        print(x)\n",
    "        r = requests.get('https://random-data-api.com/api/v2/users')\n",
    "        list.append(r.json())\n",
    "        req = spark.read.json(spark.sparkContext.parallelize(list))\n",
    "        req = req.select( \\\n",
    "         'email' \\\n",
    "        ,'first_name' \\\n",
    "        ,'last_name' \\\n",
    "        ,'gender' \\\n",
    "        ,'id' \\\n",
    "        ,'username' \\\n",
    "                 )\n",
    "    return req"
   ]
  },
  {
   "cell_type": "code",
   "execution_count": 18,
   "id": "3ec29260-173b-4d5b-a625-573c6d4cd761",
   "metadata": {},
   "outputs": [
    {
     "name": "stdout",
     "output_type": "stream",
     "text": [
      "0\n",
      "1\n",
      "2\n",
      "3\n",
      "4\n",
      "5\n",
      "6\n",
      "7\n",
      "8\n",
      "9\n"
     ]
    }
   ],
   "source": [
    "df = loadData(10)"
   ]
  },
  {
   "cell_type": "code",
   "execution_count": 19,
   "id": "05bfa7b8-80df-4392-b429-170066ee9087",
   "metadata": {},
   "outputs": [
    {
     "name": "stdout",
     "output_type": "stream",
     "text": [
      "+-------------------------+----------+----------+-----------+----+---------------+\n",
      "|email                    |first_name|last_name |gender     |id  |username       |\n",
      "+-------------------------+----------+----------+-----------+----+---------------+\n",
      "|thomas.ferry@email.com   |Thomas    |Ferry     |Genderfluid|9258|thomas.ferry   |\n",
      "|brigette.auer@email.com  |Brigette  |Auer      |Polygender |2479|brigette.auer  |\n",
      "|johanna.rogahn@email.com |Johanna   |Rogahn    |Genderfluid|8690|johanna.rogahn |\n",
      "|joannie.russel@email.com |Joannie   |Russel    |Genderqueer|1203|joannie.russel |\n",
      "|randall.orn@email.com    |Randall   |Orn       |Male       |5704|randall.orn    |\n",
      "|eddy.monahan@email.com   |Eddy      |Monahan   |Agender    |4722|eddy.monahan   |\n",
      "|buffy.beahan@email.com   |Buffy     |Beahan    |Non-binary |2661|buffy.beahan   |\n",
      "|anna.parisian@email.com  |Anna      |Parisian  |Genderqueer|9070|anna.parisian  |\n",
      "|cecil.gulgowski@email.com|Cecil     |Gulgowski |Non-binary |4545|cecil.gulgowski|\n",
      "|kurt.balistreri@email.com|Kurt      |Balistreri|Male       |6545|kurt.balistreri|\n",
      "+-------------------------+----------+----------+-----------+----+---------------+\n",
      "\n"
     ]
    }
   ],
   "source": [
    "df.show(truncate=False)"
   ]
  },
  {
   "cell_type": "code",
   "execution_count": 21,
   "id": "58a32201-c258-4ec5-b533-32c007a821a7",
   "metadata": {},
   "outputs": [],
   "source": [
    "path = 's3a://camada-prata/user_app'"
   ]
  },
  {
   "cell_type": "code",
   "execution_count": 22,
   "id": "353d05bf-cfa1-4167-bea9-71daeb9df102",
   "metadata": {},
   "outputs": [],
   "source": [
    "#salvando como delta table\n",
    "df.write.format(\"delta\").mode('overwrite').save(path)"
   ]
  },
  {
   "cell_type": "code",
   "execution_count": 23,
   "id": "b3554242-7b9f-4b1e-9bf8-055f51eb8fa4",
   "metadata": {},
   "outputs": [],
   "source": [
    "deltaTable = DeltaTable.forPath(spark, path)"
   ]
  },
  {
   "cell_type": "code",
   "execution_count": 24,
   "id": "5711fd48-211f-48b7-b25e-0e7371eb8830",
   "metadata": {},
   "outputs": [
    {
     "data": {
      "text/plain": [
       "delta.tables.DeltaTable"
      ]
     },
     "execution_count": 24,
     "metadata": {},
     "output_type": "execute_result"
    }
   ],
   "source": [
    "type(deltaTable)"
   ]
  },
  {
   "cell_type": "code",
   "execution_count": 25,
   "id": "124939f9-3cc3-4ea8-82e7-c4e8ec7ebde1",
   "metadata": {},
   "outputs": [],
   "source": [
    "d = spark.read.format(\"delta\").load(path)"
   ]
  },
  {
   "cell_type": "code",
   "execution_count": 26,
   "id": "c8fc1e25-47e9-4427-a88d-6c1d68d754f8",
   "metadata": {},
   "outputs": [
    {
     "data": {
      "text/plain": [
       "pyspark.sql.dataframe.DataFrame"
      ]
     },
     "execution_count": 26,
     "metadata": {},
     "output_type": "execute_result"
    }
   ],
   "source": [
    "type(d)"
   ]
  },
  {
   "cell_type": "code",
   "execution_count": 27,
   "id": "ff54428c-00b3-454a-93f6-2d4455027c2a",
   "metadata": {},
   "outputs": [
    {
     "name": "stdout",
     "output_type": "stream",
     "text": [
      "+-------------------------+----------+----------+-----------+----+---------------+\n",
      "|email                    |first_name|last_name |gender     |id  |username       |\n",
      "+-------------------------+----------+----------+-----------+----+---------------+\n",
      "|eddy.monahan@email.com   |Eddy      |Monahan   |Agender    |4722|eddy.monahan   |\n",
      "|buffy.beahan@email.com   |Buffy     |Beahan    |Non-binary |2661|buffy.beahan   |\n",
      "|anna.parisian@email.com  |Anna      |Parisian  |Genderqueer|9070|anna.parisian  |\n",
      "|cecil.gulgowski@email.com|Cecil     |Gulgowski |Non-binary |4545|cecil.gulgowski|\n",
      "|kurt.balistreri@email.com|Kurt      |Balistreri|Male       |6545|kurt.balistreri|\n",
      "|thomas.ferry@email.com   |Thomas    |Ferry     |Genderfluid|9258|thomas.ferry   |\n",
      "|brigette.auer@email.com  |Brigette  |Auer      |Polygender |2479|brigette.auer  |\n",
      "|johanna.rogahn@email.com |Johanna   |Rogahn    |Genderfluid|8690|johanna.rogahn |\n",
      "|joannie.russel@email.com |Joannie   |Russel    |Genderqueer|1203|joannie.russel |\n",
      "|randall.orn@email.com    |Randall   |Orn       |Male       |5704|randall.orn    |\n",
      "+-------------------------+----------+----------+-----------+----+---------------+\n",
      "\n"
     ]
    }
   ],
   "source": [
    "deltaTable.toDF().show(truncate=False)"
   ]
  },
  {
   "cell_type": "code",
   "execution_count": 28,
   "id": "2eb8e2ca-b694-4fa3-ac53-a3395bf9d45a",
   "metadata": {},
   "outputs": [
    {
     "name": "stdout",
     "output_type": "stream",
     "text": [
      "0\n",
      "1\n",
      "2\n",
      "3\n",
      "4\n",
      "5\n",
      "6\n",
      "7\n",
      "8\n",
      "9\n"
     ]
    }
   ],
   "source": [
    "### MERGE\n",
    "#NOVOS DADOS\n",
    "raw = loadData(10)"
   ]
  },
  {
   "cell_type": "code",
   "execution_count": 29,
   "id": "69c24362-391b-4edd-8ac5-e7a98651f69b",
   "metadata": {},
   "outputs": [
    {
     "name": "stdout",
     "output_type": "stream",
     "text": [
      "+-------------------------+----------+---------+-----------+----+---------------+\n",
      "|email                    |first_name|last_name|gender     |id  |username       |\n",
      "+-------------------------+----------+---------+-----------+----+---------------+\n",
      "|yuk.schneider@email.com  |Yuk       |Schneider|Genderfluid|9574|yuk.schneider  |\n",
      "|claudie.towne@email.com  |Claudie   |Towne    |Bigender   |5756|claudie.towne  |\n",
      "|wynona.lindgren@email.com|Wynona    |Lindgren |Bigender   |6618|wynona.lindgren|\n",
      "|daniela.beahan@email.com |Daniela   |Beahan   |Male       |9223|daniela.beahan |\n",
      "|corazon.jacobi@email.com |Corazon   |Jacobi   |Agender    |8166|corazon.jacobi |\n",
      "|arlen.jaskolski@email.com|Arlen     |Jaskolski|Non-binary |2016|arlen.jaskolski|\n",
      "|daryl.ernser@email.com   |Daryl     |Ernser   |Polygender |6468|daryl.ernser   |\n",
      "|sallie.russel@email.com  |Sallie    |Russel   |Polygender |8647|sallie.russel  |\n",
      "|blanca.olson@email.com   |Blanca    |Olson    |Agender    |3326|blanca.olson   |\n",
      "|zack.romaguera@email.com |Zack      |Romaguera|Genderqueer|8631|zack.romaguera |\n",
      "+-------------------------+----------+---------+-----------+----+---------------+\n",
      "\n"
     ]
    }
   ],
   "source": [
    "raw.show(truncate=False)"
   ]
  },
  {
   "cell_type": "code",
   "execution_count": 30,
   "id": "81a07abb-27a4-4e86-8874-af6feb0bb435",
   "metadata": {},
   "outputs": [],
   "source": [
    "from delta.tables import *\n",
    "from pyspark.sql.functions import *\n",
    "\n",
    "deltaTable.alias(\"process\") \\\n",
    "  .merge(\n",
    "    raw.alias(\"raw\"),\n",
    "    \"process.id = raw.id\") \\\n",
    "  .whenNotMatchedInsert(values = {'email' : col('email') \\\n",
    "                                 ,'first_name' : col('first_name') \\\n",
    "                                 ,'last_name' : col('last_name') \\\n",
    "                                 ,'gender' : col('gender') \\\n",
    "                                 ,'id' : col('id') \\\n",
    "                                 ,'username' : col('username') \\\n",
    "                                 }) \\\n",
    "  .whenMatchedUpdate(set = {'email' : col('raw.email') \\\n",
    "                                 ,'first_name' : col('raw.first_name') \\\n",
    "                                 ,'last_name' : col('raw.last_name') \\\n",
    "                                 ,'gender' : col('raw.gender') \\\n",
    "                                 ,'username' : col('raw.username') \\\n",
    "                                 }) \\\n",
    "  .execute()"
   ]
  },
  {
   "cell_type": "code",
   "execution_count": 31,
   "id": "0556d58c-2eb3-468e-8778-22ca78e1060f",
   "metadata": {},
   "outputs": [
    {
     "name": "stdout",
     "output_type": "stream",
     "text": [
      "+-------------------------+----------+----------+-----------+----+---------------+\n",
      "|email                    |first_name|last_name |gender     |id  |username       |\n",
      "+-------------------------+----------+----------+-----------+----+---------------+\n",
      "|blanca.olson@email.com   |Blanca    |Olson     |Agender    |3326|blanca.olson   |\n",
      "|arlen.jaskolski@email.com|Arlen     |Jaskolski |Non-binary |2016|arlen.jaskolski|\n",
      "|sallie.russel@email.com  |Sallie    |Russel    |Polygender |8647|sallie.russel  |\n",
      "|zack.romaguera@email.com |Zack      |Romaguera |Genderqueer|8631|zack.romaguera |\n",
      "|daryl.ernser@email.com   |Daryl     |Ernser    |Polygender |6468|daryl.ernser   |\n",
      "|claudie.towne@email.com  |Claudie   |Towne     |Bigender   |5756|claudie.towne  |\n",
      "|daniela.beahan@email.com |Daniela   |Beahan    |Male       |9223|daniela.beahan |\n",
      "|corazon.jacobi@email.com |Corazon   |Jacobi    |Agender    |8166|corazon.jacobi |\n",
      "|yuk.schneider@email.com  |Yuk       |Schneider |Genderfluid|9574|yuk.schneider  |\n",
      "|wynona.lindgren@email.com|Wynona    |Lindgren  |Bigender   |6618|wynona.lindgren|\n",
      "|eddy.monahan@email.com   |Eddy      |Monahan   |Agender    |4722|eddy.monahan   |\n",
      "|buffy.beahan@email.com   |Buffy     |Beahan    |Non-binary |2661|buffy.beahan   |\n",
      "|anna.parisian@email.com  |Anna      |Parisian  |Genderqueer|9070|anna.parisian  |\n",
      "|cecil.gulgowski@email.com|Cecil     |Gulgowski |Non-binary |4545|cecil.gulgowski|\n",
      "|kurt.balistreri@email.com|Kurt      |Balistreri|Male       |6545|kurt.balistreri|\n",
      "|thomas.ferry@email.com   |Thomas    |Ferry     |Genderfluid|9258|thomas.ferry   |\n",
      "|brigette.auer@email.com  |Brigette  |Auer      |Polygender |2479|brigette.auer  |\n",
      "|johanna.rogahn@email.com |Johanna   |Rogahn    |Genderfluid|8690|johanna.rogahn |\n",
      "|joannie.russel@email.com |Joannie   |Russel    |Genderqueer|1203|joannie.russel |\n",
      "|randall.orn@email.com    |Randall   |Orn       |Male       |5704|randall.orn    |\n",
      "+-------------------------+----------+----------+-----------+----+---------------+\n",
      "\n"
     ]
    }
   ],
   "source": [
    "deltaTable.toDF().show(truncate=False)"
   ]
  },
  {
   "cell_type": "markdown",
   "id": "301e9198-46a6-482a-a0fe-e7cd8fa9b261",
   "metadata": {},
   "source": [
    "## SPARK SUBMIT"
   ]
  },
  {
   "cell_type": "code",
   "execution_count": null,
   "id": "1d91aff8-05fe-431b-b31e-a6a43c8ac5bb",
   "metadata": {},
   "outputs": [],
   "source": [
    "from pyspark.sql import SparkSession\n",
    "import requests\n",
    "spark = SparkSession.builder.appName(\"Aula\").enableHiveSupport().getOrCreate()\n",
    "def loadData (qtde):\n",
    "    list = []\n",
    "    for x in range (qtde):\n",
    "        print(x)\n",
    "        r = requests.get('https://random-data-api.com/api/v2/users')\n",
    "        list.append(r.json())\n",
    "        req = spark.read.json(spark.sparkContext.parallelize(list))\n",
    "        req = req.select( \\\n",
    "         'email' \\\n",
    "        ,'first_name' \\\n",
    "        ,'last_name' \\\n",
    "        ,'gender' \\\n",
    "        ,'id' \\\n",
    "        ,'username' \\\n",
    "                 )\n",
    "    return req\n",
    "\n",
    "df = loadData(10)\n",
    "df.repatition(1).write.parquet('/datalake/raw/api',mode='append')"
   ]
  },
  {
   "cell_type": "code",
   "execution_count": 29,
   "id": "89b255cb-5f1e-4a26-a815-9064c11858ab",
   "metadata": {},
   "outputs": [],
   "source": [
    "#spark-submit --master spark://spark-master:7077 --supervise --executor-memory 1G --total-executor-cores 1 programa.py"
   ]
  },
  {
   "cell_type": "code",
   "execution_count": null,
   "id": "4f6f40ef-e972-43d3-9e33-7559881df3cd",
   "metadata": {},
   "outputs": [],
   "source": []
  }
 ],
 "metadata": {
  "kernelspec": {
   "display_name": "Python 3 (ipykernel)",
   "language": "python",
   "name": "python3"
  },
  "language_info": {
   "codemirror_mode": {
    "name": "ipython",
    "version": 3
   },
   "file_extension": ".py",
   "mimetype": "text/x-python",
   "name": "python",
   "nbconvert_exporter": "python",
   "pygments_lexer": "ipython3",
   "version": "3.10.8"
  }
 },
 "nbformat": 4,
 "nbformat_minor": 5
}
