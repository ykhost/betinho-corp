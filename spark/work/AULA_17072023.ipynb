{
 "cells": [
  {
   "cell_type": "markdown",
   "id": "f619859c-ff81-482e-a29a-3da5708098ac",
   "metadata": {},
   "source": [
    "## CRIANDO CONEXÃO"
   ]
  },
  {
   "cell_type": "code",
   "execution_count": 2,
   "id": "d9d6c2f1-c96b-4b6c-85fb-a61737d091d8",
   "metadata": {},
   "outputs": [],
   "source": [
    "from pyspark.sql import SparkSession"
   ]
  },
  {
   "cell_type": "code",
   "execution_count": 3,
   "id": "e3120076-8280-4b57-9213-3758b1370805",
   "metadata": {},
   "outputs": [],
   "source": [
    "spark = SparkSession.builder.appName(\"AulaSpark\").enableHiveSupport().getOrCreate()"
   ]
  },
  {
   "cell_type": "code",
   "execution_count": 6,
   "id": "2a8e73ca-d535-4ae9-a84c-dc2e2ec93537",
   "metadata": {},
   "outputs": [
    {
     "data": {
      "text/plain": [
       "pyspark.sql.session.SparkSession"
      ]
     },
     "execution_count": 6,
     "metadata": {},
     "output_type": "execute_result"
    }
   ],
   "source": [
    "type(spark)"
   ]
  },
  {
   "cell_type": "code",
   "execution_count": 7,
   "id": "a42b26f4-5ddc-46a0-837f-7c05145c0fe3",
   "metadata": {},
   "outputs": [
    {
     "data": {
      "text/html": [
       "\n",
       "            <div>\n",
       "                <p><b>SparkSession - hive</b></p>\n",
       "                \n",
       "        <div>\n",
       "            <p><b>SparkContext</b></p>\n",
       "\n",
       "            <p><a href=\"http://spark-master:4040\">Spark UI</a></p>\n",
       "\n",
       "            <dl>\n",
       "              <dt>Version</dt>\n",
       "                <dd><code>v3.3.1</code></dd>\n",
       "              <dt>Master</dt>\n",
       "                <dd><code>local[*]</code></dd>\n",
       "              <dt>AppName</dt>\n",
       "                <dd><code>AulaSpark</code></dd>\n",
       "            </dl>\n",
       "        </div>\n",
       "        \n",
       "            </div>\n",
       "        "
      ],
      "text/plain": [
       "<pyspark.sql.session.SparkSession at 0x7fa922cd9ba0>"
      ]
     },
     "execution_count": 7,
     "metadata": {},
     "output_type": "execute_result"
    }
   ],
   "source": [
    "spark"
   ]
  },
  {
   "cell_type": "markdown",
   "id": "9cee1ee5-6975-496f-81ee-adcd534209ae",
   "metadata": {},
   "source": [
    "## CRIAR UM DF"
   ]
  },
  {
   "cell_type": "code",
   "execution_count": 8,
   "id": "2b5dc9de-83ff-496f-9583-48ceaaacdb79",
   "metadata": {},
   "outputs": [],
   "source": [
    "df_aluno = spark.createDataFrame([\n",
    "    {\"id\" : 1, \"nome\": \"Fabio\"},\n",
    "    {\"id\" : 2, \"nome\": \"Yuri\"},\n",
    "    {\"id\" : 3, \"nome\": \"Fernando\"}\n",
    "])"
   ]
  },
  {
   "cell_type": "code",
   "execution_count": 9,
   "id": "b0388d54-feb8-44b5-92ff-679071c640f6",
   "metadata": {},
   "outputs": [
    {
     "data": {
      "text/plain": [
       "pyspark.sql.dataframe.DataFrame"
      ]
     },
     "execution_count": 9,
     "metadata": {},
     "output_type": "execute_result"
    }
   ],
   "source": [
    "type(df_aluno)"
   ]
  },
  {
   "cell_type": "code",
   "execution_count": 11,
   "id": "48f9ddf5-052a-4ea2-8830-aa29aa059edf",
   "metadata": {},
   "outputs": [
    {
     "name": "stdout",
     "output_type": "stream",
     "text": [
      "Help on method filter in module pyspark.sql.dataframe:\n",
      "\n",
      "filter(condition: 'ColumnOrName') -> 'DataFrame' method of pyspark.sql.dataframe.DataFrame instance\n",
      "    Filters rows using the given condition.\n",
      "    \n",
      "    :func:`where` is an alias for :func:`filter`.\n",
      "    \n",
      "    .. versionadded:: 1.3.0\n",
      "    \n",
      "    Parameters\n",
      "    ----------\n",
      "    condition : :class:`Column` or str\n",
      "        a :class:`Column` of :class:`types.BooleanType`\n",
      "        or a string of SQL expression.\n",
      "    \n",
      "    Examples\n",
      "    --------\n",
      "    >>> df.filter(df.age > 3).collect()\n",
      "    [Row(age=5, name='Bob')]\n",
      "    >>> df.where(df.age == 2).collect()\n",
      "    [Row(age=2, name='Alice')]\n",
      "    \n",
      "    >>> df.filter(\"age > 3\").collect()\n",
      "    [Row(age=5, name='Bob')]\n",
      "    >>> df.where(\"age = 2\").collect()\n",
      "    [Row(age=2, name='Alice')]\n",
      "\n"
     ]
    }
   ],
   "source": [
    "help(df_aluno.filter)"
   ]
  },
  {
   "cell_type": "markdown",
   "id": "73e76b06-7aa0-48a5-8b2d-799c52fbf3b6",
   "metadata": {},
   "source": [
    "## CRIAR DF COM ARQUIVOS"
   ]
  },
  {
   "cell_type": "code",
   "execution_count": 16,
   "id": "c2291003-c069-4af6-8b26-5a8bbd2d2268",
   "metadata": {},
   "outputs": [],
   "source": [
    "## HDFS\n",
    "df_csv = spark.read.csv(path='hdfs:/aula/raw/pessoa/pessoas.csv',header=True,sep=',')"
   ]
  },
  {
   "cell_type": "code",
   "execution_count": 17,
   "id": "c45a77a1-9f0d-44eb-bfbb-96dfd5d2ccec",
   "metadata": {},
   "outputs": [
    {
     "name": "stdout",
     "output_type": "stream",
     "text": [
      "+----+---------+---+\n",
      "|  id|     name|age|\n",
      "+----+---------+---+\n",
      "|1201|  Marcelo| 25|\n",
      "|1202|    Luana| 23|\n",
      "|1203|   Daniel| 39|\n",
      "|1204|  Eduardo| 23|\n",
      "|1205|   Carlos| 23|\n",
      "|1206|     Beto| 27|\n",
      "|1207|     Joao| 43|\n",
      "|1208|Francisco| 43|\n",
      "|1209|   Amanda| 33|\n",
      "|1210|  Vitoria| 23|\n",
      "+----+---------+---+\n",
      "\n"
     ]
    }
   ],
   "source": [
    "df_csv.show()"
   ]
  },
  {
   "cell_type": "code",
   "execution_count": 20,
   "id": "603314f3-45f7-4a39-b9bf-b1fd671f3128",
   "metadata": {},
   "outputs": [],
   "source": [
    "df_json = spark.read.json(path='hdfs:/aula/raw/pessoa/pessoas.json')"
   ]
  },
  {
   "cell_type": "code",
   "execution_count": 24,
   "id": "dddab6bc-8976-4a59-9998-0e95d3125584",
   "metadata": {},
   "outputs": [
    {
     "name": "stdout",
     "output_type": "stream",
     "text": [
      "+---+---+-------------+\n",
      "|age| id|         name|\n",
      "+---+---+-------------+\n",
      "| 28|  1|       Helena|\n",
      "| 44|  2|       Miguel|\n",
      "| 97|  3|        Alice|\n",
      "| 28|  4|        Laura|\n",
      "| 94|  5|      Manuela|\n",
      "| 71|  6|    Valentina|\n",
      "| 48|  7|       Sophia|\n",
      "| 98|  8|     Isabella|\n",
      "| 60|  9|      Heloísa|\n",
      "| 46| 10|        Luiza|\n",
      "| 47| 11|        Júlia|\n",
      "| 35| 12|       Lorena|\n",
      "| 32| 13|        Lívia|\n",
      "| 90| 14|  Maria Luiza|\n",
      "| 88| 15|      Cecília|\n",
      "| 36| 16|         Eloá|\n",
      "| 57| 17|     Giovanna|\n",
      "| 75| 18|  Maria Clara|\n",
      "| 97| 19|Maria Eduarda|\n",
      "| 65| 20|      Mariana|\n",
      "+---+---+-------------+\n",
      "only showing top 20 rows\n",
      "\n"
     ]
    }
   ],
   "source": [
    "df_json.show()"
   ]
  },
  {
   "cell_type": "code",
   "execution_count": 26,
   "id": "4901a2c3-69ff-4844-b6ea-2d5b34768066",
   "metadata": {},
   "outputs": [],
   "source": [
    "#S3\n",
    "df_jsonS3 = spark.read.json('s3a://camada-bronze/pessoa')"
   ]
  },
  {
   "cell_type": "code",
   "execution_count": 28,
   "id": "6a527500-76d6-47f6-834d-61457dbb981b",
   "metadata": {},
   "outputs": [
    {
     "name": "stdout",
     "output_type": "stream",
     "text": [
      "+---+---+-------+\n",
      "|age| id|   name|\n",
      "+---+---+-------+\n",
      "| 28|  1| Helena|\n",
      "| 44|  2| Miguel|\n",
      "| 97|  3|  Alice|\n",
      "| 28|  4|  Laura|\n",
      "| 94|  5|Manuela|\n",
      "+---+---+-------+\n",
      "only showing top 5 rows\n",
      "\n"
     ]
    }
   ],
   "source": [
    "df_jsonS3.show(5)"
   ]
  },
  {
   "cell_type": "code",
   "execution_count": 29,
   "id": "60ce5941-4b82-4e4b-9541-4b5b2ad13f1d",
   "metadata": {},
   "outputs": [],
   "source": [
    "df_teste = spark.read.load('s3a://camada-bronze/pessoa',format='json')"
   ]
  },
  {
   "cell_type": "code",
   "execution_count": 30,
   "id": "d175fd38-24ec-4ce0-af49-7fea55fbe0b9",
   "metadata": {},
   "outputs": [
    {
     "name": "stdout",
     "output_type": "stream",
     "text": [
      "+---+---+-------+\n",
      "|age| id|   name|\n",
      "+---+---+-------+\n",
      "| 28|  1| Helena|\n",
      "| 44|  2| Miguel|\n",
      "| 97|  3|  Alice|\n",
      "| 28|  4|  Laura|\n",
      "| 94|  5|Manuela|\n",
      "+---+---+-------+\n",
      "only showing top 5 rows\n",
      "\n"
     ]
    }
   ],
   "source": [
    "df_teste.show(5)"
   ]
  },
  {
   "cell_type": "code",
   "execution_count": 42,
   "id": "e90e9978-9eed-4dcd-a3a4-db50d67a99cd",
   "metadata": {},
   "outputs": [],
   "source": [
    "#local\n",
    "df_local = spark.read.csv('file:///home/user/pessoa.txt',header=True,sep='@')"
   ]
  },
  {
   "cell_type": "code",
   "execution_count": 43,
   "id": "2d7bf7b8-b374-480c-b8b0-8d7faff11795",
   "metadata": {},
   "outputs": [
    {
     "name": "stdout",
     "output_type": "stream",
     "text": [
      "+---+---------+\n",
      "| id|     nome|\n",
      "+---+---------+\n",
      "|  1|    lucas|\n",
      "|  2|aureliano|\n",
      "|  3|   sandra|\n",
      "|  4|  beatriz|\n",
      "|  5|  eduardo|\n",
      "|  6|  ernesto|\n",
      "|  7|   victor|\n",
      "|  8|alexandre|\n",
      "+---+---------+\n",
      "\n"
     ]
    }
   ],
   "source": [
    "df_local.show()"
   ]
  },
  {
   "cell_type": "markdown",
   "id": "2fb06a64-806a-4dce-947b-e5b084e52580",
   "metadata": {},
   "source": [
    "## CRIAR DF COM BD"
   ]
  },
  {
   "cell_type": "code",
   "execution_count": 44,
   "id": "453e56cd-22d7-421b-acda-545e5d1fa5c8",
   "metadata": {},
   "outputs": [],
   "source": [
    "ulr = 'jdbc:postgresql://postgres:5432/dvdrental'\n",
    "properties = {\n",
    "    \"user\":\"admin\",\n",
    "    \"password\":\"admin\",\n",
    "    \"driver\":\"org.postgresql.Driver\"\n",
    "}"
   ]
  },
  {
   "cell_type": "code",
   "execution_count": 45,
   "id": "e2c15050-bdd1-41e2-97f5-65b3f14b8f44",
   "metadata": {},
   "outputs": [],
   "source": [
    "df_city = spark.read.jdbc(url=ulr,table='public.city',properties=properties)"
   ]
  },
  {
   "cell_type": "code",
   "execution_count": 47,
   "id": "fe05c5aa-5435-4fbd-8d23-8e848ae0ad0c",
   "metadata": {},
   "outputs": [
    {
     "name": "stdout",
     "output_type": "stream",
     "text": [
      "+-------+-----------+----------+-------------------+\n",
      "|city_id|       city|country_id|        last_update|\n",
      "+-------+-----------+----------+-------------------+\n",
      "|      2|       Abha|        82|2006-02-15 09:45:25|\n",
      "|      3|  Abu Dhabi|       101|2006-02-15 09:45:25|\n",
      "|      4|       Acua|        60|2006-02-15 09:45:25|\n",
      "|      5|      Adana|        97|2006-02-15 09:45:25|\n",
      "|      6|Addis Abeba|        31|2006-02-15 09:45:25|\n",
      "|      7|       Aden|       107|2006-02-15 09:45:25|\n",
      "|      8|      Adoni|        44|2006-02-15 09:45:25|\n",
      "|      9| Ahmadnagar|        44|2006-02-15 09:45:25|\n",
      "|     10|   Akishima|        50|2006-02-15 09:45:25|\n",
      "|     11|      Akron|       103|2006-02-15 09:45:25|\n",
      "+-------+-----------+----------+-------------------+\n",
      "only showing top 10 rows\n",
      "\n"
     ]
    }
   ],
   "source": [
    "df_city.show(10)"
   ]
  },
  {
   "cell_type": "code",
   "execution_count": 48,
   "id": "9085fc19-f563-4b29-961f-721b53e6ed63",
   "metadata": {},
   "outputs": [],
   "source": [
    "df_country = spark.read.jdbc(url=ulr,table='public.country',properties=properties)"
   ]
  },
  {
   "cell_type": "code",
   "execution_count": 50,
   "id": "2dd4c951-ea3a-415c-8181-1f7c4bb7bf0f",
   "metadata": {},
   "outputs": [
    {
     "name": "stdout",
     "output_type": "stream",
     "text": [
      "+----------+--------------+-------------------+\n",
      "|country_id|       country|        last_update|\n",
      "+----------+--------------+-------------------+\n",
      "|         1|   Afghanistan|2006-02-15 09:44:00|\n",
      "|         2|       Algeria|2006-02-15 09:44:00|\n",
      "|         3|American Samoa|2006-02-15 09:44:00|\n",
      "|         4|        Angola|2006-02-15 09:44:00|\n",
      "|         5|      Anguilla|2006-02-15 09:44:00|\n",
      "+----------+--------------+-------------------+\n",
      "only showing top 5 rows\n",
      "\n"
     ]
    }
   ],
   "source": [
    "df_country.show(5)"
   ]
  },
  {
   "cell_type": "code",
   "execution_count": 51,
   "id": "57dba046-27b3-4bec-967e-c8da1e8be48d",
   "metadata": {},
   "outputs": [],
   "source": [
    "query = '(select c.city_id, c.city,c2.country from public.city c \\\n",
    "        inner join public.country c2 on \\\n",
    "        c.country_id = c2.country_id) as tab'"
   ]
  },
  {
   "cell_type": "code",
   "execution_count": 52,
   "id": "4ec23f62-9486-4cad-80fa-659b1dc157ae",
   "metadata": {},
   "outputs": [],
   "source": [
    "df_query = spark.read.jdbc(url=ulr,table=query,properties=properties)"
   ]
  },
  {
   "cell_type": "code",
   "execution_count": 53,
   "id": "75a5e3dc-23a8-4cf4-92c3-3b23a810281d",
   "metadata": {},
   "outputs": [
    {
     "name": "stdout",
     "output_type": "stream",
     "text": [
      "+-------+-----------+--------------------+\n",
      "|city_id|       city|             country|\n",
      "+-------+-----------+--------------------+\n",
      "|      2|       Abha|        Saudi Arabia|\n",
      "|      3|  Abu Dhabi|United Arab Emirates|\n",
      "|      4|       Acua|              Mexico|\n",
      "|      5|      Adana|              Turkey|\n",
      "|      6|Addis Abeba|            Ethiopia|\n",
      "+-------+-----------+--------------------+\n",
      "only showing top 5 rows\n",
      "\n"
     ]
    }
   ],
   "source": [
    "df_query.show(5)"
   ]
  },
  {
   "cell_type": "markdown",
   "id": "6918d4c2-5048-41a1-9eb8-b4c40744284e",
   "metadata": {},
   "source": [
    "## AÇÃO E TRANSFORMAÇÃO"
   ]
  },
  {
   "cell_type": "code",
   "execution_count": 54,
   "id": "e42103c3-80bb-43ab-abe5-dcf0a0b7afc0",
   "metadata": {},
   "outputs": [],
   "source": [
    "## T1\n",
    "df_city = spark.read.jdbc(url=ulr,table='public.city',properties=properties)"
   ]
  },
  {
   "cell_type": "code",
   "execution_count": 55,
   "id": "0d0dd928-8999-4c4e-8371-9db690bcdfec",
   "metadata": {},
   "outputs": [],
   "source": [
    "## T2\n",
    "df_city2 = df_city.filter(df_city.country_id == 101)"
   ]
  },
  {
   "cell_type": "code",
   "execution_count": 61,
   "id": "86da3acd-8845-49c3-9f11-f7c75345a9cf",
   "metadata": {},
   "outputs": [
    {
     "name": "stdout",
     "output_type": "stream",
     "text": [
      "== Parsed Logical Plan ==\n",
      "'Filter (country_id#519 = 101)\n",
      "+- Relation [city_id#517,city#518,country_id#519,last_update#520] JDBCRelation(public.city) [numPartitions=1]\n",
      "\n",
      "== Analyzed Logical Plan ==\n",
      "city_id: int, city: string, country_id: smallint, last_update: timestamp\n",
      "Filter (cast(country_id#519 as int) = 101)\n",
      "+- Relation [city_id#517,city#518,country_id#519,last_update#520] JDBCRelation(public.city) [numPartitions=1]\n",
      "\n",
      "== Optimized Logical Plan ==\n",
      "Filter (isnotnull(country_id#519) AND (country_id#519 = 101))\n",
      "+- Relation [city_id#517,city#518,country_id#519,last_update#520] JDBCRelation(public.city) [numPartitions=1]\n",
      "\n",
      "== Physical Plan ==\n",
      "*(1) Scan JDBCRelation(public.city) [numPartitions=1] [city_id#517,city#518,country_id#519,last_update#520] PushedFilters: [*IsNotNull(country_id), *EqualTo(country_id,101)], ReadSchema: struct<city_id:int,city:string,country_id:smallint,last_update:timestamp>\n",
      "\n"
     ]
    }
   ],
   "source": [
    "## A\n",
    "df_city2.count()\n",
    "## T1 + T2 + A\n",
    "\n",
    "df_city2.explain(extended=True)"
   ]
  },
  {
   "cell_type": "markdown",
   "id": "b5aa333a-6f40-4508-aa75-1fa74f08502c",
   "metadata": {},
   "source": [
    "## VALIDAR DF"
   ]
  },
  {
   "cell_type": "code",
   "execution_count": 66,
   "id": "66a9e4c0-6842-427b-b1d5-678c7f8678b1",
   "metadata": {},
   "outputs": [
    {
     "name": "stdout",
     "output_type": "stream",
     "text": [
      "+-------+-----------+----------+-------------------+\n",
      "|city_id|city       |country_id|last_update        |\n",
      "+-------+-----------+----------+-------------------+\n",
      "|2      |Abha       |82        |2006-02-15 09:45:25|\n",
      "|3      |Abu Dhabi  |101       |2006-02-15 09:45:25|\n",
      "|4      |Acua       |60        |2006-02-15 09:45:25|\n",
      "|5      |Adana      |97        |2006-02-15 09:45:25|\n",
      "|6      |Addis Abeba|31        |2006-02-15 09:45:25|\n",
      "+-------+-----------+----------+-------------------+\n",
      "only showing top 5 rows\n",
      "\n"
     ]
    }
   ],
   "source": [
    "#print\n",
    "df_city.show(5,truncate=False)"
   ]
  },
  {
   "cell_type": "code",
   "execution_count": 67,
   "id": "57e51d1e-9f72-4105-9752-f93795617f67",
   "metadata": {},
   "outputs": [
    {
     "name": "stdout",
     "output_type": "stream",
     "text": [
      "+-------+------------------+--------------------+------------------+\n",
      "|summary|           city_id|                city|        country_id|\n",
      "+-------+------------------+--------------------+------------------+\n",
      "|  count|               652|                 652|               652|\n",
      "|   mean|326.66257668711654|                null|55.219325153374236|\n",
      "| stddev|188.62656549041938|                null|31.681053482709448|\n",
      "|    min|                 1|A Corua (La Corua...|                 1|\n",
      "|    max|               656|               teste|               111|\n",
      "+-------+------------------+--------------------+------------------+\n",
      "\n"
     ]
    }
   ],
   "source": [
    "#describe\n",
    "df_city.describe().show()"
   ]
  },
  {
   "cell_type": "code",
   "execution_count": 68,
   "id": "34dece48-dddb-486a-a903-cfe49921aaff",
   "metadata": {},
   "outputs": [
    {
     "name": "stdout",
     "output_type": "stream",
     "text": [
      "root\n",
      " |-- city_id: integer (nullable = true)\n",
      " |-- city: string (nullable = true)\n",
      " |-- country_id: short (nullable = true)\n",
      " |-- last_update: timestamp (nullable = true)\n",
      "\n"
     ]
    }
   ],
   "source": [
    "#printSchema\n",
    "df_city.printSchema()"
   ]
  },
  {
   "cell_type": "code",
   "execution_count": 69,
   "id": "18f2f337-d5b5-4f62-8c06-980cb1d28739",
   "metadata": {},
   "outputs": [
    {
     "data": {
      "text/plain": [
       "652"
      ]
     },
     "execution_count": 69,
     "metadata": {},
     "output_type": "execute_result"
    }
   ],
   "source": [
    "#count\n",
    "df_city.count()"
   ]
  },
  {
   "cell_type": "code",
   "execution_count": 90,
   "id": "a2a51319-8825-4f7f-9c32-559a613d3cf3",
   "metadata": {},
   "outputs": [
    {
     "name": "stdout",
     "output_type": "stream",
     "text": [
      "+-------+-----------+----------+-------------------+\n",
      "|city_id|       city|country_id|        last_update|\n",
      "+-------+-----------+----------+-------------------+\n",
      "|      2|       Abha|        82|2006-02-15 09:45:25|\n",
      "|      4|       Acua|        60|2006-02-15 09:45:25|\n",
      "|      6|Addis Abeba|        31|2006-02-15 09:45:25|\n",
      "|     11|      Akron|       103|2006-02-15 09:45:25|\n",
      "|     13|  al-Hawiya|        82|2006-02-15 09:45:25|\n",
      "|     15| al-Qadarif|        89|2006-02-15 09:45:25|\n",
      "|     22|   Ambattur|        44|2006-02-15 09:45:25|\n",
      "|     24|     Amroha|        44|2006-02-15 09:45:25|\n",
      "|     38|    Athenai|        39|2006-02-15 09:45:25|\n",
      "|     43| Avellaneda|         6|2006-02-15 09:45:25|\n",
      "+-------+-----------+----------+-------------------+\n",
      "only showing top 10 rows\n",
      "\n"
     ]
    }
   ],
   "source": [
    "#sample\n",
    "df_city.sample(0.3).show(10)"
   ]
  },
  {
   "cell_type": "code",
   "execution_count": 91,
   "id": "b0ba1ae2-1103-49ca-88e4-2441651a25f1",
   "metadata": {},
   "outputs": [
    {
     "data": {
      "text/plain": [
       "False"
      ]
     },
     "execution_count": 91,
     "metadata": {},
     "output_type": "execute_result"
    }
   ],
   "source": [
    "#empty\n",
    "df_city.isEmpty()"
   ]
  },
  {
   "cell_type": "markdown",
   "id": "a2b389c0-a3a6-4712-b63d-580df5c1eebc",
   "metadata": {},
   "source": [
    "## MANIPULAR DF"
   ]
  },
  {
   "cell_type": "code",
   "execution_count": 93,
   "id": "c6eca2b1-0438-4a4b-a07e-b87cf34a8002",
   "metadata": {},
   "outputs": [
    {
     "name": "stdout",
     "output_type": "stream",
     "text": [
      "+-----------+\n",
      "|city       |\n",
      "+-----------+\n",
      "|Abha       |\n",
      "|Abu Dhabi  |\n",
      "|Acua       |\n",
      "|Adana      |\n",
      "|Addis Abeba|\n",
      "+-----------+\n",
      "only showing top 5 rows\n",
      "\n"
     ]
    }
   ],
   "source": [
    "#select\n",
    "df_city.select('city').show(5,truncate=False)"
   ]
  },
  {
   "cell_type": "code",
   "execution_count": 103,
   "id": "6cfaf1fb-e056-4e3c-862b-fc4219f4b109",
   "metadata": {},
   "outputs": [],
   "source": [
    "df_t = df_city.select('city')"
   ]
  },
  {
   "cell_type": "code",
   "execution_count": 104,
   "id": "5cd8e5ef-68ab-4936-94d3-235c7cd28fe9",
   "metadata": {},
   "outputs": [
    {
     "data": {
      "text/plain": [
       "pyspark.sql.dataframe.DataFrame"
      ]
     },
     "execution_count": 104,
     "metadata": {},
     "output_type": "execute_result"
    }
   ],
   "source": [
    "type(df_t)"
   ]
  },
  {
   "cell_type": "code",
   "execution_count": 112,
   "id": "71013f25-eb55-4c1a-82cb-5a7dfd72c63d",
   "metadata": {},
   "outputs": [
    {
     "name": "stdout",
     "output_type": "stream",
     "text": [
      "+-------+---------------+----------+--------------------------+\n",
      "|city_id|city           |country_id|last_update               |\n",
      "+-------+---------------+----------+--------------------------+\n",
      "|640    |teste          |15        |2023-02-20 10:42:12.310664|\n",
      "|639    |teste          |15        |2023-02-18 12:21:40.483955|\n",
      "|641    |teste          |15        |2023-02-20 11:09:32.443622|\n",
      "|438    |s-Hertogenbosch|67        |2006-02-15 09:45:25       |\n",
      "|385    |ostka          |100       |2006-02-15 09:45:25       |\n",
      "+-------+---------------+----------+--------------------------+\n",
      "only showing top 5 rows\n",
      "\n"
     ]
    }
   ],
   "source": [
    "#order\n",
    "df_city.orderBy('city',ascending=False).show(5,truncate=False)"
   ]
  },
  {
   "cell_type": "code",
   "execution_count": 113,
   "id": "2cd70ee3-6e1e-4335-9c31-ea9f8a48701e",
   "metadata": {},
   "outputs": [
    {
     "name": "stdout",
     "output_type": "stream",
     "text": [
      "+-------+------------------------+----------+--------------------------+\n",
      "|city_id|city                    |country_id|last_update               |\n",
      "+-------+------------------------+----------+--------------------------+\n",
      "|1      |A Corua (La Corua) TESTE|87        |2023-03-08 13:55:56.748697|\n",
      "|656    |ARACAJU                 |11        |2023-06-07 21:15:45.006767|\n",
      "|2      |Abha                    |82        |2006-02-15 09:45:25       |\n",
      "|3      |Abu Dhabi               |101       |2006-02-15 09:45:25       |\n",
      "|4      |Acua                    |60        |2006-02-15 09:45:25       |\n",
      "+-------+------------------------+----------+--------------------------+\n",
      "only showing top 5 rows\n",
      "\n"
     ]
    }
   ],
   "source": [
    "from pyspark.sql.functions import desc,asc\n",
    "df_city.orderBy(df_city.city.asc()).show(5,truncate=False)"
   ]
  },
  {
   "cell_type": "code",
   "execution_count": 114,
   "id": "742b2f73-bbde-44e4-8f5d-a64ad5a0512a",
   "metadata": {},
   "outputs": [
    {
     "name": "stdout",
     "output_type": "stream",
     "text": [
      "+-------+---------------+----------+--------------------------+\n",
      "|city_id|city           |country_id|last_update               |\n",
      "+-------+---------------+----------+--------------------------+\n",
      "|640    |teste          |15        |2023-02-20 10:42:12.310664|\n",
      "|639    |teste          |15        |2023-02-18 12:21:40.483955|\n",
      "|641    |teste          |15        |2023-02-20 11:09:32.443622|\n",
      "|438    |s-Hertogenbosch|67        |2006-02-15 09:45:25       |\n",
      "|385    |ostka          |100       |2006-02-15 09:45:25       |\n",
      "+-------+---------------+----------+--------------------------+\n",
      "only showing top 5 rows\n",
      "\n"
     ]
    }
   ],
   "source": [
    "df_city.orderBy(df_city.city.desc()).show(5,truncate=False)"
   ]
  },
  {
   "cell_type": "code",
   "execution_count": 118,
   "id": "c304855a-c5c3-4100-9b2f-a6c4ac5e6cd1",
   "metadata": {},
   "outputs": [
    {
     "name": "stdout",
     "output_type": "stream",
     "text": [
      "+-------+----+----------+-------------------+\n",
      "|city_id|city|country_id|        last_update|\n",
      "+-------+----+----------+-------------------+\n",
      "|      2|Abha|        82|2006-02-15 09:45:25|\n",
      "+-------+----+----------+-------------------+\n",
      "\n"
     ]
    }
   ],
   "source": [
    "#filter where\n",
    "df_city.filter(df_city.city_id == 2).show()"
   ]
  },
  {
   "cell_type": "code",
   "execution_count": 119,
   "id": "c4ded8e4-0a1d-4045-96d2-a64060f54b5a",
   "metadata": {},
   "outputs": [
    {
     "name": "stdout",
     "output_type": "stream",
     "text": [
      "+-------+----+----------+-------------------+\n",
      "|city_id|city|country_id|        last_update|\n",
      "+-------+----+----------+-------------------+\n",
      "|      2|Abha|        82|2006-02-15 09:45:25|\n",
      "+-------+----+----------+-------------------+\n",
      "\n"
     ]
    }
   ],
   "source": [
    "df_city.where(df_city.city_id == 2).show()"
   ]
  },
  {
   "cell_type": "code",
   "execution_count": 123,
   "id": "c1c84453-3f12-493f-96bc-79d3199b9985",
   "metadata": {},
   "outputs": [
    {
     "name": "stdout",
     "output_type": "stream",
     "text": [
      "+-------+--------------------+----------+-------------------+\n",
      "|city_id|                city|country_id|        last_update|\n",
      "+-------+--------------------+----------+-------------------+\n",
      "|      2|                Abha|        82|2006-02-15 09:45:25|\n",
      "|      3|           Abu Dhabi|       101|2006-02-15 09:45:25|\n",
      "|      4|                Acua|        60|2006-02-15 09:45:25|\n",
      "|      5|               Adana|        97|2006-02-15 09:45:25|\n",
      "|      6|         Addis Abeba|        31|2006-02-15 09:45:25|\n",
      "|      7|                Aden|       107|2006-02-15 09:45:25|\n",
      "|      8|               Adoni|        44|2006-02-15 09:45:25|\n",
      "|      9|          Ahmadnagar|        44|2006-02-15 09:45:25|\n",
      "|     10|            Akishima|        50|2006-02-15 09:45:25|\n",
      "|     11|               Akron|       103|2006-02-15 09:45:25|\n",
      "|     12|              al-Ayn|       101|2006-02-15 09:45:25|\n",
      "|     13|           al-Hawiya|        82|2006-02-15 09:45:25|\n",
      "|     14|           al-Manama|        11|2006-02-15 09:45:25|\n",
      "|     15|          al-Qadarif|        89|2006-02-15 09:45:25|\n",
      "|     16|            al-Qatif|        82|2006-02-15 09:45:25|\n",
      "|     17|         Alessandria|        49|2006-02-15 09:45:25|\n",
      "|     18|Allappuzha (Allep...|        44|2006-02-15 09:45:25|\n",
      "|     19|             Allende|        60|2006-02-15 09:45:25|\n",
      "|     20|     Almirante Brown|         6|2006-02-15 09:45:25|\n",
      "|     21|            Alvorada|        15|2006-02-15 09:45:25|\n",
      "+-------+--------------------+----------+-------------------+\n",
      "only showing top 20 rows\n",
      "\n"
     ]
    }
   ],
   "source": [
    "## na drop fill replace\n",
    "df_city.na.fill('').show()"
   ]
  },
  {
   "cell_type": "code",
   "execution_count": 132,
   "id": "267d1401-04f8-44f3-aefe-52ff12d23d21",
   "metadata": {},
   "outputs": [
    {
     "data": {
      "text/plain": [
       "111"
      ]
     },
     "execution_count": 132,
     "metadata": {},
     "output_type": "execute_result"
    }
   ],
   "source": [
    "#distinct\n",
    "df_city.select('country_id').distinct().count()"
   ]
  },
  {
   "cell_type": "code",
   "execution_count": 133,
   "id": "e813d816-e821-45c4-832e-6f1425f10765",
   "metadata": {},
   "outputs": [
    {
     "data": {
      "text/plain": [
       "Row(city_id=2, city='Abha', country_id=82, last_update=datetime.datetime(2006, 2, 15, 9, 45, 25))"
      ]
     },
     "execution_count": 133,
     "metadata": {},
     "output_type": "execute_result"
    }
   ],
   "source": [
    "#firts\n",
    "df_city.first()"
   ]
  },
  {
   "cell_type": "code",
   "execution_count": 138,
   "id": "7bab7250-8715-4237-ae8f-f84d5f47b750",
   "metadata": {},
   "outputs": [
    {
     "data": {
      "text/plain": [
       "[Row(city_id=2, city='Abha', country_id=82, last_update=datetime.datetime(2006, 2, 15, 9, 45, 25)),\n",
       " Row(city_id=3, city='Abu Dhabi', country_id=101, last_update=datetime.datetime(2006, 2, 15, 9, 45, 25)),\n",
       " Row(city_id=4, city='Acua', country_id=60, last_update=datetime.datetime(2006, 2, 15, 9, 45, 25))]"
      ]
     },
     "execution_count": 138,
     "metadata": {},
     "output_type": "execute_result"
    }
   ],
   "source": [
    "#head\n",
    "df_city.head(3)"
   ]
  },
  {
   "cell_type": "code",
   "execution_count": 136,
   "id": "cff0c954-4a18-4cd1-b280-3e9ebe5802ed",
   "metadata": {},
   "outputs": [
    {
     "name": "stdout",
     "output_type": "stream",
     "text": [
      "+-------+---------+----------+-------------------+\n",
      "|city_id|     city|country_id|        last_update|\n",
      "+-------+---------+----------+-------------------+\n",
      "|      2|     Abha|        82|2006-02-15 09:45:25|\n",
      "|      3|Abu Dhabi|       101|2006-02-15 09:45:25|\n",
      "+-------+---------+----------+-------------------+\n",
      "\n"
     ]
    }
   ],
   "source": [
    "#limit\n",
    "df_city.limit(2).show()"
   ]
  },
  {
   "cell_type": "code",
   "execution_count": 141,
   "id": "72f813eb-bd9f-4368-bfd8-5cc8bed95616",
   "metadata": {},
   "outputs": [
    {
     "data": {
      "text/plain": [
       "[Row(city_id=653, city='New York', country_id=11, last_update=datetime.datetime(2023, 3, 8, 20, 28, 33, 380279)),\n",
       " Row(city_id=655, city='CAMPINAS', country_id=11, last_update=datetime.datetime(2023, 5, 16, 21, 45, 31, 996979)),\n",
       " Row(city_id=656, city='ARACAJU', country_id=11, last_update=datetime.datetime(2023, 6, 7, 21, 15, 45, 6767))]"
      ]
     },
     "execution_count": 141,
     "metadata": {},
     "output_type": "execute_result"
    }
   ],
   "source": [
    "#tail\n",
    "df_city.tail(3)"
   ]
  },
  {
   "cell_type": "code",
   "execution_count": 142,
   "id": "c61afe54-4c17-4e66-b088-ee3e23c62133",
   "metadata": {},
   "outputs": [
    {
     "data": {
      "text/plain": [
       "[Row(city_id=2, city='Abha', country_id=82, last_update=datetime.datetime(2006, 2, 15, 9, 45, 25)),\n",
       " Row(city_id=3, city='Abu Dhabi', country_id=101, last_update=datetime.datetime(2006, 2, 15, 9, 45, 25)),\n",
       " Row(city_id=4, city='Acua', country_id=60, last_update=datetime.datetime(2006, 2, 15, 9, 45, 25))]"
      ]
     },
     "execution_count": 142,
     "metadata": {},
     "output_type": "execute_result"
    }
   ],
   "source": [
    "#take\n",
    "df_city.take(3)"
   ]
  },
  {
   "cell_type": "code",
   "execution_count": null,
   "id": "91a876f2-1a3c-4d1d-ae8c-3790ed46d4bb",
   "metadata": {},
   "outputs": [],
   "source": [
    "##CUIDADOOO\n",
    "df_city.collect()"
   ]
  },
  {
   "cell_type": "code",
   "execution_count": 144,
   "id": "16fa3fed-b023-4638-8016-750bf84f1220",
   "metadata": {},
   "outputs": [
    {
     "name": "stdout",
     "output_type": "stream",
     "text": [
      "+----------+-----+\n",
      "|country_id|count|\n",
      "+----------+-----+\n",
      "|        31|    1|\n",
      "|        85|   11|\n",
      "|        65|    1|\n",
      "|        53|    1|\n",
      "|        78|    2|\n",
      "|       108|    2|\n",
      "|        34|    4|\n",
      "|       101|    3|\n",
      "|        81|    1|\n",
      "|        28|    3|\n",
      "|        76|    8|\n",
      "|        27|    3|\n",
      "|        26|    1|\n",
      "|        44|   60|\n",
      "|       103|   35|\n",
      "|        12|    3|\n",
      "|        91|    3|\n",
      "|        22|    3|\n",
      "|        93|    3|\n",
      "|       111|   14|\n",
      "+----------+-----+\n",
      "only showing top 20 rows\n",
      "\n"
     ]
    }
   ],
   "source": [
    "## groupby\n",
    "df_city.groupby('country_id').count().show()"
   ]
  },
  {
   "cell_type": "code",
   "execution_count": 154,
   "id": "165c850d-a00c-4ed1-a027-6fbdeeb29d2b",
   "metadata": {},
   "outputs": [
    {
     "name": "stdout",
     "output_type": "stream",
     "text": [
      "+----------+-----------+\n",
      "|country_id|count(city)|\n",
      "+----------+-----------+\n",
      "|        31|          1|\n",
      "|        85|         11|\n",
      "|        65|          1|\n",
      "|        53|          1|\n",
      "|        78|          2|\n",
      "|       108|          2|\n",
      "|        34|          4|\n",
      "|       101|          3|\n",
      "|        81|          1|\n",
      "|        28|          3|\n",
      "|        76|          8|\n",
      "|        27|          3|\n",
      "|        26|          1|\n",
      "|        44|         60|\n",
      "|       103|         35|\n",
      "|        12|          3|\n",
      "|        91|          3|\n",
      "|        22|          3|\n",
      "|        93|          3|\n",
      "|       111|         14|\n",
      "+----------+-----------+\n",
      "only showing top 20 rows\n",
      "\n"
     ]
    }
   ],
   "source": [
    "##agg\n",
    "df_city \\\n",
    "    .groupby('country_id') \\\n",
    "    .agg({\"city\":\"count\"}) \\\n",
    "    .show()"
   ]
  },
  {
   "cell_type": "code",
   "execution_count": 162,
   "id": "0d956ee2-51e3-4c7f-8876-3838c19e5578",
   "metadata": {},
   "outputs": [
    {
     "name": "stdout",
     "output_type": "stream",
     "text": [
      "+-------+----------------+----------+-------------------+----------+------------+-------------------+\n",
      "|city_id|            city|country_id|        last_update|country_id|     country|        last_update|\n",
      "+-------+----------------+----------+-------------------+----------+------------+-------------------+\n",
      "|      6|     Addis Abeba|        31|2006-02-15 09:45:25|        31|    Ethiopia|2006-02-15 09:44:00|\n",
      "|    497|         Springs|        85|2006-02-15 09:45:25|        85|South Africa|2006-02-15 09:44:00|\n",
      "|    491|      Soshanguve|        85|2006-02-15 09:45:25|        85|South Africa|2006-02-15 09:44:00|\n",
      "|    437|      Rustenburg|        85|2006-02-15 09:45:25|        85|South Africa|2006-02-15 09:44:00|\n",
      "|    392|           Paarl|        85|2006-02-15 09:45:25|        85|South Africa|2006-02-15 09:44:00|\n",
      "|    364|       Newcastle|        85|2006-02-15 09:45:25|        85|South Africa|2006-02-15 09:44:00|\n",
      "|    273|      Klerksdorp|        85|2006-02-15 09:45:25|        85|South Africa|2006-02-15 09:44:00|\n",
      "|    267|       Kimberley|        85|2006-02-15 09:45:25|        85|South Africa|2006-02-15 09:44:00|\n",
      "|    244|    Johannesburg|        85|2006-02-15 09:45:25|        85|South Africa|2006-02-15 09:44:00|\n",
      "|    112|      Chatsworth|        85|2006-02-15 09:45:25|        85|South Africa|2006-02-15 09:44:00|\n",
      "|     87|      Botshabelo|        85|2006-02-15 09:45:25|        85|South Africa|2006-02-15 09:44:00|\n",
      "|     85|        Boksburg|        85|2006-02-15 09:45:25|        85|South Africa|2006-02-15 09:44:00|\n",
      "|    583|          Yangor|        65|2006-02-15 09:45:25|        65|       Nauru|2006-02-15 09:44:00|\n",
      "|    233|Jalib al-Shuyukh|        53|2006-02-15 09:45:25|        53|      Kuwait|2006-02-15 09:44:00|\n",
      "|     95|       Bucuresti|        78|2006-02-15 09:45:25|        78|     Romania|2006-02-15 09:44:00|\n",
      "|     86|        Botosani|        78|2006-02-15 09:45:25|        78|     Romania|2006-02-15 09:44:00|\n",
      "|    368|        Novi Sad|       108|2006-02-15 09:45:25|       108|  Yugoslavia|2006-02-15 09:44:00|\n",
      "|    280|      Kragujevac|       108|2006-02-15 09:45:25|       108|  Yugoslavia|2006-02-15 09:44:00|\n",
      "|    544|        Toulouse|        34|2006-02-15 09:45:25|        34|      France|2006-02-15 09:44:00|\n",
      "|    543|          Toulon|        34|2006-02-15 09:45:25|        34|      France|2006-02-15 09:44:00|\n",
      "+-------+----------------+----------+-------------------+----------+------------+-------------------+\n",
      "only showing top 20 rows\n",
      "\n"
     ]
    }
   ],
   "source": [
    "#join \n",
    "df_city \\\n",
    "    .join(df_country,df_city.country_id == df_country.country_id,'inner') \\\n",
    "    .show()"
   ]
  },
  {
   "cell_type": "code",
   "execution_count": 167,
   "id": "e69cdb08-f544-40d4-8430-1e9859fe8194",
   "metadata": {},
   "outputs": [
    {
     "name": "stdout",
     "output_type": "stream",
     "text": [
      "+----------+\n",
      "|country_id|\n",
      "+----------+\n",
      "|        82|\n",
      "|       101|\n",
      "|        60|\n",
      "|        97|\n",
      "|        31|\n",
      "+----------+\n",
      "only showing top 5 rows\n",
      "\n"
     ]
    }
   ],
   "source": [
    "#union\n",
    "df_city \\\n",
    "    .select('country_id') \\\n",
    "    .union(df_country.select('country_id')) \\\n",
    "    .show(5)"
   ]
  },
  {
   "cell_type": "code",
   "execution_count": 169,
   "id": "3a16562c-011a-4583-ba20-918322c5213a",
   "metadata": {},
   "outputs": [],
   "source": [
    "#to\n",
    "j = df_city.toJSON()\n",
    "j.take(2)"
   ]
  },
  {
   "cell_type": "code",
   "execution_count": 177,
   "id": "2ffff939-6adc-454a-8ec0-ce6c54721402",
   "metadata": {},
   "outputs": [
    {
     "name": "stderr",
     "output_type": "stream",
     "text": [
      "/usr/local/spark/python/pyspark/sql/pandas/conversion.py:248: FutureWarning: Passing unit-less datetime64 dtype to .astype is deprecated and will raise in a future version. Pass 'datetime64[ns]' instead\n",
      "  series = series.astype(t, copy=False)\n"
     ]
    },
    {
     "data": {
      "text/html": [
       "<div>\n",
       "<style scoped>\n",
       "    .dataframe tbody tr th:only-of-type {\n",
       "        vertical-align: middle;\n",
       "    }\n",
       "\n",
       "    .dataframe tbody tr th {\n",
       "        vertical-align: top;\n",
       "    }\n",
       "\n",
       "    .dataframe thead th {\n",
       "        text-align: right;\n",
       "    }\n",
       "</style>\n",
       "<table border=\"1\" class=\"dataframe\">\n",
       "  <thead>\n",
       "    <tr style=\"text-align: right;\">\n",
       "      <th></th>\n",
       "      <th>city_id</th>\n",
       "      <th>city</th>\n",
       "      <th>country_id</th>\n",
       "      <th>last_update</th>\n",
       "    </tr>\n",
       "  </thead>\n",
       "  <tbody>\n",
       "    <tr>\n",
       "      <th>0</th>\n",
       "      <td>2</td>\n",
       "      <td>Abha</td>\n",
       "      <td>82</td>\n",
       "      <td>2006-02-15 09:45:25.000000</td>\n",
       "    </tr>\n",
       "    <tr>\n",
       "      <th>1</th>\n",
       "      <td>3</td>\n",
       "      <td>Abu Dhabi</td>\n",
       "      <td>101</td>\n",
       "      <td>2006-02-15 09:45:25.000000</td>\n",
       "    </tr>\n",
       "    <tr>\n",
       "      <th>2</th>\n",
       "      <td>4</td>\n",
       "      <td>Acua</td>\n",
       "      <td>60</td>\n",
       "      <td>2006-02-15 09:45:25.000000</td>\n",
       "    </tr>\n",
       "    <tr>\n",
       "      <th>3</th>\n",
       "      <td>5</td>\n",
       "      <td>Adana</td>\n",
       "      <td>97</td>\n",
       "      <td>2006-02-15 09:45:25.000000</td>\n",
       "    </tr>\n",
       "    <tr>\n",
       "      <th>4</th>\n",
       "      <td>6</td>\n",
       "      <td>Addis Abeba</td>\n",
       "      <td>31</td>\n",
       "      <td>2006-02-15 09:45:25.000000</td>\n",
       "    </tr>\n",
       "    <tr>\n",
       "      <th>...</th>\n",
       "      <td>...</td>\n",
       "      <td>...</td>\n",
       "      <td>...</td>\n",
       "      <td>...</td>\n",
       "    </tr>\n",
       "    <tr>\n",
       "      <th>647</th>\n",
       "      <td>651</td>\n",
       "      <td>Araraquara</td>\n",
       "      <td>11</td>\n",
       "      <td>2023-03-08 20:22:42.794627</td>\n",
       "    </tr>\n",
       "    <tr>\n",
       "      <th>648</th>\n",
       "      <td>652</td>\n",
       "      <td>Divinolandia</td>\n",
       "      <td>11</td>\n",
       "      <td>2023-03-08 20:28:30.059665</td>\n",
       "    </tr>\n",
       "    <tr>\n",
       "      <th>649</th>\n",
       "      <td>653</td>\n",
       "      <td>New York</td>\n",
       "      <td>11</td>\n",
       "      <td>2023-03-08 20:28:33.380279</td>\n",
       "    </tr>\n",
       "    <tr>\n",
       "      <th>650</th>\n",
       "      <td>655</td>\n",
       "      <td>CAMPINAS</td>\n",
       "      <td>11</td>\n",
       "      <td>2023-05-16 21:45:31.996979</td>\n",
       "    </tr>\n",
       "    <tr>\n",
       "      <th>651</th>\n",
       "      <td>656</td>\n",
       "      <td>ARACAJU</td>\n",
       "      <td>11</td>\n",
       "      <td>2023-06-07 21:15:45.006767</td>\n",
       "    </tr>\n",
       "  </tbody>\n",
       "</table>\n",
       "<p>652 rows × 4 columns</p>\n",
       "</div>"
      ],
      "text/plain": [
       "     city_id          city  country_id                last_update\n",
       "0          2          Abha          82 2006-02-15 09:45:25.000000\n",
       "1          3     Abu Dhabi         101 2006-02-15 09:45:25.000000\n",
       "2          4          Acua          60 2006-02-15 09:45:25.000000\n",
       "3          5         Adana          97 2006-02-15 09:45:25.000000\n",
       "4          6   Addis Abeba          31 2006-02-15 09:45:25.000000\n",
       "..       ...           ...         ...                        ...\n",
       "647      651    Araraquara          11 2023-03-08 20:22:42.794627\n",
       "648      652  Divinolandia          11 2023-03-08 20:28:30.059665\n",
       "649      653      New York          11 2023-03-08 20:28:33.380279\n",
       "650      655      CAMPINAS          11 2023-05-16 21:45:31.996979\n",
       "651      656       ARACAJU          11 2023-06-07 21:15:45.006767\n",
       "\n",
       "[652 rows x 4 columns]"
      ]
     },
     "execution_count": 177,
     "metadata": {},
     "output_type": "execute_result"
    }
   ],
   "source": [
    "# CUIDADO SE O DF TIVER MUITOS DADOS\n",
    "import pandas\n",
    "p = df_city.toPandas()\n",
    "p"
   ]
  },
  {
   "cell_type": "code",
   "execution_count": 180,
   "id": "16f2bf4d-ffeb-4ab1-8c31-6d872ccbbae3",
   "metadata": {},
   "outputs": [
    {
     "data": {
      "text/plain": [
       "1"
      ]
     },
     "execution_count": 180,
     "metadata": {},
     "output_type": "execute_result"
    }
   ],
   "source": [
    "#get partitions\n",
    "df_city.rdd.getNumPartitions()"
   ]
  },
  {
   "cell_type": "code",
   "execution_count": 181,
   "id": "253d3876-7907-451f-a1cc-e2158764640a",
   "metadata": {},
   "outputs": [],
   "source": [
    "df_city5 = df_city.repartition(5)"
   ]
  },
  {
   "cell_type": "code",
   "execution_count": 182,
   "id": "501f68a9-ef0e-43dd-8fe0-3ffdf6509b67",
   "metadata": {},
   "outputs": [
    {
     "data": {
      "text/plain": [
       "5"
      ]
     },
     "execution_count": 182,
     "metadata": {},
     "output_type": "execute_result"
    }
   ],
   "source": [
    "df_city5.rdd.getNumPartitions()"
   ]
  },
  {
   "cell_type": "code",
   "execution_count": 184,
   "id": "513c831c-0665-45c1-9f9b-74a2fdc7dfa1",
   "metadata": {},
   "outputs": [
    {
     "name": "stdout",
     "output_type": "stream",
     "text": [
      "+-------+-----------+----------+\n",
      "|city_id|       city|country_id|\n",
      "+-------+-----------+----------+\n",
      "|      2|       Abha|        82|\n",
      "|      3|  Abu Dhabi|       101|\n",
      "|      4|       Acua|        60|\n",
      "|      5|      Adana|        97|\n",
      "|      6|Addis Abeba|        31|\n",
      "+-------+-----------+----------+\n",
      "only showing top 5 rows\n",
      "\n"
     ]
    }
   ],
   "source": [
    "#drop column \n",
    "df_city.drop('last_update').show(5)"
   ]
  },
  {
   "cell_type": "code",
   "execution_count": 185,
   "id": "35f9ba5e-926a-487b-845a-e655b9ffce09",
   "metadata": {},
   "outputs": [
    {
     "data": {
      "text/plain": [
       "652"
      ]
     },
     "execution_count": 185,
     "metadata": {},
     "output_type": "execute_result"
    }
   ],
   "source": [
    "df_city.select('country_id').count()"
   ]
  },
  {
   "cell_type": "code",
   "execution_count": 187,
   "id": "901efc68-63d0-4fa0-8d69-090d29c1bb97",
   "metadata": {},
   "outputs": [
    {
     "data": {
      "text/plain": [
       "635"
      ]
     },
     "execution_count": 187,
     "metadata": {},
     "output_type": "execute_result"
    }
   ],
   "source": [
    "#drop dup\n",
    "df_city.select('city','country_id').dropDuplicates().count()"
   ]
  },
  {
   "cell_type": "code",
   "execution_count": 193,
   "id": "e90aa9ff-f13c-45d0-8eaf-d65fb154c19b",
   "metadata": {},
   "outputs": [
    {
     "name": "stdout",
     "output_type": "stream",
     "text": [
      "+-------+--------------------+----------+-------------------+------+----+\n",
      "|city_id|                city|country_id|        last_update|new_id|soma|\n",
      "+-------+--------------------+----------+-------------------+------+----+\n",
      "|      2|                Abha|        82|2006-02-15 09:45:25|     0|   2|\n",
      "|      3|           Abu Dhabi|       101|2006-02-15 09:45:25|     1|   4|\n",
      "|      4|                Acua|        60|2006-02-15 09:45:25|     2|   6|\n",
      "|      5|               Adana|        97|2006-02-15 09:45:25|     3|   8|\n",
      "|      6|         Addis Abeba|        31|2006-02-15 09:45:25|     4|  10|\n",
      "|      7|                Aden|       107|2006-02-15 09:45:25|     5|  12|\n",
      "|      8|               Adoni|        44|2006-02-15 09:45:25|     6|  14|\n",
      "|      9|          Ahmadnagar|        44|2006-02-15 09:45:25|     7|  16|\n",
      "|     10|            Akishima|        50|2006-02-15 09:45:25|     8|  18|\n",
      "|     11|               Akron|       103|2006-02-15 09:45:25|     9|  20|\n",
      "|     12|              al-Ayn|       101|2006-02-15 09:45:25|    10|  22|\n",
      "|     13|           al-Hawiya|        82|2006-02-15 09:45:25|    11|  24|\n",
      "|     14|           al-Manama|        11|2006-02-15 09:45:25|    12|  26|\n",
      "|     15|          al-Qadarif|        89|2006-02-15 09:45:25|    13|  28|\n",
      "|     16|            al-Qatif|        82|2006-02-15 09:45:25|    14|  30|\n",
      "|     17|         Alessandria|        49|2006-02-15 09:45:25|    15|  32|\n",
      "|     18|Allappuzha (Allep...|        44|2006-02-15 09:45:25|    16|  34|\n",
      "|     19|             Allende|        60|2006-02-15 09:45:25|    17|  36|\n",
      "|     20|     Almirante Brown|         6|2006-02-15 09:45:25|    18|  38|\n",
      "|     21|            Alvorada|        15|2006-02-15 09:45:25|    19|  40|\n",
      "+-------+--------------------+----------+-------------------+------+----+\n",
      "only showing top 20 rows\n",
      "\n"
     ]
    }
   ],
   "source": [
    "## criar colunas\n",
    "from pyspark.sql.functions import monotonically_increasing_id\n",
    "df_sum = df_city.withColumn('new_id',monotonically_increasing_id())\n",
    "df_sum.withColumn('soma',df_sum.city_id + df_sum.new_id).show()"
   ]
  },
  {
   "cell_type": "code",
   "execution_count": 195,
   "id": "bdf81415-e41d-4305-a20e-7a0124c4cd3b",
   "metadata": {},
   "outputs": [
    {
     "name": "stdout",
     "output_type": "stream",
     "text": [
      "+-------+--------------------+----------+-------------------+\n",
      "|city_id|                city|country_id|   ultima_alteracao|\n",
      "+-------+--------------------+----------+-------------------+\n",
      "|      2|                Abha|        82|2006-02-15 09:45:25|\n",
      "|      3|           Abu Dhabi|       101|2006-02-15 09:45:25|\n",
      "|      4|                Acua|        60|2006-02-15 09:45:25|\n",
      "|      5|               Adana|        97|2006-02-15 09:45:25|\n",
      "|      6|         Addis Abeba|        31|2006-02-15 09:45:25|\n",
      "|      7|                Aden|       107|2006-02-15 09:45:25|\n",
      "|      8|               Adoni|        44|2006-02-15 09:45:25|\n",
      "|      9|          Ahmadnagar|        44|2006-02-15 09:45:25|\n",
      "|     10|            Akishima|        50|2006-02-15 09:45:25|\n",
      "|     11|               Akron|       103|2006-02-15 09:45:25|\n",
      "|     12|              al-Ayn|       101|2006-02-15 09:45:25|\n",
      "|     13|           al-Hawiya|        82|2006-02-15 09:45:25|\n",
      "|     14|           al-Manama|        11|2006-02-15 09:45:25|\n",
      "|     15|          al-Qadarif|        89|2006-02-15 09:45:25|\n",
      "|     16|            al-Qatif|        82|2006-02-15 09:45:25|\n",
      "|     17|         Alessandria|        49|2006-02-15 09:45:25|\n",
      "|     18|Allappuzha (Allep...|        44|2006-02-15 09:45:25|\n",
      "|     19|             Allende|        60|2006-02-15 09:45:25|\n",
      "|     20|     Almirante Brown|         6|2006-02-15 09:45:25|\n",
      "|     21|            Alvorada|        15|2006-02-15 09:45:25|\n",
      "+-------+--------------------+----------+-------------------+\n",
      "only showing top 20 rows\n",
      "\n"
     ]
    }
   ],
   "source": [
    "#rename column\n",
    "df_city.withColumnRenamed('last_update','ultima_alteracao').show()"
   ]
  },
  {
   "cell_type": "code",
   "execution_count": 196,
   "id": "8ceace7e-4297-4bd1-8781-846cace0de64",
   "metadata": {},
   "outputs": [
    {
     "name": "stdout",
     "output_type": "stream",
     "text": [
      "root\n",
      " |-- id: string (nullable = true)\n",
      " |-- name: string (nullable = true)\n",
      " |-- age: string (nullable = true)\n",
      "\n"
     ]
    }
   ],
   "source": [
    "df_csv.printSchema()"
   ]
  },
  {
   "cell_type": "code",
   "execution_count": 203,
   "id": "991f6375-99ef-4cdc-8273-32ed36b4fc5e",
   "metadata": {},
   "outputs": [
    {
     "name": "stdout",
     "output_type": "stream",
     "text": [
      "root\n",
      " |-- id: integer (nullable = true)\n",
      " |-- name: string (nullable = true)\n",
      " |-- age: string (nullable = true)\n",
      "\n"
     ]
    }
   ],
   "source": [
    "#altera tipos\n",
    "from pyspark.sql.functions import col\n",
    "df_csv.withColumn(\"id\",col(\"id\").cast('integer')).printSchema()"
   ]
  },
  {
   "cell_type": "code",
   "execution_count": 204,
   "id": "2e85bbaf-970f-4f5f-9ac6-d3bf368cf78f",
   "metadata": {},
   "outputs": [
    {
     "name": "stdout",
     "output_type": "stream",
     "text": [
      "root\n",
      " |-- id: string (nullable = true)\n",
      " |-- name: string (nullable = true)\n",
      " |-- age: integer (nullable = true)\n",
      "\n"
     ]
    }
   ],
   "source": [
    "from pyspark.sql.types import IntegerType\n",
    "from pyspark.sql.functions import col\n",
    "df_csv.withColumn(\"age\",col(\"age\").cast(IntegerType())).printSchema()"
   ]
  },
  {
   "cell_type": "code",
   "execution_count": 207,
   "id": "0f936080-9003-4bce-94d5-1a5001b7a3b3",
   "metadata": {},
   "outputs": [],
   "source": [
    "#funcoes\n",
    "def teste(df):\n",
    "    print(df.city)\n",
    "\n",
    "df_city.foreach(teste)"
   ]
  },
  {
   "cell_type": "markdown",
   "id": "508ae098-2bd2-4995-80ed-c11977feb96f",
   "metadata": {},
   "source": [
    "## SQL"
   ]
  },
  {
   "cell_type": "code",
   "execution_count": 208,
   "id": "af1a75fd-5b5a-46f6-9d5f-d3d4f80ea065",
   "metadata": {},
   "outputs": [],
   "source": [
    "#cria view\n",
    "df_city.createOrReplaceTempView('city')"
   ]
  },
  {
   "cell_type": "code",
   "execution_count": 213,
   "id": "9bfcac1d-6b69-4b7b-9391-bddfee58a155",
   "metadata": {},
   "outputs": [
    {
     "name": "stdout",
     "output_type": "stream",
     "text": [
      "+-------+-----------+----------+-------------------+\n",
      "|city_id|       city|country_id|        last_update|\n",
      "+-------+-----------+----------+-------------------+\n",
      "|      2|       Abha|        82|2006-02-15 09:45:25|\n",
      "|      3|  Abu Dhabi|       101|2006-02-15 09:45:25|\n",
      "|      4|       Acua|        60|2006-02-15 09:45:25|\n",
      "|      5|      Adana|        97|2006-02-15 09:45:25|\n",
      "|      6|Addis Abeba|        31|2006-02-15 09:45:25|\n",
      "+-------+-----------+----------+-------------------+\n",
      "\n"
     ]
    }
   ],
   "source": [
    "spark.sql('select * from city limit 5').show()"
   ]
  },
  {
   "cell_type": "code",
   "execution_count": 217,
   "id": "4a38792d-ae26-47c5-bd14-06e1a041bc6b",
   "metadata": {},
   "outputs": [
    {
     "name": "stdout",
     "output_type": "stream",
     "text": [
      "+---------+---------+-----------+\n",
      "|namespace|tableName|isTemporary|\n",
      "+---------+---------+-----------+\n",
      "|  default|    teste|      false|\n",
      "|  default|   teste2|      false|\n",
      "|  default|     city|      false|\n",
      "|  default|   teste3|      false|\n",
      "|         |     city|       true|\n",
      "+---------+---------+-----------+\n",
      "\n"
     ]
    }
   ],
   "source": [
    "spark.sql('show tables from default').show()"
   ]
  },
  {
   "cell_type": "markdown",
   "id": "45b2ea41-3055-4e45-b0a8-397bb748aed8",
   "metadata": {},
   "source": [
    "## TUNNING"
   ]
  },
  {
   "cell_type": "code",
   "execution_count": 218,
   "id": "11168d1d-f6a3-4ea2-a9cb-b2fc3de32a4e",
   "metadata": {},
   "outputs": [],
   "source": [
    "# 3.2 +\n",
    "spark.conf.set('spark.sql.adaptive.enabled','true')"
   ]
  },
  {
   "cell_type": "code",
   "execution_count": 219,
   "id": "c8d5cf88-cc60-4756-baf4-4a1cd008208b",
   "metadata": {},
   "outputs": [
    {
     "data": {
      "text/plain": [
       "DataFrame[city_id: int, city: string, country_id: smallint, last_update: timestamp]"
      ]
     },
     "execution_count": 219,
     "metadata": {},
     "output_type": "execute_result"
    }
   ],
   "source": [
    "## CACHE\n",
    "df_city.cache()"
   ]
  },
  {
   "cell_type": "code",
   "execution_count": 222,
   "id": "4d7abba9-a34e-4e9d-bb7b-6459827fbb23",
   "metadata": {},
   "outputs": [
    {
     "name": "stdout",
     "output_type": "stream",
     "text": [
      "+-------+--------------------+----------+-------------------+\n",
      "|city_id|                city|country_id|        last_update|\n",
      "+-------+--------------------+----------+-------------------+\n",
      "|      2|                Abha|        82|2006-02-15 09:45:25|\n",
      "|      3|           Abu Dhabi|       101|2006-02-15 09:45:25|\n",
      "|      4|                Acua|        60|2006-02-15 09:45:25|\n",
      "|      5|               Adana|        97|2006-02-15 09:45:25|\n",
      "|      6|         Addis Abeba|        31|2006-02-15 09:45:25|\n",
      "|      7|                Aden|       107|2006-02-15 09:45:25|\n",
      "|      8|               Adoni|        44|2006-02-15 09:45:25|\n",
      "|      9|          Ahmadnagar|        44|2006-02-15 09:45:25|\n",
      "|     10|            Akishima|        50|2006-02-15 09:45:25|\n",
      "|     11|               Akron|       103|2006-02-15 09:45:25|\n",
      "|     12|              al-Ayn|       101|2006-02-15 09:45:25|\n",
      "|     13|           al-Hawiya|        82|2006-02-15 09:45:25|\n",
      "|     14|           al-Manama|        11|2006-02-15 09:45:25|\n",
      "|     15|          al-Qadarif|        89|2006-02-15 09:45:25|\n",
      "|     16|            al-Qatif|        82|2006-02-15 09:45:25|\n",
      "|     17|         Alessandria|        49|2006-02-15 09:45:25|\n",
      "|     18|Allappuzha (Allep...|        44|2006-02-15 09:45:25|\n",
      "|     19|             Allende|        60|2006-02-15 09:45:25|\n",
      "|     20|     Almirante Brown|         6|2006-02-15 09:45:25|\n",
      "|     21|            Alvorada|        15|2006-02-15 09:45:25|\n",
      "+-------+--------------------+----------+-------------------+\n",
      "only showing top 20 rows\n",
      "\n"
     ]
    }
   ],
   "source": [
    "df_city.show()"
   ]
  },
  {
   "cell_type": "code",
   "execution_count": 223,
   "id": "fc1a33bc-69cf-41fa-b071-c4ff29589189",
   "metadata": {},
   "outputs": [
    {
     "data": {
      "text/plain": [
       "DataFrame[city_id: int, city: string, country_id: smallint, last_update: timestamp]"
      ]
     },
     "execution_count": 223,
     "metadata": {},
     "output_type": "execute_result"
    }
   ],
   "source": [
    "#persist\n",
    "df_city.persist()"
   ]
  },
  {
   "cell_type": "code",
   "execution_count": 224,
   "id": "d55614df-5166-42d3-b594-9ed524f6457a",
   "metadata": {},
   "outputs": [
    {
     "data": {
      "text/plain": [
       "DataFrame[city_id: int, city: string, country_id: smallint, last_update: timestamp]"
      ]
     },
     "execution_count": 224,
     "metadata": {},
     "output_type": "execute_result"
    }
   ],
   "source": [
    "df_city.unpersist()"
   ]
  },
  {
   "cell_type": "code",
   "execution_count": 231,
   "id": "2f29dd18-dbb3-45d9-a5f5-0e2dc49319cc",
   "metadata": {},
   "outputs": [
    {
     "name": "stdout",
     "output_type": "stream",
     "text": [
      "== Physical Plan ==\n",
      "AdaptiveSparkPlan isFinalPlan=false\n",
      "+- Exchange RoundRobinPartitioning(5), REPARTITION_BY_NUM, [plan_id=3539]\n",
      "   +- Scan JDBCRelation(public.city) [numPartitions=1] [city_id#517,city#518,country_id#519,last_update#520] PushedFilters: [], ReadSchema: struct<city_id:int,city:string,country_id:smallint,last_update:timestamp>\n",
      "\n",
      "\n"
     ]
    }
   ],
   "source": [
    "#HINT\n",
    "spark.sql('select /*+ REPARTITION(5) */ * from city').explain()"
   ]
  },
  {
   "cell_type": "code",
   "execution_count": 232,
   "id": "8c1cc141-490d-4efd-b067-e3c0de82bdf0",
   "metadata": {},
   "outputs": [],
   "source": [
    "# VARIAVEL BROADCAST\n",
    "var = 'teste'\n",
    "broadcastvar = spark.sparkContext.broadcast(var)"
   ]
  },
  {
   "cell_type": "markdown",
   "id": "5a863298-737d-4d0b-b00a-1486de1c010d",
   "metadata": {},
   "source": [
    "## SALVAR DADOS"
   ]
  },
  {
   "cell_type": "code",
   "execution_count": 235,
   "id": "3e79efc8-c03a-443e-934c-e167f20562a8",
   "metadata": {},
   "outputs": [],
   "source": [
    "#HADOOP\n",
    "df_city.write.csv('hdfs:///aula/process/csv',header=True,sep=';',mode='overwrite')"
   ]
  },
  {
   "cell_type": "code",
   "execution_count": 240,
   "id": "def368f6-c45a-4c38-9405-45b29dcd75c3",
   "metadata": {},
   "outputs": [],
   "source": [
    "df_city.repartition(1).write.json('hdfs:///aula/process/json',mode='overwrite')"
   ]
  },
  {
   "cell_type": "code",
   "execution_count": 238,
   "id": "dafc7c49-e3a1-4f96-8545-0081f4f84602",
   "metadata": {},
   "outputs": [],
   "source": [
    "df_city.write.parquet('hdfs:///aula/process/parquet')"
   ]
  },
  {
   "cell_type": "code",
   "execution_count": 239,
   "id": "eaf5d6a2-a6ab-4572-8ed6-42acc1ad3794",
   "metadata": {},
   "outputs": [],
   "source": [
    "df_city.write.orc('hdfs:///aula/process/orc')"
   ]
  },
  {
   "cell_type": "code",
   "execution_count": 241,
   "id": "87e7a416-7164-47df-ad86-b3eb66f91035",
   "metadata": {},
   "outputs": [],
   "source": [
    "#S3\n",
    "df_city.write.parquet('s3a://camada-prata/parquet')"
   ]
  },
  {
   "cell_type": "code",
   "execution_count": 244,
   "id": "4eeb3d83-49a3-4564-9318-0ba9c747d7c9",
   "metadata": {},
   "outputs": [],
   "source": [
    "df_city.write.parquet('s3a://camada-prata/parquet',mode='append')"
   ]
  },
  {
   "cell_type": "markdown",
   "id": "601cdbce-fcc5-46af-ae22-fe611da69862",
   "metadata": {},
   "source": [
    "## LER ARQUIVO COM SQL"
   ]
  },
  {
   "cell_type": "code",
   "execution_count": 243,
   "id": "77f37f30-51bf-4dea-bed9-2390d1d964b1",
   "metadata": {},
   "outputs": [
    {
     "name": "stdout",
     "output_type": "stream",
     "text": [
      "+-------+--------------------+----------+-------------------+\n",
      "|city_id|                city|country_id|        last_update|\n",
      "+-------+--------------------+----------+-------------------+\n",
      "|      2|                Abha|        82|2006-02-15 09:45:25|\n",
      "|      3|           Abu Dhabi|       101|2006-02-15 09:45:25|\n",
      "|      4|                Acua|        60|2006-02-15 09:45:25|\n",
      "|      5|               Adana|        97|2006-02-15 09:45:25|\n",
      "|      6|         Addis Abeba|        31|2006-02-15 09:45:25|\n",
      "|      7|                Aden|       107|2006-02-15 09:45:25|\n",
      "|      8|               Adoni|        44|2006-02-15 09:45:25|\n",
      "|      9|          Ahmadnagar|        44|2006-02-15 09:45:25|\n",
      "|     10|            Akishima|        50|2006-02-15 09:45:25|\n",
      "|     11|               Akron|       103|2006-02-15 09:45:25|\n",
      "|     12|              al-Ayn|       101|2006-02-15 09:45:25|\n",
      "|     13|           al-Hawiya|        82|2006-02-15 09:45:25|\n",
      "|     14|           al-Manama|        11|2006-02-15 09:45:25|\n",
      "|     15|          al-Qadarif|        89|2006-02-15 09:45:25|\n",
      "|     16|            al-Qatif|        82|2006-02-15 09:45:25|\n",
      "|     17|         Alessandria|        49|2006-02-15 09:45:25|\n",
      "|     18|Allappuzha (Allep...|        44|2006-02-15 09:45:25|\n",
      "|     19|             Allende|        60|2006-02-15 09:45:25|\n",
      "|     20|     Almirante Brown|         6|2006-02-15 09:45:25|\n",
      "|     21|            Alvorada|        15|2006-02-15 09:45:25|\n",
      "+-------+--------------------+----------+-------------------+\n",
      "only showing top 20 rows\n",
      "\n"
     ]
    }
   ],
   "source": [
    "spark.sql('select * from parquet.`s3a://camada-prata/parquet`').show()"
   ]
  },
  {
   "cell_type": "markdown",
   "id": "2585032b-e890-49e8-860a-9a5fafe35326",
   "metadata": {},
   "source": [
    "## SALVAR EM DB"
   ]
  },
  {
   "cell_type": "code",
   "execution_count": 247,
   "id": "a5de2d85-b2b5-4d61-b46f-9145724187db",
   "metadata": {},
   "outputs": [],
   "source": [
    "df_city.write \\\n",
    "    .jdbc(url=ulr,table='public.aula',properties=properties,mode='append')"
   ]
  },
  {
   "cell_type": "markdown",
   "id": "b79aca5c-fdb5-4bef-af02-819d5f8d57be",
   "metadata": {},
   "source": [
    "## SALVAR NO HIVE"
   ]
  },
  {
   "cell_type": "code",
   "execution_count": 249,
   "id": "4fbfb30f-755a-4253-966c-59f8f3ae880c",
   "metadata": {},
   "outputs": [],
   "source": [
    "df_city.write.format('hive').saveAsTable('default.city_aula')"
   ]
  },
  {
   "cell_type": "code",
   "execution_count": 251,
   "id": "db0e4cdb-c1ce-49de-90f3-a750ebe1fbfe",
   "metadata": {},
   "outputs": [],
   "source": [
    "df_city.write.format('hive').insertInto('default.city_aula2')"
   ]
  },
  {
   "cell_type": "markdown",
   "id": "da0dc280-7453-4901-b2c0-3c17468ce9c0",
   "metadata": {},
   "source": [
    "## PARTICIONADO"
   ]
  },
  {
   "cell_type": "code",
   "execution_count": 254,
   "id": "7d4a43c0-a920-469b-ae4c-7f5726f3f164",
   "metadata": {},
   "outputs": [],
   "source": [
    "df_city.write.partitionBy('country_id').format('parquet').mode('append').save('/aula/process/partition')"
   ]
  },
  {
   "cell_type": "markdown",
   "id": "317f9911-d8d7-4854-acec-24db4d215fd6",
   "metadata": {},
   "source": [
    "## DELTA LAKE - LAKEHOUSE"
   ]
  },
  {
   "cell_type": "code",
   "execution_count": 1,
   "id": "5563c377-8111-41ad-a848-558bcb8ad026",
   "metadata": {},
   "outputs": [],
   "source": [
    "from delta import *\n",
    "import pyspark\n",
    "import json\n",
    "import requests"
   ]
  },
  {
   "cell_type": "code",
   "execution_count": 2,
   "id": "c45574ba-53e8-4fdd-a86b-62480b9a64b6",
   "metadata": {},
   "outputs": [],
   "source": [
    "spark = pyspark.sql.SparkSession.builder.appName('Delta') \\\n",
    "    .config(\"spark.sql.extensions\", \"io.delta.sql.DeltaSparkSessionExtension\") \\\n",
    "    .config(\"spark.sql.catalog.spark_catalog\", \"org.apache.spark.sql.delta.catalog.DeltaCatalog\") \\\n",
    "    .enableHiveSupport().getOrCreate()"
   ]
  },
  {
   "cell_type": "code",
   "execution_count": 3,
   "id": "ccc94832-0244-4960-8bda-f4fa037ca27d",
   "metadata": {},
   "outputs": [],
   "source": [
    "def loadData (qtde):\n",
    "    list = []\n",
    "    for x in range (qtde):\n",
    "        print(x)\n",
    "        r = requests.get('https://random-data-api.com/api/v2/users')\n",
    "        list.append(r.json())\n",
    "        req = spark.read.json(spark.sparkContext.parallelize(list))\n",
    "        req = req.select( \\\n",
    "         'email' \\\n",
    "        ,'first_name' \\\n",
    "        ,'last_name' \\\n",
    "        ,'gender' \\\n",
    "        ,'id' \\\n",
    "        ,'username' \\\n",
    "                 )\n",
    "    return req"
   ]
  },
  {
   "cell_type": "code",
   "execution_count": 4,
   "id": "909a2eaf-f156-4bfc-8034-7dfbe2e87837",
   "metadata": {},
   "outputs": [
    {
     "name": "stdout",
     "output_type": "stream",
     "text": [
      "0\n",
      "1\n",
      "2\n",
      "3\n",
      "4\n"
     ]
    }
   ],
   "source": [
    "df = loadData(5)"
   ]
  },
  {
   "cell_type": "code",
   "execution_count": 6,
   "id": "104b9290-918c-413f-a529-9dfd5d9286ed",
   "metadata": {},
   "outputs": [
    {
     "name": "stdout",
     "output_type": "stream",
     "text": [
      "+-----------------------+----------+---------+-----------+----+-------------+\n",
      "|email                  |first_name|last_name|gender     |id  |username     |\n",
      "+-----------------------+----------+---------+-----------+----+-------------+\n",
      "|josef.beier@email.com  |Josef     |Beier    |Non-binary |2359|josef.beier  |\n",
      "|donte.zulauf@email.com |Donte     |Zulauf   |Male       |6916|donte.zulauf |\n",
      "|roy.murray@email.com   |Roy       |Murray   |Agender    |8822|roy.murray   |\n",
      "|booker.lehner@email.com|Booker    |Lehner   |Agender    |2954|booker.lehner|\n",
      "|ed.daugherty@email.com |Ed        |Daugherty|Genderqueer|2350|ed.daugherty |\n",
      "+-----------------------+----------+---------+-----------+----+-------------+\n",
      "\n"
     ]
    }
   ],
   "source": [
    "df.show(truncate=False)"
   ]
  },
  {
   "cell_type": "code",
   "execution_count": 7,
   "id": "fc61e7c2-8edc-447d-9c37-3e53edadd225",
   "metadata": {},
   "outputs": [],
   "source": [
    "path = '/aula/process/user'"
   ]
  },
  {
   "cell_type": "code",
   "execution_count": 8,
   "id": "82336dfc-f296-4b14-8d73-91368a5d7f93",
   "metadata": {},
   "outputs": [],
   "source": [
    "df.write.format('delta').mode('overwrite').save(path)"
   ]
  },
  {
   "cell_type": "code",
   "execution_count": 9,
   "id": "7e788ff9-db59-4232-a5bc-b3811edafa70",
   "metadata": {},
   "outputs": [],
   "source": [
    "deltaTable = DeltaTable.forPath(spark,path)"
   ]
  },
  {
   "cell_type": "code",
   "execution_count": 10,
   "id": "f1932ce2-1212-4c33-808d-6bcd9558329c",
   "metadata": {},
   "outputs": [
    {
     "data": {
      "text/plain": [
       "delta.tables.DeltaTable"
      ]
     },
     "execution_count": 10,
     "metadata": {},
     "output_type": "execute_result"
    }
   ],
   "source": [
    "type(deltaTable)"
   ]
  },
  {
   "cell_type": "code",
   "execution_count": 11,
   "id": "07900862-cc49-44a1-9e60-f36358e13d76",
   "metadata": {},
   "outputs": [],
   "source": [
    "d = spark.read.format('delta').load(path)"
   ]
  },
  {
   "cell_type": "code",
   "execution_count": 12,
   "id": "4d362bfc-ecab-4b5a-8872-d77705650b9f",
   "metadata": {},
   "outputs": [
    {
     "data": {
      "text/plain": [
       "pyspark.sql.dataframe.DataFrame"
      ]
     },
     "execution_count": 12,
     "metadata": {},
     "output_type": "execute_result"
    }
   ],
   "source": [
    "type(d)"
   ]
  },
  {
   "cell_type": "code",
   "execution_count": 14,
   "id": "a637d7ed-01be-4d78-9e07-5eb0c2f2604e",
   "metadata": {},
   "outputs": [
    {
     "name": "stdout",
     "output_type": "stream",
     "text": [
      "+--------------------+----------+---------+-----------+----+-------------+\n",
      "|               email|first_name|last_name|     gender|  id|     username|\n",
      "+--------------------+----------+---------+-----------+----+-------------+\n",
      "|ed.daugherty@emai...|        Ed|Daugherty|Genderqueer|2350| ed.daugherty|\n",
      "|booker.lehner@ema...|    Booker|   Lehner|    Agender|2954|booker.lehner|\n",
      "|josef.beier@email...|     Josef|    Beier| Non-binary|2359|  josef.beier|\n",
      "|donte.zulauf@emai...|     Donte|   Zulauf|       Male|6916| donte.zulauf|\n",
      "|roy.murray@email.com|       Roy|   Murray|    Agender|8822|   roy.murray|\n",
      "+--------------------+----------+---------+-----------+----+-------------+\n",
      "\n"
     ]
    }
   ],
   "source": [
    "deltaTable.toDF().show()"
   ]
  },
  {
   "cell_type": "code",
   "execution_count": 22,
   "id": "7c89432a-8446-413a-afb2-c520878e92e2",
   "metadata": {},
   "outputs": [
    {
     "name": "stdout",
     "output_type": "stream",
     "text": [
      "0\n",
      "1\n",
      "2\n",
      "3\n",
      "4\n",
      "5\n",
      "6\n",
      "7\n",
      "8\n",
      "9\n",
      "10\n",
      "11\n",
      "12\n",
      "13\n",
      "14\n",
      "15\n",
      "16\n",
      "17\n",
      "18\n",
      "19\n"
     ]
    }
   ],
   "source": [
    "## MEGE\n",
    "#NOVOS DADOS\n",
    "raw = loadData(20)"
   ]
  },
  {
   "cell_type": "code",
   "execution_count": 23,
   "id": "fb0bc937-6138-474a-84cb-a51b997417f3",
   "metadata": {},
   "outputs": [
    {
     "name": "stdout",
     "output_type": "stream",
     "text": [
      "+--------------------+----------+----------+-----------+----+-------------------+\n",
      "|               email|first_name| last_name|     gender|  id|           username|\n",
      "+--------------------+----------+----------+-----------+----+-------------------+\n",
      "|dierdre.murazik@e...|   Dierdre|   Murazik|   Bigender|7767|    dierdre.murazik|\n",
      "|roger.mitchell@em...|     Roger|  Mitchell|       Male|1186|     roger.mitchell|\n",
      "|jesusa.kling@emai...|    Jesusa|     Kling|Genderqueer|1092|       jesusa.kling|\n",
      "|marilynn.littel@e...|  Marilynn|    Littel| Non-binary| 138|    marilynn.littel|\n",
      "|cruz.pfeffer@emai...|      Cruz|   Pfeffer|    Agender|4136|       cruz.pfeffer|\n",
      "|lashandra.connell...| Lashandra|  Connelly| Non-binary|2459| lashandra.connelly|\n",
      "|gia.buckridge@ema...|       Gia| Buckridge|Genderfluid|5419|      gia.buckridge|\n",
      "|kieth.daugherty@e...|     Kieth| Daugherty| Non-binary|6062|    kieth.daugherty|\n",
      "|pete.gleason@emai...|      Pete|   Gleason| Non-binary|6940|       pete.gleason|\n",
      "|patricia.kihn@ema...|  Patricia|      Kihn|       Male|5243|      patricia.kihn|\n",
      "|sung.stark@email.com|      Sung|     Stark|Genderfluid|4228|         sung.stark|\n",
      "|ryann.senger@emai...|     Ryann|    Senger|Genderfluid|2043|       ryann.senger|\n",
      "|floyd.abbott@emai...|     Floyd|    Abbott| Non-binary|3112|       floyd.abbott|\n",
      "|warren.mante@emai...|    Warren|     Mante|Genderfluid|7938|       warren.mante|\n",
      "|twanda.stehr@emai...|    Twanda|     Stehr|Genderfluid|6473|       twanda.stehr|\n",
      "| sena.kuhn@email.com|      Sena|      Kuhn|Genderfluid|8182|          sena.kuhn|\n",
      "|kenya.kris@email.com|     Kenya|      Kris| Non-binary|6880|         kenya.kris|\n",
      "|mohammed.altenwer...|  Mohammed|Altenwerth| Polygender|3502|mohammed.altenwerth|\n",
      "|colene.crist@emai...|    Colene|     Crist| Non-binary|7103|       colene.crist|\n",
      "|elinor.morissette...|    Elinor|Morissette|   Bigender|3669|  elinor.morissette|\n",
      "+--------------------+----------+----------+-----------+----+-------------------+\n",
      "\n"
     ]
    }
   ],
   "source": [
    "raw.show()"
   ]
  },
  {
   "cell_type": "code",
   "execution_count": 24,
   "id": "95ab11da-f016-455d-804c-796947ccc5d2",
   "metadata": {},
   "outputs": [],
   "source": [
    "from delta.tables import *\n",
    "from pyspark.sql.functions import *"
   ]
  },
  {
   "cell_type": "code",
   "execution_count": 38,
   "id": "2a1f3423-05a6-44b1-a9c4-43b0b11f6645",
   "metadata": {},
   "outputs": [],
   "source": [
    "deltaTable.alias('process') \\\n",
    "    .merge(\n",
    "        raw.alias('raw'),'process.id = raw.id') \\\n",
    "    .whenNotMatchedInsert(values =  {'email' : col('email') \\\n",
    "                                   ,'first_name' : col('first_name') \\\n",
    "                                   ,'last_name' : col('last_name') \\\n",
    "                                   ,'gender' : col('gender') \\\n",
    "                                   ,'id' : col('id') \\\n",
    "                                   ,'username' : col('username') \\\n",
    "                                    }) \\\n",
    "    .whenMatchedUpdate (set =  {'email' : col('raw.email') \\\n",
    "                               ,'first_name' : col('raw.first_name') \\\n",
    "                               ,'last_name' : col('raw.last_name') \\\n",
    "                               ,'gender' : col('raw.gender') \\\n",
    "                               ,'username' : col('raw.username') \\\n",
    "                                }) \\\n",
    "    .execute()"
   ]
  },
  {
   "cell_type": "code",
   "execution_count": 39,
   "id": "de0d93a7-8cbe-4555-bdf4-7689757277ea",
   "metadata": {},
   "outputs": [],
   "source": [
    "d2 = spark.read.format('delta').load(path)"
   ]
  },
  {
   "cell_type": "code",
   "execution_count": 40,
   "id": "3da11aae-e65f-4edb-afe1-fd861be8a326",
   "metadata": {},
   "outputs": [
    {
     "name": "stdout",
     "output_type": "stream",
     "text": [
      "+-----+----------+---------+---------+---+--------------+\n",
      "|email|first_name|last_name|   gender| id|      username|\n",
      "+-----+----------+---------+---------+---+--------------+\n",
      "|     |     teste|  Stanton|Genderflu|544|nannie.stanton|\n",
      "+-----+----------+---------+---------+---+--------------+\n",
      "\n"
     ]
    }
   ],
   "source": [
    "d2.filter('id = 544').show()"
   ]
  },
  {
   "cell_type": "code",
   "execution_count": 33,
   "id": "0a2bc420-fe9c-4f63-a44c-9ba4e659443e",
   "metadata": {},
   "outputs": [],
   "source": [
    "df_fake = spark.createDataFrame([\n",
    "{\"email\" : \"\", \"first_name\": 'teste', \"last_name\" :    'Stanton' ,   \"gender\":\"Genderflu\", \"id\":544,\"username\": \"nannie.stanton\"}])"
   ]
  },
  {
   "cell_type": "code",
   "execution_count": 34,
   "id": "17744ad4-0f9d-4390-b44d-ebca6da5b7a9",
   "metadata": {},
   "outputs": [
    {
     "name": "stdout",
     "output_type": "stream",
     "text": [
      "+-----+----------+---------+---+---------+--------------+\n",
      "|email|first_name|   gender| id|last_name|      username|\n",
      "+-----+----------+---------+---+---------+--------------+\n",
      "|     |     teste|Genderflu|544|  Stanton|nannie.stanton|\n",
      "+-----+----------+---------+---+---------+--------------+\n",
      "\n"
     ]
    }
   ],
   "source": [
    "df_fake.show()"
   ]
  },
  {
   "cell_type": "code",
   "execution_count": 37,
   "id": "9249c311-88ae-4f4b-86ae-31483607ddff",
   "metadata": {},
   "outputs": [],
   "source": [
    "raw= df_fake"
   ]
  },
  {
   "cell_type": "code",
   "execution_count": null,
   "id": "ad22f0c0-412b-4611-901f-b359d4ba7275",
   "metadata": {},
   "outputs": [],
   "source": []
  }
 ],
 "metadata": {
  "kernelspec": {
   "display_name": "Python 3 (ipykernel)",
   "language": "python",
   "name": "python3"
  },
  "language_info": {
   "codemirror_mode": {
    "name": "ipython",
    "version": 3
   },
   "file_extension": ".py",
   "mimetype": "text/x-python",
   "name": "python",
   "nbconvert_exporter": "python",
   "pygments_lexer": "ipython3",
   "version": "3.10.8"
  }
 },
 "nbformat": 4,
 "nbformat_minor": 5
}
